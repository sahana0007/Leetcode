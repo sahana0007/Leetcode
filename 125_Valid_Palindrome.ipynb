{
  "nbformat": 4,
  "nbformat_minor": 0,
  "metadata": {
    "colab": {
      "name": "125. Valid Palindrome.ipynb",
      "provenance": [],
      "authorship_tag": "ABX9TyO4KAayHYWKF/jtCl3JbTQ2",
      "include_colab_link": true
    },
    "kernelspec": {
      "name": "python3",
      "display_name": "Python 3"
    },
    "language_info": {
      "name": "python"
    }
  },
  "cells": [
    {
      "cell_type": "markdown",
      "metadata": {
        "id": "view-in-github",
        "colab_type": "text"
      },
      "source": [
        "<a href=\"https://colab.research.google.com/github/sahana0007/Leetcode/blob/main/125_Valid_Palindrome.ipynb\" target=\"_parent\"><img src=\"https://colab.research.google.com/assets/colab-badge.svg\" alt=\"Open In Colab\"/></a>"
      ]
    },
    {
      "cell_type": "code",
      "execution_count": 1,
      "metadata": {
        "colab": {
          "base_uri": "https://localhost:8080/"
        },
        "id": "o_599MolLaIa",
        "outputId": "1d9fefd0-8168-415f-a926-0dd4e5671d7f"
      },
      "outputs": [
        {
          "output_type": "stream",
          "name": "stdout",
          "text": [
            "True\n"
          ]
        }
      ],
      "source": [
        "class Solution:\n",
        "    def isPalindrome(self, s: str) -> bool:\n",
        "        s = s.lower()\n",
        "        \n",
        "        left = 0\n",
        "        right = len(s) -1\n",
        "        \n",
        "        while(left<right):\n",
        "            if s[left] == s[right]:\n",
        "                left+=1\n",
        "                right-=1\n",
        "                continue\n",
        "            elif not s[left].isalnum():\n",
        "                left+=1\n",
        "            elif not s[right].isalnum():\n",
        "                right-=1\n",
        "            else:\n",
        "                return False\n",
        "        return True\n",
        "                    \n",
        "\n",
        "s = \"A man, a plan, a canal: Panama\"\n",
        "ob1 = Solution()\n",
        "print(ob1.isPalindrome(s))"
      ]
    }
  ]
}