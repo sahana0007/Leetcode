{
  "nbformat": 4,
  "nbformat_minor": 0,
  "metadata": {
    "colab": {
      "name": "TwoSum_Hashmap.ipynb",
      "provenance": [],
      "authorship_tag": "ABX9TyPkMaDjDZ9NyHMQ50S7aXf5",
      "include_colab_link": true
    },
    "kernelspec": {
      "name": "python3",
      "display_name": "Python 3"
    },
    "language_info": {
      "name": "python"
    }
  },
  "cells": [
    {
      "cell_type": "markdown",
      "metadata": {
        "id": "view-in-github",
        "colab_type": "text"
      },
      "source": [
        "<a href=\"https://colab.research.google.com/github/sahana0007/Leetcode/blob/main/TwoSum_Hashmap.ipynb\" target=\"_parent\"><img src=\"https://colab.research.google.com/assets/colab-badge.svg\" alt=\"Open In Colab\"/></a>"
      ]
    },
    {
      "cell_type": "code",
      "execution_count": 11,
      "metadata": {
        "id": "SSQey6q9sxaG",
        "colab": {
          "base_uri": "https://localhost:8080/"
        },
        "outputId": "a35e8868-8e39-4ae3-c30a-746a299e29f0"
      },
      "outputs": [
        {
          "output_type": "stream",
          "name": "stdout",
          "text": [
            "[1, 3]\n"
          ]
        }
      ],
      "source": [
        "from typing import List\n",
        "class Solution:\n",
        "  def twoSum_Hashmap(self,nums: List[int], target: int) -> List[int]:\n",
        "    dict={} #key, value ie nums, index\n",
        "    for i in range(len(nums)):\n",
        "      diff = target - nums[i]\n",
        "\n",
        "      if diff in dict:\n",
        "        return [dict[diff], i]\n",
        "      else:\n",
        "        dict[nums[i]]  = i #inserting current element into the dictionary that corresponds to the index\n",
        "    return None\n",
        "\n",
        "input_list = [2,8,12,15]\n",
        "ob1 = Solution()\n",
        "print(ob1.twoSum_Hashmap(input_list, 23))\n",
        "        "
      ]
    }
  ]
}