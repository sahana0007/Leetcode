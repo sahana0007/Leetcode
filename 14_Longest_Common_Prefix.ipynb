{
  "nbformat": 4,
  "nbformat_minor": 0,
  "metadata": {
    "colab": {
      "name": "14 Longest Common Prefix.ipynb",
      "provenance": [],
      "collapsed_sections": [],
      "authorship_tag": "ABX9TyMVOcTfUciN6BzHSrk7US2k",
      "include_colab_link": true
    },
    "kernelspec": {
      "name": "python3",
      "display_name": "Python 3"
    },
    "language_info": {
      "name": "python"
    }
  },
  "cells": [
    {
      "cell_type": "markdown",
      "metadata": {
        "id": "view-in-github",
        "colab_type": "text"
      },
      "source": [
        "<a href=\"https://colab.research.google.com/github/sahana0007/Leetcode/blob/main/14_Longest_Common_Prefix.ipynb\" target=\"_parent\"><img src=\"https://colab.research.google.com/assets/colab-badge.svg\" alt=\"Open In Colab\"/></a>"
      ]
    },
    {
      "cell_type": "markdown",
      "source": [
        "Best approach"
      ],
      "metadata": {
        "id": "8wka-iWiYnyE"
      }
    },
    {
      "cell_type": "code",
      "source": [
        "from typing import List\n",
        "class Solution:\n",
        "    def longestCommonPrefix(self, strs: List[str]) -> str:\n",
        "        \n",
        "        minstr = float('inf')\n",
        "        res = \"\"\n",
        "        \n",
        "        if len(strs) == 0:\n",
        "            return \"\"\n",
        "        \n",
        "        for i in range(len(strs)):\n",
        "            if minstr > len(strs[i]):\n",
        "                minstr = len(strs[i])\n",
        "                res = strs[i]\n",
        "                \n",
        "        for i in range(len(res)): #0\n",
        "            for j in strs: \n",
        "                if res[i] != j[i]:\n",
        "                    return res[:i]\n",
        "        return res\n",
        "\n",
        "strs = [\"flower\",\"flow\",\"flight\"]\n",
        "ob1 = Solution()\n",
        "print(ob1.longestCommonPrefix(strs))"
      ],
      "metadata": {
        "colab": {
          "base_uri": "https://localhost:8080/"
        },
        "id": "PtgU1fYqYmit",
        "outputId": "38b7db62-3e1b-4bcc-fcbb-fd357bafc11c"
      },
      "execution_count": 2,
      "outputs": [
        {
          "output_type": "stream",
          "name": "stdout",
          "text": [
            "fl\n"
          ]
        }
      ]
    },
    {
      "cell_type": "code",
      "execution_count": null,
      "metadata": {
        "id": "MyBf5_681Lhd"
      },
      "outputs": [],
      "source": [
        "from typing import List\n",
        "class Solution:\n",
        "    def longestCommonPrefix(self, strs: List[str]) -> str:\n",
        "        \n",
        "        if len(strs) ==0:\n",
        "            return \"\"\n",
        "        \n",
        "        \n",
        "    #find smallest length of words present in the list and assign to min length\n",
        "    #if consecutive letters are same, then return the string else return empty string\n",
        "        N = len(strs)\n",
        "        minL = len(strs[0])\n",
        "\n",
        "        for i in range(N):\n",
        "            minL = min(len(strs[i]),minL)\n",
        "            \n",
        "        res = \"\"\n",
        "        \n",
        "        i = 0\n",
        "        while i <minL:\n",
        "            char = strs[0][i]\n",
        "            \n",
        "            for j in range(N):\n",
        "                if strs[j][i] != char:\n",
        "                    return res\n",
        "                elif len(strs) ==1:\n",
        "                    return char\n",
        "            res = res +char\n",
        "            i +=1\n",
        "        \n",
        "        return res\n",
        "            \n",
        "\n",
        "strs = [\"flower\",\"flow\",\"flight\"]\n",
        "ob1 = Solution()\n",
        "print(ob1.longestCommonPrefix(strs))"
      ]
    }
  ]
}