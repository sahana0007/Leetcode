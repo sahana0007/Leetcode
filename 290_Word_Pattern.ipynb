{
  "nbformat": 4,
  "nbformat_minor": 0,
  "metadata": {
    "colab": {
      "name": "290. Word Pattern.ipynb",
      "provenance": [],
      "authorship_tag": "ABX9TyPur/3PNXRnEpQvnD+g3VkT",
      "include_colab_link": true
    },
    "kernelspec": {
      "name": "python3",
      "display_name": "Python 3"
    },
    "language_info": {
      "name": "python"
    }
  },
  "cells": [
    {
      "cell_type": "markdown",
      "metadata": {
        "id": "view-in-github",
        "colab_type": "text"
      },
      "source": [
        "<a href=\"https://colab.research.google.com/github/sahana0007/Leetcode/blob/main/290_Word_Pattern.ipynb\" target=\"_parent\"><img src=\"https://colab.research.google.com/assets/colab-badge.svg\" alt=\"Open In Colab\"/></a>"
      ]
    },
    {
      "cell_type": "code",
      "execution_count": null,
      "metadata": {
        "colab": {
          "base_uri": "https://localhost:8080/"
        },
        "id": "kht-LC2rylRn",
        "outputId": "76fedfbf-d912-4356-d011-356632c6348f"
      },
      "outputs": [
        {
          "output_type": "stream",
          "name": "stdout",
          "text": [
            "True\n"
          ]
        }
      ],
      "source": [
        "class Solution:\n",
        "    def wordPattern(self, pattern: str, s: str) -> bool:\n",
        "      words = s.split(\" \")\n",
        "\n",
        "      if len(pattern)!= len(words):\n",
        "        return False\n",
        "      d = {}\n",
        "      for i in range(len(words)):\n",
        "        if pattern[i] not in d:\n",
        "          if words[i] in d.values(): #check whether the word is already present or not\n",
        "            return False\n",
        "          d[pattern[i]] = words[i] #add to keys in dictionary\n",
        "        else:\n",
        "          if d[pattern[i]] != words[i]:\n",
        "            return False\n",
        "      return True\n",
        "\n",
        "\n",
        "pattern = \"abba\"\n",
        "s = \"dog cat cat dog\"\n",
        "ob1 = Solution()\n",
        "print(ob1.wordPattern(pattern, s))"
      ]
    }
  ]
}