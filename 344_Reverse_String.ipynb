{
  "nbformat": 4,
  "nbformat_minor": 0,
  "metadata": {
    "colab": {
      "name": "344. Reverse String.ipynb",
      "provenance": [],
      "authorship_tag": "ABX9TyOgO953lBgj5sw9ltyAk0vC",
      "include_colab_link": true
    },
    "kernelspec": {
      "name": "python3",
      "display_name": "Python 3"
    },
    "language_info": {
      "name": "python"
    }
  },
  "cells": [
    {
      "cell_type": "markdown",
      "metadata": {
        "id": "view-in-github",
        "colab_type": "text"
      },
      "source": [
        "<a href=\"https://colab.research.google.com/github/sahana0007/Leetcode/blob/main/344_Reverse_String.ipynb\" target=\"_parent\"><img src=\"https://colab.research.google.com/assets/colab-badge.svg\" alt=\"Open In Colab\"/></a>"
      ]
    },
    {
      "cell_type": "code",
      "execution_count": 2,
      "metadata": {
        "id": "FUaHYOVyNJz2"
      },
      "outputs": [],
      "source": [
        "from typing import List\n",
        "\n",
        "#Solution 1 : Recursive: by calling a function within a function, we are memorizing the last time we called the function by creating Recursive stack that costs memory\n",
        "class Solution(object):\n",
        "    def reverseString(self, s):\n",
        "        def helper(left, right):\n",
        "            if left<right:\n",
        "                s[left], s[right] = s[right], s[left] #swapping\n",
        "                helper(left + 1, right -1)\n",
        "        helper(0,len(s)-1)\n",
        "\n",
        "\n",
        "#Solution 2 : Iterative function : By this we will use constant memory and so, TC = O(N)\n",
        "\n",
        "class Solution(object):\n",
        "    def reverseString(self, s):\n",
        "        left, right = 0, len(s) -1\n",
        "        while left<right:\n",
        "            s[left], s[right] = s[right], s[left] #swapping\n",
        "            left, right = left +1, right -1\n",
        "\n",
        "\n"
      ]
    }
  ]
}