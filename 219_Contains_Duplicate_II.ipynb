{
  "nbformat": 4,
  "nbformat_minor": 0,
  "metadata": {
    "colab": {
      "name": "219. Contains Duplicate II.ipynb",
      "provenance": [],
      "authorship_tag": "ABX9TyM1304yXlI1Vfs+pYJVQEvz",
      "include_colab_link": true
    },
    "kernelspec": {
      "name": "python3",
      "display_name": "Python 3"
    },
    "language_info": {
      "name": "python"
    }
  },
  "cells": [
    {
      "cell_type": "markdown",
      "metadata": {
        "id": "view-in-github",
        "colab_type": "text"
      },
      "source": [
        "<a href=\"https://colab.research.google.com/github/sahana0007/Leetcode/blob/main/219_Contains_Duplicate_II.ipynb\" target=\"_parent\"><img src=\"https://colab.research.google.com/assets/colab-badge.svg\" alt=\"Open In Colab\"/></a>"
      ]
    },
    {
      "cell_type": "markdown",
      "source": [
        "Approach I"
      ],
      "metadata": {
        "id": "KuyarJfjfkz7"
      }
    },
    {
      "cell_type": "code",
      "execution_count": 3,
      "metadata": {
        "colab": {
          "base_uri": "https://localhost:8080/"
        },
        "id": "s7rzVYqnfdIh",
        "outputId": "a1c49197-d572-418e-d334-8aa0b7b7b76f"
      },
      "outputs": [
        {
          "output_type": "stream",
          "name": "stdout",
          "text": [
            "False\n"
          ]
        }
      ],
      "source": [
        "from typing import List\n",
        "class Solution:\n",
        "    def containsNearbyDuplicate(self, nums: List[int], k: int) -> bool:\n",
        "        N = len(nums)\n",
        "        \n",
        "        for i in range(N):\n",
        "            for j in range(N):\n",
        "                if (i ==j):\n",
        "                    continue\n",
        "                if nums[i] == nums[j] and abs(i - j) <= k:\n",
        "                    return True\n",
        "        return False\n",
        "\n",
        "nums = [1,2,3,1,2,3]\n",
        "k = 2\n",
        "ob1 = Solution()\n",
        "print(ob1.containsNearbyDuplicate(nums,k))"
      ]
    },
    {
      "cell_type": "markdown",
      "source": [
        "Approach II\n",
        "\n",
        "Given an integer array nums and an integer k, return true if there are two distinct indices i and j in the array such that nums[i] == nums[j] and abs(i - j) <= k.\n",
        "\n",
        "Input: nums = [1,2,3,1], k = 3\n",
        "\n",
        "Output: true"
      ],
      "metadata": {
        "id": "RpNW68l3fsft"
      }
    },
    {
      "cell_type": "code",
      "source": [
        "class Solution:\n",
        "    def containsNearbyDuplicate(self, nums: List[int], k: int) -> bool:\n",
        "      hashmap = {}\n",
        "      # [1,2,3,1] {0:1, 1:2, 2:3, 3:1}\n",
        "      \n",
        "      for i, value in enumerate(nums):\n",
        "        if (value in hashmap and i-hashmap[value] <=k):\n",
        "          return True\n",
        "        hashmap[value] = i\n",
        "      return False\n",
        "\n",
        "nums = [1,2,3,1,2,3]\n",
        "k = 2\n",
        "ob1 = Solution()\n",
        "print(ob1.containsNearbyDuplicate(nums,k))"
      ],
      "metadata": {
        "colab": {
          "base_uri": "https://localhost:8080/"
        },
        "id": "NUPb61VDfiuT",
        "outputId": "a4b03248-c073-4a81-eaac-29d9600d9c42"
      },
      "execution_count": 4,
      "outputs": [
        {
          "output_type": "stream",
          "name": "stdout",
          "text": [
            "False\n"
          ]
        }
      ]
    }
  ]
}