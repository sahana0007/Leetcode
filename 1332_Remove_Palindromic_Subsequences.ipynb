{
  "nbformat": 4,
  "nbformat_minor": 0,
  "metadata": {
    "colab": {
      "name": "1332. Remove Palindromic Subsequences.ipynb",
      "provenance": [],
      "authorship_tag": "ABX9TyNAdGuTq3F1m7XI2/SBhszl",
      "include_colab_link": true
    },
    "kernelspec": {
      "name": "python3",
      "display_name": "Python 3"
    },
    "language_info": {
      "name": "python"
    }
  },
  "cells": [
    {
      "cell_type": "markdown",
      "metadata": {
        "id": "view-in-github",
        "colab_type": "text"
      },
      "source": [
        "<a href=\"https://colab.research.google.com/github/sahana0007/Leetcode/blob/main/1332_Remove_Palindromic_Subsequences.ipynb\" target=\"_parent\"><img src=\"https://colab.research.google.com/assets/colab-badge.svg\" alt=\"Open In Colab\"/></a>"
      ]
    },
    {
      "cell_type": "code",
      "execution_count": 2,
      "metadata": {
        "colab": {
          "base_uri": "https://localhost:8080/"
        },
        "id": "nWRYM9qs-L0l",
        "outputId": "0f2ee8af-7752-4f13-b9bc-09c709584ef4"
      },
      "outputs": [
        {
          "output_type": "stream",
          "name": "stdout",
          "text": [
            "1\n"
          ]
        }
      ],
      "source": [
        "class Solution:\n",
        "    def removePalindromeSub(self, s: str) -> int:\n",
        "        left = 0\n",
        "        right = len(s) -1\n",
        "        if not s:\n",
        "            return 0\n",
        "        for i in range(len(s)):\n",
        "            if s[left] != s[right]:\n",
        "                return 2\n",
        "            left+=1\n",
        "            right-=1\n",
        "        return 1\n",
        "\n",
        "s = \"ababa\"\n",
        "ob1 = Solution()\n",
        "print(ob1.removePalindromeSub(s))"
      ]
    }
  ]
}