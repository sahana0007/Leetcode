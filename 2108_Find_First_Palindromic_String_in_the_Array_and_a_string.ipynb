{
  "nbformat": 4,
  "nbformat_minor": 0,
  "metadata": {
    "colab": {
      "name": "2108. Find First Palindromic String in the Array and a string.ipynb",
      "provenance": [],
      "authorship_tag": "ABX9TyNxTsN1gbIJEkAp56jeHqfA",
      "include_colab_link": true
    },
    "kernelspec": {
      "name": "python3",
      "display_name": "Python 3"
    },
    "language_info": {
      "name": "python"
    }
  },
  "cells": [
    {
      "cell_type": "markdown",
      "metadata": {
        "id": "view-in-github",
        "colab_type": "text"
      },
      "source": [
        "<a href=\"https://colab.research.google.com/github/sahana0007/Leetcode/blob/main/2108_Find_First_Palindromic_String_in_the_Array_and_a_string.ipynb\" target=\"_parent\"><img src=\"https://colab.research.google.com/assets/colab-badge.svg\" alt=\"Open In Colab\"/></a>"
      ]
    },
    {
      "cell_type": "markdown",
      "source": [
        "Given an array of strings words, return the first palindromic string in the array. If there is no such string, return an empty string \"\".\n",
        "\n",
        "A string is palindromic if it reads the same forward and backward."
      ],
      "metadata": {
        "id": "SHZQSkwPLI0E"
      }
    },
    {
      "cell_type": "code",
      "execution_count": 24,
      "metadata": {
        "colab": {
          "base_uri": "https://localhost:8080/"
        },
        "id": "l2ytw8fzKq4G",
        "outputId": "46521a00-e876-482d-dafb-d5e0f8d0a6cb"
      },
      "outputs": [
        {
          "output_type": "stream",
          "name": "stdout",
          "text": [
            "False\n"
          ]
        }
      ],
      "source": [
        "from typing import List\n",
        "\n",
        "'''\n",
        "#using reverse\n",
        "\n",
        "class Solution:\n",
        "    def firstPalindrome(self, words: List[str]) -> str:\n",
        "        for i in words:\n",
        "            if i == i[::-1]:\n",
        "                return i\n",
        "        return \"\"\n",
        "\n",
        "input_list = [\"abc\",\"car\",\"ada\",\"racecar\",\"cool\"]\n",
        "ob1 = Solution()\n",
        "print(ob1.firstPalindrome(input_list))\n",
        "\n",
        "'''\n",
        "'''\n",
        "#using two pointers\n",
        "class Solution:\n",
        "    def firstPalindrome(self, words: str) -> bool:\n",
        "      words = words.lower().replace(' ', '')\n",
        "      left, right = 0, len(words) -1\n",
        "      while left <=right:\n",
        "        if words[left] == words[right]:\n",
        "          return True\n",
        "        else:\n",
        "          return False\n",
        "      return True\n",
        "\n",
        "input_list = \"Was it a car or a cat I saw\"\n",
        "ob1 = Solution()\n",
        "print(ob1.firstPalindrome(input_list))\n",
        "'''\n",
        "#using two pointers\n",
        "class Solution:\n",
        "    def firstPalindrome(self, words: str) -> bool:\n",
        "      left, right = 0, len(words) -1\n",
        "      while left <=right:\n",
        "        if words[left] == words[right]:\n",
        "          return True\n",
        "        else:\n",
        "          return False\n",
        "      return True\n",
        "\n",
        "input_list = \"abac\"\n",
        "ob1 = Solution()\n",
        "print(ob1.firstPalindrome(input_list))\n"
      ]
    }
  ]
}