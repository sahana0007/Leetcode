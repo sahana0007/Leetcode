{
  "nbformat": 4,
  "nbformat_minor": 0,
  "metadata": {
    "colab": {
      "name": "Valid Anagram.ipynb",
      "provenance": [],
      "authorship_tag": "ABX9TyNmNMggWhin6UXGdoQx3MYg",
      "include_colab_link": true
    },
    "kernelspec": {
      "name": "python3",
      "display_name": "Python 3"
    },
    "language_info": {
      "name": "python"
    }
  },
  "cells": [
    {
      "cell_type": "markdown",
      "metadata": {
        "id": "view-in-github",
        "colab_type": "text"
      },
      "source": [
        "<a href=\"https://colab.research.google.com/github/sahana0007/Leetcode/blob/main/242.Valid_Anagram.ipynb\" target=\"_parent\"><img src=\"https://colab.research.google.com/assets/colab-badge.svg\" alt=\"Open In Colab\"/></a>"
      ]
    },
    {
      "cell_type": "markdown",
      "source": [
        "Given two strings s and t, return true if t is an anagram of s, and false otherwise.\n",
        "\n",
        "An Anagram is a word or phrase formed by rearranging the letters of a different word or phrase, typically using all the original letters exactly once."
      ],
      "metadata": {
        "id": "oj9619rbsnIL"
      }
    },
    {
      "cell_type": "markdown",
      "source": [
        "Input: s = \"anagram\", t = \"nagaram\"\n",
        "Output: true"
      ],
      "metadata": {
        "id": "kiTw1jdMshzi"
      }
    },
    {
      "cell_type": "code",
      "execution_count": 10,
      "metadata": {
        "colab": {
          "base_uri": "https://localhost:8080/"
        },
        "id": "FalZuNjWsOZ4",
        "outputId": "70a9f94a-7427-4103-8591-ec4ec8b477d6"
      },
      "outputs": [
        {
          "output_type": "stream",
          "name": "stdout",
          "text": [
            "True\n"
          ]
        }
      ],
      "source": [
        "class Solution:\n",
        "    def isAnagram(self, s: str, t: str) -> bool:\n",
        "        if len(s) != len(t):\n",
        "            return False\n",
        "        \n",
        "        dict ={}\n",
        "        for i in s:\n",
        "            if i not in dict: #empty dictionary or value is absent\n",
        "                dict[i] =1 #assign letter to dictionary\n",
        "            else:\n",
        "                dict[i] +=1 #adds the number of times the value is present ie counter\n",
        "        \n",
        "        for j in t:\n",
        "            if j not in dict:\n",
        "                return False\n",
        "            else:\n",
        "                dict[j] -=1\n",
        "                if dict[j] <0:\n",
        "                    return False\n",
        "        \n",
        "        for val in dict.values():\n",
        "            if val !=0:\n",
        "                return False\n",
        "        return True\n",
        "\n",
        "s = \"anagram\"\n",
        "t = \"nagaram\"\n",
        "ob1 = Solution()\n",
        "print(ob1.isAnagram(s,t))"
      ]
    }
  ]
}