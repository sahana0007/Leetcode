{
  "nbformat": 4,
  "nbformat_minor": 0,
  "metadata": {
    "colab": {
      "name": "1160. Find Words That Can Be Formed by Characters.ipynb",
      "provenance": [],
      "authorship_tag": "ABX9TyOKWXewhkIyq//dkRMm3hav",
      "include_colab_link": true
    },
    "kernelspec": {
      "name": "python3",
      "display_name": "Python 3"
    },
    "language_info": {
      "name": "python"
    }
  },
  "cells": [
    {
      "cell_type": "markdown",
      "metadata": {
        "id": "view-in-github",
        "colab_type": "text"
      },
      "source": [
        "<a href=\"https://colab.research.google.com/github/sahana0007/Leetcode/blob/main/1160_Find_Words_That_Can_Be_Formed_by_Characters.ipynb\" target=\"_parent\"><img src=\"https://colab.research.google.com/assets/colab-badge.svg\" alt=\"Open In Colab\"/></a>"
      ]
    },
    {
      "cell_type": "markdown",
      "source": [
        "You are given an array of strings words and a string chars.\n",
        "\n",
        "A string is good if it can be formed by characters from chars (each character can only be used once).\n",
        "\n",
        "Return the sum of lengths of all good strings in words."
      ],
      "metadata": {
        "id": "aeudB4xazwCI"
      }
    },
    {
      "cell_type": "code",
      "execution_count": 4,
      "metadata": {
        "colab": {
          "base_uri": "https://localhost:8080/"
        },
        "id": "Tw_dSLAfyoam",
        "outputId": "8116b304-e2a9-429e-cb82-8ba3a2ba5b03"
      },
      "outputs": [
        {
          "output_type": "stream",
          "name": "stdout",
          "text": [
            "6\n"
          ]
        }
      ],
      "source": [
        "from typing import List\n",
        "class Solution:\n",
        "    def countCharacters(self, words: List[str], chars: str) -> int:\n",
        "        count =0     \n",
        "        for word in words:\n",
        "            ifpossible = True\n",
        "            for i in word:\n",
        "                if word.count(i) > chars.count(i):\n",
        "                    ifpossible = False\n",
        "                    break\n",
        "            if ifpossible:\n",
        "                count +=len(word)\n",
        "        return count\n",
        "\n",
        "words = [\"cat\",\"bt\",\"hat\",\"tree\"]\n",
        "chars = \"atach\"\n",
        "ob1 = Solution()\n",
        "print(ob1.countCharacters(words,chars))\n"
      ]
    }
  ]
}