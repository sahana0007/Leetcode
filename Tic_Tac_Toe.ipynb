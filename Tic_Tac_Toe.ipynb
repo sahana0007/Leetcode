{
  "nbformat": 4,
  "nbformat_minor": 0,
  "metadata": {
    "colab": {
      "provenance": [],
      "authorship_tag": "ABX9TyPYIAXn5fI7QEWg2V4uGhpj",
      "include_colab_link": true
    },
    "kernelspec": {
      "name": "python3",
      "display_name": "Python 3"
    },
    "language_info": {
      "name": "python"
    }
  },
  "cells": [
    {
      "cell_type": "markdown",
      "metadata": {
        "id": "view-in-github",
        "colab_type": "text"
      },
      "source": [
        "<a href=\"https://colab.research.google.com/github/sahana0007/Leetcode/blob/main/Tic_Tac_Toe.ipynb\" target=\"_parent\"><img src=\"https://colab.research.google.com/assets/colab-badge.svg\" alt=\"Open In Colab\"/></a>"
      ]
    },
    {
      "cell_type": "markdown",
      "source": [
        "Board"
      ],
      "metadata": {
        "id": "X7i1M1pREAbc"
      }
    },
    {
      "cell_type": "code",
      "execution_count": null,
      "metadata": {
        "id": "40-JWb8lD6pT",
        "colab": {
          "base_uri": "https://localhost:8080/"
        },
        "outputId": "22abd1c1-0ccb-4b8c-f363-9b92588c6ef9"
      },
      "outputs": [
        {
          "output_type": "stream",
          "name": "stdout",
          "text": [
            "['  ', '  ', '  ', '  ', '  ', '  ', '  ', '  ', '  ']\n"
          ]
        }
      ],
      "source": [
        "board=[\"  \" for i in range(9)]\n",
        "print(board)"
      ]
    },
    {
      "cell_type": "code",
      "source": [
        "def print_board():\n",
        "  row1 = \"|{}|{}|{}|\".format(board[0],board[1],board[2])\n",
        "  row2 = \"|{}|{}|{}|\".format(board[3],board[4],board[5])\n",
        "  row3 = \"|{}|{}|{}|\".format(board[6],board[7],board[8])\n",
        "\n",
        "\n",
        "  print()\n",
        "  print(row1)\n",
        "  print(row2)\n",
        "  print(row3)\n",
        "  print()\n",
        "\n",
        "print_board()\n",
        "\n",
        "def player_move(icon):\n",
        "  if icon ==\"X\":\n",
        "    number = 1\n",
        "  elif icon ==\"O\":\n",
        "    number = 2\n",
        "\n",
        "  print(\"your turn player {}\".format(number))\n",
        "  \n",
        "  choice = int(input(\"Enter your move(1-9):\").strip())\n",
        "  if board[choice -1] ==\" \":\n",
        "    board[choice -1] =\"X\"\n",
        "  else:\n",
        "    print()\n",
        "    print(\"the space is taken\")\n",
        "\n",
        "while True:\n",
        "  print_board()\n",
        "  player_move(\"X\")\n",
        "  print_board()\n",
        "  player_move(\"O\")\n"
      ],
      "metadata": {
        "id": "nWP8DZ85Jyid"
      },
      "execution_count": null,
      "outputs": []
    },
    {
      "cell_type": "code",
      "source": [],
      "metadata": {
        "id": "JLcv4IxGJylF"
      },
      "execution_count": null,
      "outputs": []
    },
    {
      "cell_type": "code",
      "source": [],
      "metadata": {
        "id": "NHVTEJttJyne"
      },
      "execution_count": null,
      "outputs": []
    },
    {
      "cell_type": "code",
      "source": [],
      "metadata": {
        "id": "LE3Y6HnZJyqG"
      },
      "execution_count": null,
      "outputs": []
    },
    {
      "cell_type": "code",
      "source": [],
      "metadata": {
        "id": "j6ql_PBGJytK"
      },
      "execution_count": null,
      "outputs": []
    }
  ]
}