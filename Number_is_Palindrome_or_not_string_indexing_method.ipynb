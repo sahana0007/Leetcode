{
  "nbformat": 4,
  "nbformat_minor": 0,
  "metadata": {
    "colab": {
      "name": "Number is Palindrome or not - string indexing method.ipynb",
      "provenance": [],
      "authorship_tag": "ABX9TyNbTq/rSU2A4+LR/xfGgULz",
      "include_colab_link": true
    },
    "kernelspec": {
      "name": "python3",
      "display_name": "Python 3"
    },
    "language_info": {
      "name": "python"
    }
  },
  "cells": [
    {
      "cell_type": "markdown",
      "metadata": {
        "id": "view-in-github",
        "colab_type": "text"
      },
      "source": [
        "<a href=\"https://colab.research.google.com/github/sahana0007/Leetcode/blob/main/Number_is_Palindrome_or_not_string_indexing_method.ipynb\" target=\"_parent\"><img src=\"https://colab.research.google.com/assets/colab-badge.svg\" alt=\"Open In Colab\"/></a>"
      ]
    },
    {
      "cell_type": "code",
      "execution_count": 3,
      "metadata": {
        "colab": {
          "base_uri": "https://localhost:8080/"
        },
        "id": "b7RhsLS5S0O7",
        "outputId": "24ae07b0-ce01-4a94-9927-f454dc373b8a"
      },
      "outputs": [
        {
          "output_type": "stream",
          "name": "stdout",
          "text": [
            "True\n"
          ]
        }
      ],
      "source": [
        "a_number = 123454321\n",
        "def palindrome(number):\n",
        "    number = str(number) #converts the number to string\n",
        "    return number == number[::-1]  #reverses the number and checks \n",
        "print(palindrome(a_number))"
      ]
    }
  ]
}