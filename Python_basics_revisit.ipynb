{
  "nbformat": 4,
  "nbformat_minor": 0,
  "metadata": {
    "colab": {
      "provenance": [],
      "authorship_tag": "ABX9TyPWJz7r3BKCULH4PW8xUA6X",
      "include_colab_link": true
    },
    "kernelspec": {
      "name": "python3",
      "display_name": "Python 3"
    },
    "language_info": {
      "name": "python"
    }
  },
  "cells": [
    {
      "cell_type": "markdown",
      "metadata": {
        "id": "view-in-github",
        "colab_type": "text"
      },
      "source": [
        "<a href=\"https://colab.research.google.com/github/sahana0007/Leetcode/blob/main/Python_basics_revisit.ipynb\" target=\"_parent\"><img src=\"https://colab.research.google.com/assets/colab-badge.svg\" alt=\"Open In Colab\"/></a>"
      ]
    },
    {
      "cell_type": "markdown",
      "source": [
        "LET'S HAVE SOME FUN"
      ],
      "metadata": {
        "id": "IPnMRG3499fQ"
      }
    },
    {
      "cell_type": "code",
      "execution_count": null,
      "metadata": {
        "colab": {
          "base_uri": "https://localhost:8080/"
        },
        "id": "aADYZNaEpZg6",
        "outputId": "d2c74b66-7f1f-498c-98a3-1aab6e078bee"
      },
      "outputs": [
        {
          "output_type": "stream",
          "name": "stdout",
          "text": [
            "76\n"
          ]
        }
      ],
      "source": [
        "import random\n",
        "health = 50\n",
        "difficulty = 1\n",
        "potion_health = int(random.randint(25,50) /difficulty)\n",
        "\n",
        "health = health + potion_health\n",
        "\n",
        "print(health)\n"
      ]
    },
    {
      "cell_type": "code",
      "source": [
        "name  = input(\"whats your name\").strip()\n",
        "age = input(\"whats your age\").strip()\n",
        "string = \"Your name is {} and you are {} years old and your health potion is {}\"\n",
        "output = string.format(name,age,health)\n",
        "#Print output to screen\n",
        "print(output)"
      ],
      "metadata": {
        "colab": {
          "base_uri": "https://localhost:8080/"
        },
        "id": "LGK_ScCvtwho",
        "outputId": "97f3945d-a250-4b79-9bea-50cb5c54b800"
      },
      "execution_count": null,
      "outputs": [
        {
          "output_type": "stream",
          "name": "stdout",
          "text": [
            "whats your namesan  \n",
            "whats your age65  \n",
            "Your name is san and you are 65 years old and your health potion is 76\n"
          ]
        }
      ]
    },
    {
      "cell_type": "markdown",
      "source": [
        "String methods -> string.method()"
      ],
      "metadata": {
        "id": "2YCsiQXMvtjk"
      }
    },
    {
      "cell_type": "code",
      "source": [
        "\"hello\".count(\"e\")"
      ],
      "metadata": {
        "colab": {
          "base_uri": "https://localhost:8080/"
        },
        "id": "3PDWhelGvsTI",
        "outputId": "8e717925-7c08-4cf4-8e7b-1f63555d41ac"
      },
      "execution_count": null,
      "outputs": [
        {
          "output_type": "execute_result",
          "data": {
            "text/plain": [
              "1"
            ]
          },
          "metadata": {},
          "execution_count": 6
        }
      ]
    },
    {
      "cell_type": "code",
      "source": [
        "x = \"suniytoh\"\n",
        "x.title()\n",
        "print(x)"
      ],
      "metadata": {
        "colab": {
          "base_uri": "https://localhost:8080/"
        },
        "id": "wEPYd0lJv74Y",
        "outputId": "5955f179-8077-444f-ae39-1754bc828008"
      },
      "execution_count": null,
      "outputs": [
        {
          "output_type": "stream",
          "name": "stdout",
          "text": [
            "suniytoh\n"
          ]
        }
      ]
    },
    {
      "cell_type": "code",
      "source": [
        "x.find(\"t\")\n",
        "x.find(\"jljihuh\")"
      ],
      "metadata": {
        "colab": {
          "base_uri": "https://localhost:8080/"
        },
        "id": "RlOh7f69w47o",
        "outputId": "8c7ba67c-1dbe-4c95-d03e-683b8cc2935c"
      },
      "execution_count": null,
      "outputs": [
        {
          "output_type": "execute_result",
          "data": {
            "text/plain": [
              "-1"
            ]
          },
          "metadata": {},
          "execution_count": 12
        }
      ]
    },
    {
      "cell_type": "code",
      "source": [
        "y  = \"0000jgyhkjhvg0000\"\n",
        "y.strip(\"0\")\n",
        "print(y)\n"
      ],
      "metadata": {
        "colab": {
          "base_uri": "https://localhost:8080/"
        },
        "id": "OiqGBo8LxO8K",
        "outputId": "13b8ab94-9168-4e47-e37a-b5ad2aef5fa7"
      },
      "execution_count": null,
      "outputs": [
        {
          "output_type": "stream",
          "name": "stdout",
          "text": [
            "0000j0000\n"
          ]
        }
      ]
    },
    {
      "cell_type": "markdown",
      "source": [
        "Slicing\n",
        "\n",
        "variable[start:end:step]"
      ],
      "metadata": {
        "id": "UVan5AROycuW"
      }
    },
    {
      "cell_type": "code",
      "source": [
        "word  = \"supercali\"\n",
        "word[0:3:1]"
      ],
      "metadata": {
        "colab": {
          "base_uri": "https://localhost:8080/",
          "height": 35
        },
        "id": "fKSO3uOnyYgA",
        "outputId": "e174638c-b385-4787-c2c6-4984c197648f"
      },
      "execution_count": null,
      "outputs": [
        {
          "output_type": "execute_result",
          "data": {
            "text/plain": [
              "'sup'"
            ],
            "application/vnd.google.colaboratory.intrinsic+json": {
              "type": "string"
            }
          },
          "metadata": {},
          "execution_count": 24
        }
      ]
    },
    {
      "cell_type": "code",
      "source": [
        "words  = \"supercali\"\n",
        "words[5::1]"
      ],
      "metadata": {
        "colab": {
          "base_uri": "https://localhost:8080/",
          "height": 35
        },
        "id": "AN2YGKqjyYi9",
        "outputId": "08c8eafb-e19f-4801-bddb-76eefdaf4531"
      },
      "execution_count": null,
      "outputs": [
        {
          "output_type": "execute_result",
          "data": {
            "text/plain": [
              "'cali'"
            ],
            "application/vnd.google.colaboratory.intrinsic+json": {
              "type": "string"
            }
          },
          "metadata": {},
          "execution_count": 28
        }
      ]
    },
    {
      "cell_type": "code",
      "source": [
        "words  = \"supercali\"\n",
        "words[:5:1]"
      ],
      "metadata": {
        "colab": {
          "base_uri": "https://localhost:8080/",
          "height": 35
        },
        "id": "iW_fVcNMyYl7",
        "outputId": "ff4de0a5-155c-489c-95d2-9b4b2a88b5bd"
      },
      "execution_count": null,
      "outputs": [
        {
          "output_type": "execute_result",
          "data": {
            "text/plain": [
              "'super'"
            ],
            "application/vnd.google.colaboratory.intrinsic+json": {
              "type": "string"
            }
          },
          "metadata": {},
          "execution_count": 29
        }
      ]
    },
    {
      "cell_type": "code",
      "source": [
        "words  = \"supercali\"\n",
        "words[::-1]"
      ],
      "metadata": {
        "colab": {
          "base_uri": "https://localhost:8080/",
          "height": 35
        },
        "id": "GQU2Nooa1AcF",
        "outputId": "ce4581bd-5387-457a-c855-fee94b9fdd84"
      },
      "execution_count": null,
      "outputs": [
        {
          "output_type": "execute_result",
          "data": {
            "text/plain": [
              "'ilacrepus'"
            ],
            "application/vnd.google.colaboratory.intrinsic+json": {
              "type": "string"
            }
          },
          "metadata": {},
          "execution_count": 30
        }
      ]
    },
    {
      "cell_type": "code",
      "source": [
        "word = \"supercaliforniadelicate\"\n",
        "answer = word[word.index(\"cali\"):word.index(\"for\")]\n",
        "print(answer)"
      ],
      "metadata": {
        "colab": {
          "base_uri": "https://localhost:8080/"
        },
        "id": "xR3jyX0g1LfT",
        "outputId": "80478f7b-d91a-4691-c3fb-09385ca2b25d"
      },
      "execution_count": null,
      "outputs": [
        {
          "output_type": "stream",
          "name": "stdout",
          "text": [
            "cali\n"
          ]
        }
      ]
    },
    {
      "cell_type": "code",
      "source": [
        "email  = input(\"What's your email address \").strip()\n",
        "#slice email\n",
        "em_slice = email[:email.index(\"@\")]\n",
        "\n",
        "#domain name\n",
        "domain = email[email.index(\"@\")+1 :]\n",
        "\n",
        "output = \"Your username is {} and your domain name is {}\"\n",
        "\n",
        "out = output.format(em_slice,domain)\n",
        "\n",
        "print(out)\n",
        "\n"
      ],
      "metadata": {
        "colab": {
          "base_uri": "https://localhost:8080/"
        },
        "id": "RBKljcjp2BwV",
        "outputId": "2cb5bbba-2094-40c6-a2f8-e630d1736434"
      },
      "execution_count": null,
      "outputs": [
        {
          "output_type": "stream",
          "name": "stdout",
          "text": [
            "What's your email address sdhj@yahoo.com\n",
            "Your username is sdhj and your domain name is yahoo.com\n"
          ]
        }
      ]
    },
    {
      "cell_type": "markdown",
      "source": [
        "List"
      ],
      "metadata": {
        "id": "UgZkCa4E8FMH"
      }
    },
    {
      "cell_type": "code",
      "source": [
        "jackson= [\"A\", \"B\", 1,2,6,\"Do\",\"Jc\",True,False]\n",
        "jackson[-1]"
      ],
      "metadata": {
        "colab": {
          "base_uri": "https://localhost:8080/"
        },
        "id": "_PrqV9cu8DOx",
        "outputId": "debac8f9-ae24-4d60-8b85-b85c6414c6a5"
      },
      "execution_count": null,
      "outputs": [
        {
          "output_type": "execute_result",
          "data": {
            "text/plain": [
              "False"
            ]
          },
          "metadata": {},
          "execution_count": 38
        }
      ]
    },
    {
      "cell_type": "code",
      "source": [
        "jackson[:2]"
      ],
      "metadata": {
        "colab": {
          "base_uri": "https://localhost:8080/"
        },
        "id": "8uDYYOrj8bTc",
        "outputId": "f78f80f3-3d75-4528-c246-6bf08ac61e7e"
      },
      "execution_count": null,
      "outputs": [
        {
          "output_type": "execute_result",
          "data": {
            "text/plain": [
              "['A', 'B']"
            ]
          },
          "metadata": {},
          "execution_count": 39
        }
      ]
    },
    {
      "cell_type": "markdown",
      "source": [
        "list within list"
      ],
      "metadata": {
        "id": "Z8eVfMhl8uvs"
      }
    },
    {
      "cell_type": "code",
      "source": [
        "out_list = [1,2,[45,55],6,9]\n",
        "out_list[2][1]"
      ],
      "metadata": {
        "colab": {
          "base_uri": "https://localhost:8080/"
        },
        "id": "w-CO-wFj8bg7",
        "outputId": "69c75a69-4f03-45f6-8e10-a01ab88f1475"
      },
      "execution_count": null,
      "outputs": [
        {
          "output_type": "execute_result",
          "data": {
            "text/plain": [
              "55"
            ]
          },
          "metadata": {},
          "execution_count": 44
        }
      ]
    },
    {
      "cell_type": "code",
      "source": [
        "table = [[1,92,3],[47,5,6],[898,97]]\n",
        "table[1][2]"
      ],
      "metadata": {
        "colab": {
          "base_uri": "https://localhost:8080/"
        },
        "id": "2nJdsken9Gzs",
        "outputId": "dde4eff8-ef42-46b8-eb19-4ac428bfa3f1"
      },
      "execution_count": null,
      "outputs": [
        {
          "output_type": "execute_result",
          "data": {
            "text/plain": [
              "6"
            ]
          },
          "metadata": {},
          "execution_count": 49
        }
      ]
    },
    {
      "cell_type": "markdown",
      "source": [
        "RIDICULOUS SECURITY SYSTEM:"
      ],
      "metadata": {
        "id": "ORYVKtcB927Z"
      }
    },
    {
      "cell_type": "code",
      "source": [
        "known_users = [\"Alice\", \"Travaile\", \"tim\", \"San\", \"jam\" ,\"Carrie\", \"Brownie\", \"Peter\",\"Bilal\",\"Cutue\"]\n",
        "print(len(known_users))"
      ],
      "metadata": {
        "colab": {
          "base_uri": "https://localhost:8080/"
        },
        "id": "AOlauhjk91mh",
        "outputId": "81827b22-88ac-4a12-c7b0-e0ae8b8ae148"
      },
      "execution_count": null,
      "outputs": [
        {
          "output_type": "stream",
          "name": "stdout",
          "text": [
            "10\n"
          ]
        }
      ]
    },
    {
      "cell_type": "code",
      "source": [
        "known_users = [\"Alice\", \"Travaile\", \"Tim\", \"San\", \"Jam\" ,\"Carrie\", \"Brownie\", \"Peter\",\"Bilal\",\"Cutue\"]\n",
        "#print(len(known_users))\n",
        "\n",
        "while True:\n",
        "  name = input(\"What's your name?\").strip().capitalize()\n",
        "  if name in known_users:\n",
        "    print(\"Hello {}! Your name is recognized\".format(name))\n",
        "    remove  = input(\"Would you like to remove your name? (y/n) \").lower()\n",
        "    print(known_users)\n",
        "\n",
        "    if remove ==\"y\":\n",
        "      known_users.remove(name)\n",
        "    elif remove ==\"n\":\n",
        "      print(\"No worries\" )\n",
        "  else:\n",
        "    print(\"Hmm. I don't think I have met you {}\".format(name))\n",
        "    add_me = input(\"Would you like to be added to the list? (y/n) \").lower().strip()\n",
        "    if add_me ==\"y\":\n",
        "      known_users.append(name)\n",
        "      print(known_users)\n",
        "    elif add_me ==\"n\":\n",
        "      print(\"No worries\" )\n",
        "  break"
      ],
      "metadata": {
        "colab": {
          "base_uri": "https://localhost:8080/"
        },
        "id": "-eCbB01o91zA",
        "outputId": "ee1e2c6e-da44-4ff5-aa62-9c678ac17aea"
      },
      "execution_count": null,
      "outputs": [
        {
          "output_type": "stream",
          "name": "stdout",
          "text": [
            "What's your name?sahana\n",
            "Hmm. I don't think I have met you Sahana\n",
            "Would you like to be added to the list? (y/n) n\n",
            "No worries\n"
          ]
        }
      ]
    },
    {
      "cell_type": "markdown",
      "source": [
        "tuple and strings are immutable - i.e cannot be changed while\n",
        "lists are mutable"
      ],
      "metadata": {
        "id": "djaKgRSyn55Z"
      }
    },
    {
      "cell_type": "code",
      "source": [
        "list = [1,2,\"100\",\"alice\"]\n",
        "list[2] =\"678\"\n",
        "print(list)"
      ],
      "metadata": {
        "colab": {
          "base_uri": "https://localhost:8080/"
        },
        "id": "xFA4C92N9186",
        "outputId": "4dc91026-dcdb-4830-c0e6-3325694b96ba"
      },
      "execution_count": null,
      "outputs": [
        {
          "output_type": "stream",
          "name": "stdout",
          "text": [
            "[1, 2, '678', 'alice']\n"
          ]
        }
      ]
    },
    {
      "cell_type": "code",
      "source": [
        "tuple = (2,7,'a','abra')\n",
        "#tuple[2] = 9\n",
        "print(tuple)\n",
        "#hence error"
      ],
      "metadata": {
        "id": "w5XfwMz792Aj"
      },
      "execution_count": null,
      "outputs": []
    },
    {
      "cell_type": "markdown",
      "source": [
        "Dictionaries"
      ],
      "metadata": {
        "id": "iVc6lyqFtmNy"
      }
    },
    {
      "cell_type": "code",
      "source": [
        "students ={\"Alice\":12,\"Bob\":56, \"Claire\":89,\"Fred\":45}\n",
        "students.keys()\n"
      ],
      "metadata": {
        "colab": {
          "base_uri": "https://localhost:8080/"
        },
        "id": "FTqrQltDow1g",
        "outputId": "716cf825-4726-4420-ecca-0203f3b9ea47"
      },
      "execution_count": null,
      "outputs": [
        {
          "output_type": "execute_result",
          "data": {
            "text/plain": [
              "dict_keys(['Alice', 'Bob', 'Claire', 'Fred'])"
            ]
          },
          "metadata": {},
          "execution_count": 41
        }
      ]
    },
    {
      "cell_type": "code",
      "source": [
        "#a  = list(students.keys())"
      ],
      "metadata": {
        "id": "PZRyMjaTow6v"
      },
      "execution_count": null,
      "outputs": []
    },
    {
      "cell_type": "code",
      "source": [
        "students[\"Alice\"]"
      ],
      "metadata": {
        "colab": {
          "base_uri": "https://localhost:8080/"
        },
        "id": "AIhT4R8tow99",
        "outputId": "c2099d61-0a4f-4138-cf40-d3fa69b94c90"
      },
      "execution_count": null,
      "outputs": [
        {
          "output_type": "execute_result",
          "data": {
            "text/plain": [
              "12"
            ]
          },
          "metadata": {},
          "execution_count": 42
        }
      ]
    },
    {
      "cell_type": "code",
      "source": [
        "students ={\"Alice\":[\"IOOO1\",12],\n",
        "           \"Bob\":[\"I0002\",56], \n",
        "           \"Claire\":[\"I0003\",89],\n",
        "           \"Fred\":[\"I0004\",45]\n",
        "           }"
      ],
      "metadata": {
        "id": "hVp-q7ptwhsu"
      },
      "execution_count": null,
      "outputs": []
    },
    {
      "cell_type": "markdown",
      "source": [
        "Slicing in dictionary"
      ],
      "metadata": {
        "id": "UX1Z8fHSxtBG"
      }
    },
    {
      "cell_type": "code",
      "source": [
        "print(students[\"Claire\"][1])"
      ],
      "metadata": {
        "colab": {
          "base_uri": "https://localhost:8080/"
        },
        "id": "SV20gWoGwhw2",
        "outputId": "aa5c118e-162b-40e5-f0ed-a3ca02eeb987"
      },
      "execution_count": null,
      "outputs": [
        {
          "output_type": "stream",
          "name": "stdout",
          "text": [
            "89\n"
          ]
        }
      ]
    },
    {
      "cell_type": "code",
      "source": [
        "students ={\"Alice\":{id:\"IOOO1\",\"age\":12},\n",
        "           \"Bob\":{id:\"I0002\",\"age\":56},\n",
        "           \"Claire\":{id:\"I0003\",\"age\":89},\n",
        "           \"Fred\":{id:\"I0004\",\"age\":45}\n",
        "           }"
      ],
      "metadata": {
        "id": "pTQqYGYEwh0Q"
      },
      "execution_count": null,
      "outputs": []
    },
    {
      "cell_type": "code",
      "source": [
        "students[\"Alice\"][\"age\"]"
      ],
      "metadata": {
        "colab": {
          "base_uri": "https://localhost:8080/"
        },
        "id": "6U7a_AIVydrn",
        "outputId": "895cbde5-664e-4fba-aec4-5b135535496f"
      },
      "execution_count": null,
      "outputs": [
        {
          "output_type": "execute_result",
          "data": {
            "text/plain": [
              "12"
            ]
          },
          "metadata": {},
          "execution_count": 50
        }
      ]
    },
    {
      "cell_type": "markdown",
      "source": [
        "CINEMA SIMULATOR\n",
        "\n",
        "Is the user old enough to watch the movie and how many seats are left?"
      ],
      "metadata": {
        "id": "-ACqnwgKzBvz"
      }
    },
    {
      "cell_type": "code",
      "source": [
        "films ={\"Findingdory\":[3,2],\n",
        "           \"Titanic\":[18,1], \n",
        "           \"Avatar\":[15,2],\n",
        "           \"Puss in boots\":[10,3]\n",
        "           }\n",
        "while True:\n",
        "  choice = input(\"What movie would you like to watch? \").capitalize().strip()\n",
        "  if choice in films:\n",
        "    age = int(input(\"How old are you?\").strip())\n",
        "\n",
        "    #check user age\n",
        "    if age >=films[choice][0]:\n",
        "      num_seats = films[choice][1]\n",
        "      if num_seats>0:\n",
        "        print(\"Enjoy the movie\")\n",
        "        films[choice][1] = films[choice][1] -1\n",
        "      else:\n",
        "        print(\"We are sold out\")\n",
        "        break\n",
        "    else:\n",
        "      print(\"You are too young to watch this movie. Select another movie.\")\n",
        "\n",
        "  else:\n",
        "    print(\"This movie is not being screened right now\")"
      ],
      "metadata": {
        "colab": {
          "base_uri": "https://localhost:8080/"
        },
        "id": "_br70RycyeCO",
        "outputId": "4590c8a1-fb16-42ac-d98c-015a1f9eb299"
      },
      "execution_count": null,
      "outputs": [
        {
          "output_type": "stream",
          "name": "stdout",
          "text": [
            "What movie would you like to watch? Findingdory\n",
            "How old are you?9\n",
            "Enjoy the movie\n",
            "What movie would you like to watch? Findingdory\n",
            "How old are you?8\n",
            "Enjoy the movie\n",
            "What movie would you like to watch? Findingdory\n",
            "How old are you?8\n",
            "We are sold out\n"
          ]
        }
      ]
    },
    {
      "cell_type": "markdown",
      "source": [
        "Baby conversation simulater"
      ],
      "metadata": {
        "id": "IyM5K_hXLIXP"
      }
    },
    {
      "cell_type": "code",
      "source": [
        "from random import choice\n",
        "questions =[\"Why is monkey brown? \", \"Why are there 5 fingers? \", \"Why do we bathe ? \", \"Why is the sky blue? \"]\n",
        "question = choice(questions)\n",
        "#answer = input(\"Why is the sky blue\").lower().strip()\n",
        "answer = input(question).lower().strip()\n",
        "\n",
        "while True:\n",
        "  answer = input(\"Why ?? \").lower().strip()\n",
        "  #print(\"Hello! the sky is blue because {} \".format(answer))\n",
        "  if answer ==(\"just like that\"):\n",
        "    break\n",
        "  else:\n",
        "    continue\n",
        "    "
      ],
      "metadata": {
        "colab": {
          "base_uri": "https://localhost:8080/"
        },
        "id": "jZhC97MaHXhf",
        "outputId": "782e82e4-751c-4f9b-a89f-2e877ab90cd8"
      },
      "execution_count": null,
      "outputs": [
        {
          "name": "stdout",
          "output_type": "stream",
          "text": [
            "Why are there 5 fingers? because we do not have 6\n",
            "Why ?? not sure\n",
            "Why ?? just like that\n"
          ]
        }
      ]
    },
    {
      "cell_type": "code",
      "source": [
        "vowels  =0\n",
        "consonents =0\n",
        "\n",
        "for letter in \"supercalifornicatidilicious\":\n",
        "  if letter.lower() in \"aeiou\":\n",
        "    vowels +=1\n",
        "  elif letter ==\"\":\n",
        "    pass\n",
        "  else:\n",
        "    consonents = consonents+1\n",
        "\n",
        "print(\"There are {} vowels\".format(vowels))\n",
        "print(\"There are {} consonents\".format(consonents))"
      ],
      "metadata": {
        "colab": {
          "base_uri": "https://localhost:8080/"
        },
        "id": "enhxO4pYHXkj",
        "outputId": "3ac7190e-6f9a-485f-ff38-1de6e9cc301c"
      },
      "execution_count": null,
      "outputs": [
        {
          "output_type": "stream",
          "name": "stdout",
          "text": [
            "There are 13 vowels\n",
            "There are 14 consonents\n"
          ]
        }
      ]
    },
    {
      "cell_type": "markdown",
      "source": [
        "find if names have letter 'a' in it\n",
        "\n",
        "\n",
        "\n"
      ],
      "metadata": {
        "id": "3tlTbIaXax-I"
      }
    },
    {
      "cell_type": "code",
      "source": [
        "students ={\"male\":[\"Tom\",\"Hally\"],\n",
        "           \"female\":[\"Sania\",\"Wania\"]\n",
        "           }\n",
        "for i in students.keys():\n",
        "  for j in students[i]:\n",
        "    if \"a\" in j:\n",
        "      print(j)"
      ],
      "metadata": {
        "colab": {
          "base_uri": "https://localhost:8080/"
        },
        "id": "Mp85TUE9ZNsj",
        "outputId": "99362f9d-006d-4e62-f807-6bcc0a7f80a6"
      },
      "execution_count": null,
      "outputs": [
        {
          "output_type": "stream",
          "name": "stdout",
          "text": [
            "Hally\n",
            "Sania\n",
            "Wania\n"
          ]
        }
      ]
    },
    {
      "cell_type": "markdown",
      "source": [
        "x is a variable that computes only if condition is met"
      ],
      "metadata": {
        "id": "775YlwvFeJFN"
      }
    },
    {
      "cell_type": "code",
      "source": [
        "odd_numbers = [x for x in range(1,30) if x %2!=0]\n",
        "print(odd_numbers)"
      ],
      "metadata": {
        "colab": {
          "base_uri": "https://localhost:8080/"
        },
        "id": "Y4QC3cy8HXnn",
        "outputId": "6bfd9402-21cd-445e-d131-87e1d585ca58"
      },
      "execution_count": null,
      "outputs": [
        {
          "output_type": "stream",
          "name": "stdout",
          "text": [
            "[1, 3, 5, 7, 9, 11, 13, 15, 17, 19, 21, 23, 25, 27, 29]\n"
          ]
        }
      ]
    },
    {
      "cell_type": "code",
      "source": [
        "words = [\"the\",\"quick\",\"brown\",\"fox\",\"is\",\"dancing\"]\n",
        "answer = [[w.upper(),len(w)] for w in words]\n",
        "print(answer)"
      ],
      "metadata": {
        "colab": {
          "base_uri": "https://localhost:8080/"
        },
        "id": "Q2bm8_lBHXqx",
        "outputId": "2ed942e3-c969-4ead-df88-24f5c36ff443"
      },
      "execution_count": null,
      "outputs": [
        {
          "output_type": "stream",
          "name": "stdout",
          "text": [
            "[['THE', 3], ['QUICK', 5], ['BROWN', 5], ['FOX', 3], ['IS', 2], ['DANCING', 7]]\n"
          ]
        }
      ]
    },
    {
      "cell_type": "markdown",
      "source": [
        "Pig Latin Translator"
      ],
      "metadata": {
        "id": "DRV4XAEUfa1o"
      }
    },
    {
      "cell_type": "code",
      "source": [],
      "metadata": {
        "id": "TUVeA3o-HXuK"
      },
      "execution_count": null,
      "outputs": []
    },
    {
      "cell_type": "code",
      "source": [],
      "metadata": {
        "id": "Y7YFdAPWHXxl"
      },
      "execution_count": null,
      "outputs": []
    }
  ]
}