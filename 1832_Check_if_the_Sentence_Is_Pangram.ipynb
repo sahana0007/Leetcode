{
  "nbformat": 4,
  "nbformat_minor": 0,
  "metadata": {
    "colab": {
      "name": "1832. Check if the Sentence Is Pangram.ipynb",
      "provenance": [],
      "authorship_tag": "ABX9TyNSEynSddGlBqfxKHIazQzz",
      "include_colab_link": true
    },
    "kernelspec": {
      "name": "python3",
      "display_name": "Python 3"
    },
    "language_info": {
      "name": "python"
    }
  },
  "cells": [
    {
      "cell_type": "markdown",
      "metadata": {
        "id": "view-in-github",
        "colab_type": "text"
      },
      "source": [
        "<a href=\"https://colab.research.google.com/github/sahana0007/Leetcode/blob/main/1832_Check_if_the_Sentence_Is_Pangram.ipynb\" target=\"_parent\"><img src=\"https://colab.research.google.com/assets/colab-badge.svg\" alt=\"Open In Colab\"/></a>"
      ]
    },
    {
      "cell_type": "code",
      "execution_count": 1,
      "metadata": {
        "colab": {
          "base_uri": "https://localhost:8080/"
        },
        "id": "5eQyCkpaGsx_",
        "outputId": "be1ee1ef-a549-4288-c0e5-a1de853ca123"
      },
      "outputs": [
        {
          "output_type": "stream",
          "name": "stdout",
          "text": [
            "True\n"
          ]
        }
      ],
      "source": [
        "class Solution:\n",
        "    def checkIfPangram(self, sentence: str) -> bool:\n",
        "        \n",
        "        for i in sentence:\n",
        "            if len(set(sentence)) == 26:\n",
        "                return True\n",
        "            else:\n",
        "                return False\n",
        "\n",
        "sentence = \"thequickbrownfoxjumpsoverthelazydog\"\n",
        "ob1 = Solution()\n",
        "print(ob1.checkIfPangram(sentence))"
      ]
    }
  ]
}