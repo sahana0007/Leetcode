{
  "nbformat": 4,
  "nbformat_minor": 0,
  "metadata": {
    "colab": {
      "name": "1431. Kids With the Greatest Number of Candies.ipynb",
      "provenance": [],
      "authorship_tag": "ABX9TyOo/FP7WRniGb6SJ4UXJ4Lw",
      "include_colab_link": true
    },
    "kernelspec": {
      "name": "python3",
      "display_name": "Python 3"
    },
    "language_info": {
      "name": "python"
    }
  },
  "cells": [
    {
      "cell_type": "markdown",
      "metadata": {
        "id": "view-in-github",
        "colab_type": "text"
      },
      "source": [
        "<a href=\"https://colab.research.google.com/github/sahana0007/Leetcode/blob/main/1431_Kids_With_the_Greatest_Number_of_Candies.ipynb\" target=\"_parent\"><img src=\"https://colab.research.google.com/assets/colab-badge.svg\" alt=\"Open In Colab\"/></a>"
      ]
    },
    {
      "cell_type": "markdown",
      "source": [
        "There are n kids with candies. You are given an integer array candies, where each candies[i] represents the number of candies the ith kid has, and an integer extraCandies, denoting the number of extra candies that you have.\n",
        "\n",
        "Return a boolean array result of length n, where result[i] is true if, after giving the ith kid all the extraCandies, they will have the greatest number of candies among all the kids, or false otherwise.\n",
        "\n",
        "Note that multiple kids can have the greatest number of candies.\n",
        "\n",
        " \n",
        "\n"
      ],
      "metadata": {
        "id": "YwnuIMaDhrCs"
      }
    },
    {
      "cell_type": "code",
      "execution_count": 3,
      "metadata": {
        "colab": {
          "base_uri": "https://localhost:8080/"
        },
        "id": "eQnZhr-Ggt0p",
        "outputId": "4db5a6e5-c2df-463f-b5fe-d7210427e731"
      },
      "outputs": [
        {
          "output_type": "stream",
          "name": "stdout",
          "text": [
            "[True, True, True, False, True]\n"
          ]
        }
      ],
      "source": [
        "from typing import List\n",
        "class Solution:\n",
        "    def kidsWithCandies(self, candies: List[int], extraCandies: int) -> List[bool]:\n",
        "        res =[]  \n",
        "        for i in candies:       \n",
        "            if (i+extraCandies >=max(candies)):\n",
        "                res.append(True)\n",
        "            else:\n",
        "                res.append(False)\n",
        "        return res\n",
        "    \n",
        "\n",
        "candies = [2,3,5,1,3]\n",
        "extraCandies = 3\n",
        "ob1 = Solution()\n",
        "print(ob1.kidsWithCandies(candies,extraCandies))"
      ]
    }
  ]
}