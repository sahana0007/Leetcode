{
  "nbformat": 4,
  "nbformat_minor": 0,
  "metadata": {
    "colab": {
      "provenance": [],
      "authorship_tag": "ABX9TyOamEt8NeJZre+XKLlrEE/M",
      "include_colab_link": true
    },
    "kernelspec": {
      "name": "python3",
      "display_name": "Python 3"
    },
    "language_info": {
      "name": "python"
    }
  },
  "cells": [
    {
      "cell_type": "markdown",
      "metadata": {
        "id": "view-in-github",
        "colab_type": "text"
      },
      "source": [
        "<a href=\"https://colab.research.google.com/github/sahana0007/Leetcode/blob/main/Python_revisit_functions.ipynb\" target=\"_parent\"><img src=\"https://colab.research.google.com/assets/colab-badge.svg\" alt=\"Open In Colab\"/></a>"
      ]
    },
    {
      "cell_type": "markdown",
      "source": [
        "Functions 101  ----> You need to convert from string to integer"
      ],
      "metadata": {
        "id": "gLcfQyIY0ekg"
      }
    },
    {
      "cell_type": "code",
      "execution_count": 9,
      "metadata": {
        "colab": {
          "base_uri": "https://localhost:8080/"
        },
        "id": "Ug-N3lm_w1xk",
        "outputId": "85f7f986-f7b4-4c41-f6fc-ab131e847c7a"
      },
      "outputs": [
        {
          "output_type": "stream",
          "name": "stdout",
          "text": [
            "enter x9\n",
            "enter y2\n",
            "11\n"
          ]
        }
      ],
      "source": [
        "x  = input(\"enter x\")\n",
        "y = input(\"enter y\")\n",
        "def add(x,y):\n",
        "  answer = int(x)+int(y)\n",
        "  return answer\n",
        "\n",
        "\n",
        "print(add(x,y))\n"
      ]
    },
    {
      "cell_type": "code",
      "source": [
        "x  = input(\"enter text\")\n",
        "\n",
        "def reverse(x):\n",
        "  reverse = x[::-1]\n",
        "  return reverse\n",
        "\n",
        "print(reverse(x))"
      ],
      "metadata": {
        "colab": {
          "base_uri": "https://localhost:8080/"
        },
        "id": "iVUUR-kR0ysc",
        "outputId": "041bf80c-4935-4a71-c030-0de37b570b6c"
      },
      "execution_count": 11,
      "outputs": [
        {
          "output_type": "stream",
          "name": "stdout",
          "text": [
            "enter texti am mad\n",
            "dam ma i\n"
          ]
        }
      ]
    },
    {
      "cell_type": "markdown",
      "source": [
        "VARIABLE SCOPE - functions create local scope , loops dont"
      ],
      "metadata": {
        "id": "zyw_vASH3JEy"
      }
    },
    {
      "cell_type": "code",
      "source": [
        "#global scope\n",
        "x=5\n",
        "y=10\n",
        "def add(x,y):\n",
        "  answer = int(x)+int(y)\n",
        "  return answer\n",
        "\n",
        "\n",
        "print(add(x,y))\n"
      ],
      "metadata": {
        "colab": {
          "base_uri": "https://localhost:8080/"
        },
        "id": "4UHwYv8w1ZlU",
        "outputId": "dba7d359-af97-4288-e630-3f7d8b8de355"
      },
      "execution_count": 12,
      "outputs": [
        {
          "output_type": "stream",
          "name": "stdout",
          "text": [
            "15\n"
          ]
        }
      ]
    },
    {
      "cell_type": "code",
      "source": [
        "name = input(\"enter name\")\n",
        "age=input(\"enter age\")\n",
        "\n",
        "#likes is default parameter\n",
        "def about(name,age,likes=\"Python\"):\n",
        "  sentence = \"Meet {}. They are {} years old and they like {}\".format(name,age,likes)\n",
        "  return sentence\n",
        "\n",
        "print(about(name,age))"
      ],
      "metadata": {
        "colab": {
          "base_uri": "https://localhost:8080/"
        },
        "id": "wEtupDKY6GUE",
        "outputId": "c6c7d056-e70e-4bb1-b406-f7dad2b3dff3"
      },
      "execution_count": 17,
      "outputs": [
        {
          "output_type": "stream",
          "name": "stdout",
          "text": [
            "enter namesa\n",
            "enter age6\n",
            "Meet sa. They are 6 years old and they like Python\n"
          ]
        }
      ]
    },
    {
      "cell_type": "markdown",
      "source": [
        "unpacking"
      ],
      "metadata": {
        "id": "dSzvoPJD9Zs9"
      }
    },
    {
      "cell_type": "code",
      "source": [
        "nos =[1,26,7,\"abc\"]\n",
        "print(*nos)"
      ],
      "metadata": {
        "colab": {
          "base_uri": "https://localhost:8080/"
        },
        "id": "PCwl--Y86Giz",
        "outputId": "c8237231-c107-402f-f42f-0c84456a2432"
      },
      "execution_count": 19,
      "outputs": [
        {
          "output_type": "stream",
          "name": "stdout",
          "text": [
            "1 26 7 abc\n"
          ]
        }
      ]
    },
    {
      "cell_type": "markdown",
      "source": [
        "All numbers are added in tuple and then added. this is used when you donno how many args to be used\n",
        "--> packing into tuples and unpacking in functions"
      ],
      "metadata": {
        "id": "E1TP14ND-r7X"
      }
    },
    {
      "cell_type": "markdown",
      "source": [
        "*args"
      ],
      "metadata": {
        "id": "xDEwIdZWAMHl"
      }
    },
    {
      "cell_type": "code",
      "source": [
        "def add(*numbers):\n",
        "  total = 0\n",
        "  for i in numbers:\n",
        "    total = total +i\n",
        "  return(total)\n",
        "\n",
        "print(add(1,2,3,5,8,6))\n"
      ],
      "metadata": {
        "colab": {
          "base_uri": "https://localhost:8080/"
        },
        "id": "pV7lcEOy9ixe",
        "outputId": "c88f66b0-562f-4821-d89c-54788d8531b4"
      },
      "execution_count": 24,
      "outputs": [
        {
          "output_type": "stream",
          "name": "stdout",
          "text": [
            "25\n"
          ]
        }
      ]
    },
    {
      "cell_type": "markdown",
      "source": [
        "**kwargs using dictionary"
      ],
      "metadata": {
        "id": "yaMhdgn--0-w"
      }
    },
    {
      "cell_type": "markdown",
      "source": [
        "**\n",
        "\n",
        "--> unpack keyword arguments into dictionary inside function or pack them into dict for your function"
      ],
      "metadata": {
        "id": "ANABXrJGAO-2"
      }
    },
    {
      "cell_type": "code",
      "source": [
        "#name = input(\"enter name\")\n",
        "#age=input(\"enter age\")\n",
        "#likes =input(\"what do you like\")\n",
        "\n",
        "def about(name,age,likes):\n",
        "  sentence = \"Meet {}. He/She is {} years old and likes to {}\".format(name,age,likes)\n",
        "  return sentence\n",
        "\n",
        "dictionary ={\"name\" :\"Zeya\", \"age\":2,\"likes\" :\"cry\"}\n",
        "\n",
        "print(about(**dictionary))"
      ],
      "metadata": {
        "colab": {
          "base_uri": "https://localhost:8080/"
        },
        "id": "LZUkwNZs9i8m",
        "outputId": "8bec4094-ada0-4a43-fc12-33794e1fcfe1"
      },
      "execution_count": 31,
      "outputs": [
        {
          "output_type": "stream",
          "name": "stdout",
          "text": [
            "Meet Zeya. He/She is 2 years old and likes to cry\n"
          ]
        }
      ]
    },
    {
      "cell_type": "markdown",
      "source": [
        "packing into *dictionary*"
      ],
      "metadata": {
        "id": "-wxpGaFfDK8-"
      }
    },
    {
      "cell_type": "code",
      "source": [
        "def foo(**kwargs):\n",
        "  for key,value in kwargs.items():\n",
        "    print(\"{}: {}\".format(key,value))\n",
        "  return foo\n",
        "\n",
        "foo(huda=\"F\", zoy = \"male\", john =\"M\",yes =\"F\")\n",
        "\n",
        "#print(foo())"
      ],
      "metadata": {
        "colab": {
          "base_uri": "https://localhost:8080/"
        },
        "id": "RAJQQ0Z4AH2u",
        "outputId": "5bdb5fbf-0673-48cc-a6c0-189ef140dfb3"
      },
      "execution_count": 35,
      "outputs": [
        {
          "output_type": "stream",
          "name": "stdout",
          "text": [
            "huda: F\n",
            "zoy: male\n",
            "john: M\n",
            "yes: F\n"
          ]
        },
        {
          "output_type": "execute_result",
          "data": {
            "text/plain": [
              "<function __main__.foo(**kwargs)>"
            ]
          },
          "metadata": {},
          "execution_count": 35
        }
      ]
    },
    {
      "cell_type": "code",
      "source": [],
      "metadata": {
        "id": "FO3fquSoAH5p"
      },
      "execution_count": null,
      "outputs": []
    },
    {
      "cell_type": "code",
      "source": [],
      "metadata": {
        "id": "LfT9ALDsAH8Q"
      },
      "execution_count": null,
      "outputs": []
    },
    {
      "cell_type": "code",
      "source": [],
      "metadata": {
        "id": "lupfkXhoAH-4"
      },
      "execution_count": null,
      "outputs": []
    },
    {
      "cell_type": "code",
      "source": [],
      "metadata": {
        "id": "yotww2--AIBk"
      },
      "execution_count": null,
      "outputs": []
    }
  ]
}