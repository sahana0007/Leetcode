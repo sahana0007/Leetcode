{
  "nbformat": 4,
  "nbformat_minor": 0,
  "metadata": {
    "colab": {
      "name": "Longest Substring Without Repeating Characters.ipynb",
      "provenance": [],
      "collapsed_sections": [],
      "authorship_tag": "ABX9TyNj3vfdhCzFA5ukNG3+6O4i",
      "include_colab_link": true
    },
    "kernelspec": {
      "name": "python3",
      "display_name": "Python 3"
    },
    "language_info": {
      "name": "python"
    }
  },
  "cells": [
    {
      "cell_type": "markdown",
      "metadata": {
        "id": "view-in-github",
        "colab_type": "text"
      },
      "source": [
        "<a href=\"https://colab.research.google.com/github/sahana0007/Leetcode/blob/main/Longest_Substring_Without_Repeating_Characters.ipynb\" target=\"_parent\"><img src=\"https://colab.research.google.com/assets/colab-badge.svg\" alt=\"Open In Colab\"/></a>"
      ]
    },
    {
      "cell_type": "code",
      "execution_count": null,
      "metadata": {
        "colab": {
          "base_uri": "https://localhost:8080/"
        },
        "id": "2M0HYyHoXeU5",
        "outputId": "fc1c2439-2d51-4880-ebd1-ee73487a80f7"
      },
      "outputs": [
        {
          "output_type": "stream",
          "name": "stdout",
          "text": [
            "0\n",
            "{}\n"
          ]
        }
      ],
      "source": [
        "s = \"abcabcbb\"\n",
        "#longest non repeating substring ie 3\n",
        "\n",
        "d = {}\n",
        "\n",
        "i , j, maxval = 0, 0 , 0\n",
        "\n",
        "if len(d) == 0:\n",
        "    print(0)\n",
        "# i = 0 , j = 0, maxval = 1\n",
        "for j in range(len(s)):\n",
        "  if s[j] not in d:\n",
        "    d[s[j]] = j\n",
        "  else:\n",
        "    maxval = max()\n",
        "    s[j] in d and len(d) < l-r +1:\n",
        "\n",
        "    \n",
        "\n",
        "\n"
      ]
    },
    {
      "cell_type": "code",
      "source": [
        "#abcabcbb\n",
        "\n",
        "class Solution:\n",
        "  def lengthOfLongestSubstring(self, s: str) -> int:\n",
        "    start = 0\n",
        "    end = 0\n",
        "    d = dict()\n",
        "    max_substr_len = 0\n",
        "    \n",
        "    \n",
        "    while end < len(s):\n",
        "        curr_ch = s[end] \n",
        "        if curr_ch in d:\n",
        "            d[curr_ch] += 1\n",
        "            \n",
        "        else:\n",
        "            d[curr_ch] = 1\n",
        "            \n",
        "        #Now check that window size equal to all unique chrs\n",
        "        #It means all the char in window has cnt 1\n",
        "        if (len(d) == (end - start + 1)):\n",
        "            max_substr_len = max(max_substr_len, (end - start + 1))\n",
        "        \n",
        "        #If len of d is less then window size \n",
        "        #It means we capture repeatative chrs so we need to remove them\n",
        "        if len(d) < (end - start + 1):\n",
        "            while len(d) < (end - start + 1):\n",
        "                ch_front = s[start]\n",
        "                d[ch_front] -= 1\n",
        "                \n",
        "                if d[ch_front] == 0:\n",
        "                    del d[ch_front]\n",
        "                    \n",
        "                start += 1\n",
        "                \n",
        "        #update the end pointer\n",
        "        end += 1\n",
        "        \n",
        "    return max_substr_len\n",
        "\n",
        "s = \"abcabcbb\"\n",
        "ob1 = Solution()\n",
        "print(ob1.lengthOfLongestSubstring(s))"
      ],
      "metadata": {
        "colab": {
          "base_uri": "https://localhost:8080/"
        },
        "id": "NeRJhdq-BiyG",
        "outputId": "dcfd6768-1ec8-47c1-a36e-658ac9d98ccd"
      },
      "execution_count": 12,
      "outputs": [
        {
          "output_type": "stream",
          "name": "stdout",
          "text": [
            "2\n",
            "2\n",
            "2\n",
            "2\n",
            "2\n",
            "3\n"
          ]
        }
      ]
    }
  ]
}