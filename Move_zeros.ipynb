{
  "nbformat": 4,
  "nbformat_minor": 0,
  "metadata": {
    "colab": {
      "name": "Move zeros.ipynb",
      "provenance": [],
      "collapsed_sections": [],
      "authorship_tag": "ABX9TyPFnjYkGLISZ+zO88t4zK9p",
      "include_colab_link": true
    },
    "kernelspec": {
      "name": "python3",
      "display_name": "Python 3"
    },
    "language_info": {
      "name": "python"
    }
  },
  "cells": [
    {
      "cell_type": "markdown",
      "metadata": {
        "id": "view-in-github",
        "colab_type": "text"
      },
      "source": [
        "<a href=\"https://colab.research.google.com/github/sahana0007/Leetcode/blob/main/Move_zeros.ipynb\" target=\"_parent\"><img src=\"https://colab.research.google.com/assets/colab-badge.svg\" alt=\"Open In Colab\"/></a>"
      ]
    },
    {
      "cell_type": "code",
      "execution_count": null,
      "metadata": {
        "id": "11IpSpazDAfa"
      },
      "outputs": [],
      "source": [
        "from typing import List\n",
        "class Solution:\n",
        "    def moveZeroes(self, nums: List[int]) -> None:\n",
        "        l = 0\n",
        "        for r in range (len(nums)):\n",
        "            if nums[r] != 0:\n",
        "                nums[l], nums[r] = nums[r], nums[l]\n",
        "                l +=1\n",
        "        return nums"
      ]
    },
    {
      "cell_type": "code",
      "source": [
        "from typing import List\n",
        "class Solution:\n",
        "    def moveZeroes(self, nums: List[int]) -> None:\n",
        "        count = 0\n",
        "        \n",
        "        for i in range(len(nums)):\n",
        "            if nums[i] !=0:\n",
        "                nums[count] = nums[i]\n",
        "                count+=1\n",
        "        while count<len(nums):\n",
        "            nums[count] = 0\n",
        "            count+=1\n",
        "        return nums\n",
        "                    "
      ],
      "metadata": {
        "id": "vtC2doEFXCMi"
      },
      "execution_count": 5,
      "outputs": []
    }
  ]
}