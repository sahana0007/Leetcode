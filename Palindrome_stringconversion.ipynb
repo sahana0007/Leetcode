{
  "nbformat": 4,
  "nbformat_minor": 0,
  "metadata": {
    "colab": {
      "name": "Palindrome_stringconversion.ipynb",
      "provenance": [],
      "authorship_tag": "ABX9TyPN3gHhClp5McONDDVIYijU",
      "include_colab_link": true
    },
    "kernelspec": {
      "name": "python3",
      "display_name": "Python 3"
    },
    "language_info": {
      "name": "python"
    }
  },
  "cells": [
    {
      "cell_type": "markdown",
      "metadata": {
        "id": "view-in-github",
        "colab_type": "text"
      },
      "source": [
        "<a href=\"https://colab.research.google.com/github/sahana0007/Leetcode/blob/main/Palindrome_stringconversion.ipynb\" target=\"_parent\"><img src=\"https://colab.research.google.com/assets/colab-badge.svg\" alt=\"Open In Colab\"/></a>"
      ]
    },
    {
      "cell_type": "code",
      "execution_count": 5,
      "metadata": {
        "id": "eVQGOWVI192I",
        "colab": {
          "base_uri": "https://localhost:8080/"
        },
        "outputId": "51235ff0-5287-4679-a2d7-7039c6a987c6"
      },
      "outputs": [
        {
          "output_type": "stream",
          "name": "stdout",
          "text": [
            "True\n"
          ]
        }
      ],
      "source": [
        "class Solution:\n",
        "    def isPalindrome(self, x: int) -> bool:\n",
        "        reverseString = str(x)[::-1] #start, end, step \n",
        "        if str(x) == reverseString:\n",
        "            return True\n",
        "        else:\n",
        "            return False\n",
        "\n",
        "input = 101\n",
        "ob1 = Solution()\n",
        "print(ob1.isPalindrome(input))\n"
      ]
    }
  ]
}