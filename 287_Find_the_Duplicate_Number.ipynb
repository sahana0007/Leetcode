{
  "nbformat": 4,
  "nbformat_minor": 0,
  "metadata": {
    "colab": {
      "name": "287. Find the Duplicate Number.ipynb",
      "provenance": [],
      "authorship_tag": "ABX9TyMT3Ki8X6PGqCxCfpcFQzHQ",
      "include_colab_link": true
    },
    "kernelspec": {
      "name": "python3",
      "display_name": "Python 3"
    },
    "language_info": {
      "name": "python"
    }
  },
  "cells": [
    {
      "cell_type": "markdown",
      "metadata": {
        "id": "view-in-github",
        "colab_type": "text"
      },
      "source": [
        "<a href=\"https://colab.research.google.com/github/sahana0007/Leetcode/blob/main/287_Find_the_Duplicate_Number.ipynb\" target=\"_parent\"><img src=\"https://colab.research.google.com/assets/colab-badge.svg\" alt=\"Open In Colab\"/></a>"
      ]
    },
    {
      "cell_type": "markdown",
      "source": [
        "Given an array of integers nums containing n + 1 integers where each integer is in the range [1, n] inclusive.\n",
        "\n",
        "There is only one repeated number in nums, return this repeated number.\n",
        "\n",
        "You must solve the problem without modifying the array nums and uses only constant extra space."
      ],
      "metadata": {
        "id": "sPBLPXxOvj9G"
      }
    },
    {
      "cell_type": "markdown",
      "source": [
        "Input: nums = [1,3,4,2,2]\n",
        "\n",
        "Output: 2 "
      ],
      "metadata": {
        "id": "pssSWsiR4MIy"
      }
    },
    {
      "cell_type": "code",
      "execution_count": 5,
      "metadata": {
        "colab": {
          "base_uri": "https://localhost:8080/"
        },
        "id": "ODlTaAaUu02x",
        "outputId": "127c083f-9096-4e1a-99e5-4cdb03552602"
      },
      "outputs": [
        {
          "output_type": "stream",
          "name": "stdout",
          "text": [
            "None\n"
          ]
        }
      ],
      "source": [
        "#Doesnot use constant space \n",
        "from typing import List\n",
        "class Solution:\n",
        "    def findDuplicate(self, nums: List[int]) -> int:\n",
        "      nums.sort()\n",
        "\n",
        "      for i in range(len(nums)):\n",
        "        if nums[i] == nums[i-1] and i >0:\n",
        "          return nums[i]\n",
        "        return None\n",
        "\n",
        "Input = [1,3,4,2,2]\n",
        "ob1 = Solution()\n",
        "print(ob1.findDuplicate(Input))"
      ]
    },
    {
      "cell_type": "code",
      "source": [
        ""
      ],
      "metadata": {
        "id": "SQs7NzaMvjcZ"
      },
      "execution_count": null,
      "outputs": []
    }
  ]
}