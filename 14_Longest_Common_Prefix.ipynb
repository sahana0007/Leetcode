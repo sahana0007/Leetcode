{
  "nbformat": 4,
  "nbformat_minor": 0,
  "metadata": {
    "colab": {
      "name": "14 Longest Common Prefix.ipynb",
      "provenance": [],
      "authorship_tag": "ABX9TyMuwQsW6vJfZcvN2n2+yd4D",
      "include_colab_link": true
    },
    "kernelspec": {
      "name": "python3",
      "display_name": "Python 3"
    },
    "language_info": {
      "name": "python"
    }
  },
  "cells": [
    {
      "cell_type": "markdown",
      "metadata": {
        "id": "view-in-github",
        "colab_type": "text"
      },
      "source": [
        "<a href=\"https://colab.research.google.com/github/sahana0007/Leetcode/blob/main/14_Longest_Common_Prefix.ipynb\" target=\"_parent\"><img src=\"https://colab.research.google.com/assets/colab-badge.svg\" alt=\"Open In Colab\"/></a>"
      ]
    },
    {
      "cell_type": "code",
      "execution_count": null,
      "metadata": {
        "id": "MyBf5_681Lhd"
      },
      "outputs": [],
      "source": [
        "from typing import List\n",
        "class Solution:\n",
        "    def longestCommonPrefix(self, strs: List[str]) -> str:\n",
        "        \n",
        "        if len(strs) ==0:\n",
        "            return \"\"\n",
        "        \n",
        "        \n",
        "    #find smallest length of words present in the list and assign to min length\n",
        "    #if consecutive letters are same, then return the string else return empty string\n",
        "        N = len(strs)\n",
        "        minL = len(strs[0])\n",
        "\n",
        "        for i in range(N):\n",
        "            minL = min(len(strs[i]),minL)\n",
        "            \n",
        "        res = \"\"\n",
        "        \n",
        "        i = 0\n",
        "        while i <minL:\n",
        "            char = strs[0][i]\n",
        "            \n",
        "            for j in range(N):\n",
        "                if strs[j][i] != char:\n",
        "                    return res\n",
        "                elif len(strs) ==1:\n",
        "                    return char\n",
        "            res = res +char\n",
        "            i +=1\n",
        "        \n",
        "        return res\n",
        "            \n",
        "\n",
        "strs = [\"flower\",\"flow\",\"flight\", \"fl\"]\n",
        "ob1 = Solution()\n",
        "print(ob1.longestCommonPrefix(strs))"
      ]
    }
  ]
}