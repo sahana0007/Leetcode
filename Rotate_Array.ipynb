{
  "nbformat": 4,
  "nbformat_minor": 0,
  "metadata": {
    "colab": {
      "name": "Rotate Array.ipynb",
      "provenance": [],
      "authorship_tag": "ABX9TyOMsTGFIZCeyWl7Yeb/zi4P",
      "include_colab_link": true
    },
    "kernelspec": {
      "name": "python3",
      "display_name": "Python 3"
    },
    "language_info": {
      "name": "python"
    }
  },
  "cells": [
    {
      "cell_type": "markdown",
      "metadata": {
        "id": "view-in-github",
        "colab_type": "text"
      },
      "source": [
        "<a href=\"https://colab.research.google.com/github/sahana0007/Leetcode/blob/main/Rotate_Array.ipynb\" target=\"_parent\"><img src=\"https://colab.research.google.com/assets/colab-badge.svg\" alt=\"Open In Colab\"/></a>"
      ]
    },
    {
      "cell_type": "code",
      "execution_count": 4,
      "metadata": {
        "colab": {
          "base_uri": "https://localhost:8080/"
        },
        "id": "fe-eKYrFOyNO",
        "outputId": "8fb9e00a-bf9a-461a-e338-5408407c77a5"
      },
      "outputs": [
        {
          "output_type": "stream",
          "name": "stdout",
          "text": [
            "None\n"
          ]
        }
      ],
      "source": [
        "from typing import List\n",
        "class Solution:\n",
        "    def rotate(self, nums: List[int], k: int) -> None:\n",
        "        # speed up the rotation\n",
        "        k %= len(nums)\n",
        "\n",
        "        for i in range(k):\n",
        "            previous = nums[-1]\n",
        "            for j in range(len(nums)):\n",
        "                nums[j], previous = previous, nums[j]\n",
        "\n",
        "\n",
        "input_list = [2,8,12,15]\n",
        "ob1 = Solution()\n",
        "k = 2"
      ]
    },
    {
      "cell_type": "code",
      "source": [
        "class Solution:\n",
        "    def rotate(self, nums: List[int], k: int) -> None:\n",
        "        \"\"\" Do not return anything, modify nums in-place instead. \"\"\"\n",
        "        def rev(nums, l, r):\n",
        "            while l < r:\n",
        "                nums[l], nums[r] = nums[r], nums[l]\n",
        "                l += 1\n",
        "                r -= 1\n",
        "        \n",
        "        n = len(nums)\n",
        "        k %= n\n",
        "        rev(nums, 0, n - 1)\n",
        "        rev(nums, 0, k - 1)\n",
        "        rev(nums, k, n - 1)"
      ],
      "metadata": {
        "id": "UoaT8QdiQCu6"
      },
      "execution_count": 5,
      "outputs": []
    }
  ]
}