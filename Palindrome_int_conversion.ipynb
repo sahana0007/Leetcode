{
  "nbformat": 4,
  "nbformat_minor": 0,
  "metadata": {
    "colab": {
      "name": "Palindrome_int_conversion.ipynb",
      "provenance": [],
      "authorship_tag": "ABX9TyOHpsJ4ZwoPMNOhFXxa1s/0",
      "include_colab_link": true
    },
    "kernelspec": {
      "name": "python3",
      "display_name": "Python 3"
    },
    "language_info": {
      "name": "python"
    }
  },
  "cells": [
    {
      "cell_type": "markdown",
      "metadata": {
        "id": "view-in-github",
        "colab_type": "text"
      },
      "source": [
        "<a href=\"https://colab.research.google.com/github/sahana0007/Leetcode/blob/main/Palindrome_int_conversion.ipynb\" target=\"_parent\"><img src=\"https://colab.research.google.com/assets/colab-badge.svg\" alt=\"Open In Colab\"/></a>"
      ]
    },
    {
      "cell_type": "code",
      "execution_count": 7,
      "metadata": {
        "id": "eVQGOWVI192I",
        "colab": {
          "base_uri": "https://localhost:8080/"
        },
        "outputId": "08b00d75-3554-4bd8-d46e-ae025a6ff6de"
      },
      "outputs": [
        {
          "output_type": "stream",
          "name": "stdout",
          "text": [
            "False\n"
          ]
        }
      ],
      "source": [
        "'''\n",
        "#solution1\n",
        "class Solution:\n",
        "    def isPalindrome(self, x: int) -> bool:\n",
        "        reverseString = str(x)[::-1] #start, end, step \n",
        "        if str(x) == reverseString:\n",
        "            return True\n",
        "        else:\n",
        "            return False\n",
        "\n",
        "input = 101\n",
        "ob1 = Solution()\n",
        "print(ob1.isPalindrome(input))\n",
        "'''\n",
        "\n",
        "#solution 2\n",
        "\n",
        "        \n",
        "class Solution:\n",
        "    def isPalindrome(self, x: int) -> bool:\n",
        "        if x < 0:\n",
        "            return False\n",
        "        if x == 0:\n",
        "            return True\n",
        "        if x % 10 == 0:\n",
        "            return False\n",
        "        \n",
        "        copy = x\n",
        "        back = 0\n",
        "    \n",
        "        while copy > back:\n",
        "            back = back * 10 + copy % 10\n",
        "            copy = copy // 10\n",
        "            \n",
        "        return (copy == back) or (copy == back //10)\n",
        "\n",
        "input = 1019\n",
        "ob1 = Solution()\n",
        "print(ob1.isPalindrome(input))"
      ]
    }
  ]
}