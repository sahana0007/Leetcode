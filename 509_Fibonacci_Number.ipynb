{
  "nbformat": 4,
  "nbformat_minor": 0,
  "metadata": {
    "colab": {
      "name": "509. Fibonacci Number.ipynb",
      "provenance": [],
      "authorship_tag": "ABX9TyP6wT/u3PSaeVNS4AEtfZRA",
      "include_colab_link": true
    },
    "kernelspec": {
      "name": "python3",
      "display_name": "Python 3"
    },
    "language_info": {
      "name": "python"
    }
  },
  "cells": [
    {
      "cell_type": "markdown",
      "metadata": {
        "id": "view-in-github",
        "colab_type": "text"
      },
      "source": [
        "<a href=\"https://colab.research.google.com/github/sahana0007/Leetcode/blob/main/509_Fibonacci_Number.ipynb\" target=\"_parent\"><img src=\"https://colab.research.google.com/assets/colab-badge.svg\" alt=\"Open In Colab\"/></a>"
      ]
    },
    {
      "cell_type": "code",
      "execution_count": 1,
      "metadata": {
        "colab": {
          "base_uri": "https://localhost:8080/"
        },
        "id": "5haPRnPNUYJ0",
        "outputId": "d008abd7-00f3-437e-d32f-4c26fffa82ba"
      },
      "outputs": [
        {
          "output_type": "stream",
          "name": "stdout",
          "text": [
            "3\n"
          ]
        }
      ],
      "source": [
        "class Solution:\n",
        "    def fib(self, n: int) -> int:\n",
        "      if n ==0:\n",
        "        return 0\n",
        "      if n==1:\n",
        "        return 1\n",
        "      return (self.fib(n-1) + self.fib(n-2))\n",
        "\n",
        "\n",
        "n = 4\n",
        "ob1 = Solution()\n",
        "print(ob1.fib(n))"
      ]
    }
  ]
}