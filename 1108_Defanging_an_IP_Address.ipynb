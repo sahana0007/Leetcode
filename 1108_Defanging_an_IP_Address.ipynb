{
  "nbformat": 4,
  "nbformat_minor": 0,
  "metadata": {
    "colab": {
      "name": "1108. Defanging an IP Address.ipynb",
      "provenance": [],
      "authorship_tag": "ABX9TyPPgPr6vJXCAfDjhvahMbwS",
      "include_colab_link": true
    },
    "kernelspec": {
      "name": "python3",
      "display_name": "Python 3"
    },
    "language_info": {
      "name": "python"
    }
  },
  "cells": [
    {
      "cell_type": "markdown",
      "metadata": {
        "id": "view-in-github",
        "colab_type": "text"
      },
      "source": [
        "<a href=\"https://colab.research.google.com/github/sahana0007/Leetcode/blob/main/1108_Defanging_an_IP_Address.ipynb\" target=\"_parent\"><img src=\"https://colab.research.google.com/assets/colab-badge.svg\" alt=\"Open In Colab\"/></a>"
      ]
    },
    {
      "cell_type": "markdown",
      "source": [
        "Given a valid (IPv4) IP address, return a defanged version of that IP address.\n",
        "\n",
        "A defanged IP address replaces every period \".\" with \"[.]\".\n",
        "\n",
        " \n",
        "\n",
        "Example 1:\n",
        "\n",
        "Input: address = \"1.1.1.1\"\n",
        "Output: \"1[.]1[.]1[.]1\""
      ],
      "metadata": {
        "id": "uu1nD5S47SaK"
      }
    },
    {
      "cell_type": "code",
      "execution_count": 1,
      "metadata": {
        "colab": {
          "base_uri": "https://localhost:8080/"
        },
        "id": "EViFoJSr7NZG",
        "outputId": "1fdcce60-1c0f-4614-ed74-f4a44a05bc01"
      },
      "outputs": [
        {
          "output_type": "stream",
          "name": "stdout",
          "text": [
            "1[.]1[.]1[.]1\n"
          ]
        }
      ],
      "source": [
        "class Solution:\n",
        "    def defangIPaddr(self, address: str) -> str:\n",
        "      \n",
        "      address = address.split(\".\")\n",
        "      return \"[.]\".join(address)\n",
        "s = \"1.1.1.1\"\n",
        "ob1 = Solution()\n",
        "print(ob1.defangIPaddr(s))"
      ]
    }
  ]
}