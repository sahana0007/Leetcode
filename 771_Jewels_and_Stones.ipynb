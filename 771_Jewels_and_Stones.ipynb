{
  "nbformat": 4,
  "nbformat_minor": 0,
  "metadata": {
    "colab": {
      "name": "771. Jewels and Stones.ipynb",
      "provenance": [],
      "authorship_tag": "ABX9TyMdfr2s3OIwP3WA4GytYAHo",
      "include_colab_link": true
    },
    "kernelspec": {
      "name": "python3",
      "display_name": "Python 3"
    },
    "language_info": {
      "name": "python"
    }
  },
  "cells": [
    {
      "cell_type": "markdown",
      "metadata": {
        "id": "view-in-github",
        "colab_type": "text"
      },
      "source": [
        "<a href=\"https://colab.research.google.com/github/sahana0007/Leetcode/blob/main/771_Jewels_and_Stones.ipynb\" target=\"_parent\"><img src=\"https://colab.research.google.com/assets/colab-badge.svg\" alt=\"Open In Colab\"/></a>"
      ]
    },
    {
      "cell_type": "markdown",
      "source": [
        "You're given strings jewels representing the types of stones that are jewels, and stones representing the stones you have. Each character in stones is a type of stone you have. You want to know how many of the stones you have are also jewels.\n",
        "\n",
        "Letters are case sensitive, so \"a\" is considered a different type of stone from \"A\".\n",
        "\n",
        " \n",
        "\n",
        "Example 1:\n",
        "\n",
        "Input: jewels = \"aA\", stones = \"aAAbbbb\"\n",
        "Output: 3"
      ],
      "metadata": {
        "id": "Q8gFUDmVH0IQ"
      }
    },
    {
      "cell_type": "code",
      "execution_count": 3,
      "metadata": {
        "colab": {
          "base_uri": "https://localhost:8080/"
        },
        "id": "NJ3cEUnuHuxv",
        "outputId": "01618cd3-d35c-40b4-ee88-ad8c35ba1fab"
      },
      "outputs": [
        {
          "output_type": "stream",
          "name": "stdout",
          "text": [
            "3\n"
          ]
        }
      ],
      "source": [
        "class Solution:\n",
        "    def numJewelsInStones(self, jewels: str, stones: str) -> int:\n",
        "      if len(jewels)==0 or len(stones)==0:\n",
        "        return 0\n",
        "      int =0\n",
        "      for i in range(len(stones)):\n",
        "        for j in range(len(jewels)):\n",
        "          if stones[i] == jewels[j]:\n",
        "            int+=1\n",
        "      return int\n",
        "\n",
        "jewels = \"aA\"\n",
        "stones = \"aAAbbbb\"\n",
        "ob1 = Solution()\n",
        "print(ob1.numJewelsInStones(jewels,stones))"
      ]
    },
    {
      "cell_type": "code",
      "source": [
        "class Solution:\n",
        "    def numJewelsInStones(self, jewels: str, stones: str) -> int:\n",
        "      dict ={}\n",
        "\n",
        "      for i in range(len(jewels)):\n",
        "        \n",
        "\n",
        "\n",
        "\n",
        "\n",
        "jewels = \"aA\"\n",
        "stones = \"aAAbbbb\"\n",
        "ob1 = Solution()\n",
        "print(ob1.numJewelsInStones(jewels,stones))"
      ],
      "metadata": {
        "id": "nc7MXTPzIyRQ"
      },
      "execution_count": null,
      "outputs": []
    }
  ]
}