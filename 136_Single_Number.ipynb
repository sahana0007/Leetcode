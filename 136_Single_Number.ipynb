{
  "nbformat": 4,
  "nbformat_minor": 0,
  "metadata": {
    "colab": {
      "name": "136. Single Number.ipynb",
      "provenance": [],
      "authorship_tag": "ABX9TyNOQbVWuGBkhUDo9MUMCq1x",
      "include_colab_link": true
    },
    "kernelspec": {
      "name": "python3",
      "display_name": "Python 3"
    },
    "language_info": {
      "name": "python"
    }
  },
  "cells": [
    {
      "cell_type": "markdown",
      "metadata": {
        "id": "view-in-github",
        "colab_type": "text"
      },
      "source": [
        "<a href=\"https://colab.research.google.com/github/sahana0007/Leetcode/blob/main/136_Single_Number.ipynb\" target=\"_parent\"><img src=\"https://colab.research.google.com/assets/colab-badge.svg\" alt=\"Open In Colab\"/></a>"
      ]
    },
    {
      "cell_type": "markdown",
      "source": [
        "Given a non-empty array of integers nums, every element appears twice except for one. Find that single one.\n",
        "\n",
        "You must implement a solution with a linear runtime complexity and use only constant extra space."
      ],
      "metadata": {
        "id": "8WT812WQ09wy"
      }
    },
    {
      "cell_type": "code",
      "source": [
        "from typing import List\n",
        "class Solution:\n",
        "    def singleNumber(self, nums: List[int]) -> int:\n",
        "        out = []\n",
        "        \n",
        "        for i in nums:\n",
        "            if i not in out:\n",
        "                out.append(i)\n",
        "            else:\n",
        "                out.remove(i)\n",
        "        return out.pop()\n",
        "\n",
        "input_list = [2,2,3,3,5]\n",
        "ob1 = Solution()\n",
        "print(ob1.singleNumber(input_list))"
      ],
      "metadata": {
        "colab": {
          "base_uri": "https://localhost:8080/"
        },
        "id": "sxh9VzE9XC35",
        "outputId": "31591d61-557d-4403-b249-1f6321e13942"
      },
      "execution_count": 2,
      "outputs": [
        {
          "output_type": "stream",
          "name": "stdout",
          "text": [
            "5\n"
          ]
        }
      ]
    },
    {
      "cell_type": "code",
      "execution_count": null,
      "metadata": {
        "colab": {
          "base_uri": "https://localhost:8080/"
        },
        "id": "GTOmkaJb0IFj",
        "outputId": "c5388955-d8a4-4a71-b8cb-1d5218dc93f2"
      },
      "outputs": [
        {
          "output_type": "stream",
          "name": "stdout",
          "text": [
            "Counter({2: 2, 3: 2, 5: 1})\n",
            "5\n"
          ]
        }
      ],
      "source": [
        "from typing import List\n",
        "from collections import Counter\n",
        "class Solution:\n",
        "    def singleNumber(self, nums: List[int]) -> int:\n",
        "        count = Counter(nums)\n",
        "        print(count)\n",
        "        \n",
        "        for i in count:\n",
        "            if count[i] ==1:\n",
        "                return i\n",
        "\n",
        "input_list = [2,2,3,3,5]\n",
        "ob1 = Solution()\n",
        "print(ob1.singleNumber(input_list))"
      ]
    }
  ]
}