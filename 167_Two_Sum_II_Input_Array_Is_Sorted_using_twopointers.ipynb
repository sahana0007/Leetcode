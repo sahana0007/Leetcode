{
  "nbformat": 4,
  "nbformat_minor": 0,
  "metadata": {
    "colab": {
      "name": "167.Two Sum II - Input Array Is Sorted_using twopointers.ipynb",
      "provenance": [],
      "authorship_tag": "ABX9TyOzyY3zVtv3ZwNgbVzbTCBm",
      "include_colab_link": true
    },
    "kernelspec": {
      "name": "python3",
      "display_name": "Python 3"
    },
    "language_info": {
      "name": "python"
    }
  },
  "cells": [
    {
      "cell_type": "markdown",
      "metadata": {
        "id": "view-in-github",
        "colab_type": "text"
      },
      "source": [
        "<a href=\"https://colab.research.google.com/github/sahana0007/Leetcode/blob/main/167_Two_Sum_II_Input_Array_Is_Sorted_using_twopointers.ipynb\" target=\"_parent\"><img src=\"https://colab.research.google.com/assets/colab-badge.svg\" alt=\"Open In Colab\"/></a>"
      ]
    },
    {
      "cell_type": "markdown",
      "source": [
        "Given a 1-indexed array of integers numbers that is ** already sorted** in non-decreasing order, find two numbers such that they add up to a specific target number. Let these two numbers be numbers[index1] and numbers[index2] where 1 <= index1 < index2 <= numbers.length.\n",
        "\n",
        "Return the indices of the two numbers, index1 and index2, added by one as an integer array [index1, index2] of length 2.\n",
        "\n",
        "The tests are generated such that there is exactly one solution. You may not use the same element twice.\n",
        "\n",
        "Your solution must use only constant extra space."
      ],
      "metadata": {
        "id": "MTbHHQUHLn2x"
      }
    },
    {
      "cell_type": "markdown",
      "source": [
        "Input: numbers = [2,7,11,15], target = 9\n",
        "Output: [1,2]\n",
        "Explanation: The sum of 2 and 7 is 9. Therefore, index1 = 1, index2 = 2. We return [1, 2]."
      ],
      "metadata": {
        "id": "G6cNA15JLu3V"
      }
    },
    {
      "cell_type": "code",
      "execution_count": 2,
      "metadata": {
        "colab": {
          "base_uri": "https://localhost:8080/"
        },
        "id": "YxlMf5npLRva",
        "outputId": "a0261072-3176-4d35-cea2-fa3ca7ea3bd4"
      },
      "outputs": [
        {
          "output_type": "stream",
          "name": "stdout",
          "text": [
            "[1, 2]\n"
          ]
        }
      ],
      "source": [
        "from typing import List\n",
        "class Solution:\n",
        "  def twoSum_Hashmap(self,nums: List[int], target: int) -> List[int]:\n",
        "    left, right = 0, len(nums) -1\n",
        "\n",
        "    while left<=right:\n",
        "      currSum = nums[left] + nums[right]\n",
        "\n",
        "      if currSum >target:\n",
        "        right -=1\n",
        "      elif currSum < target:\n",
        "        left +=1\n",
        "      else:\n",
        "        return[left+1, right+1]\n",
        "    return nums\n",
        "\n",
        "input_list = [2,7,11,15]\n",
        "ob1 = Solution()\n",
        "print(ob1.twoSum_Hashmap(input_list, 9))"
      ]
    }
  ]
}