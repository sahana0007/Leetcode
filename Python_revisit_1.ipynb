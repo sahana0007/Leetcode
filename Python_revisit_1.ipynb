{
  "nbformat": 4,
  "nbformat_minor": 0,
  "metadata": {
    "colab": {
      "provenance": [],
      "authorship_tag": "ABX9TyPPdbLMJgWu9nZtUYVPf+n1",
      "include_colab_link": true
    },
    "kernelspec": {
      "name": "python3",
      "display_name": "Python 3"
    },
    "language_info": {
      "name": "python"
    }
  },
  "cells": [
    {
      "cell_type": "markdown",
      "metadata": {
        "id": "view-in-github",
        "colab_type": "text"
      },
      "source": [
        "<a href=\"https://colab.research.google.com/github/sahana0007/Leetcode/blob/main/Python_revisit_1.ipynb\" target=\"_parent\"><img src=\"https://colab.research.google.com/assets/colab-badge.svg\" alt=\"Open In Colab\"/></a>"
      ]
    },
    {
      "cell_type": "markdown",
      "source": [
        "Pig Latin Translator"
      ],
      "metadata": {
        "id": "8IwjFbpmYfsD"
      }
    },
    {
      "cell_type": "code",
      "execution_count": 11,
      "metadata": {
        "colab": {
          "base_uri": "https://localhost:8080/"
        },
        "id": "68ibDEGQYaxg",
        "outputId": "e879d79e-17ca-44f9-876d-f30219d500bf"
      },
      "outputs": [
        {
          "output_type": "stream",
          "name": "stdout",
          "text": [
            "Please enter a not so boring sentence!apply eat you\n",
            "['apply', 'eat', 'you']\n",
            "['applyyey', 'eatyey', 'ouyay']\n",
            "applyyey eatyey ouyay\n"
          ]
        }
      ],
      "source": [
        "#get the sentence from user\n",
        "\n",
        "original  = input(\"Please enter a not so boring sentence!\").strip().lower()\n",
        "\n",
        "#split sentence into words\n",
        "words= original.split()\n",
        "print(words)\n",
        "\n",
        "#loop through words and convert to pig latin\n",
        "#if vowel then add \"yey\" otherwise first consoent to end and add \"ay\"\n",
        "\n",
        "new_words =[]\n",
        "for num in words:\n",
        "  if num[0] in \"aeiou\":\n",
        "    new_word = num + \"yey\"\n",
        "    new_words.append(new_word)\n",
        "  else:\n",
        "    vowel_pos = 0\n",
        "    for i in num:\n",
        "      if i not in \"aeiou\":\n",
        "        vowel_pos = vowel_pos +1\n",
        "      else:\n",
        "        break\n",
        "    cons = num[:vowel_pos]\n",
        "    rest = num[vowel_pos:]\n",
        "    new_word = rest + cons + \"ay\"\n",
        "    new_words.append(new_word)\n",
        "print(new_words)\n",
        "\n",
        "#stick words back together\n",
        "\n",
        "output = \" \".join(new_words)\n",
        "#output string together\n",
        "\n",
        "print(output)"
      ]
    },
    {
      "cell_type": "code",
      "source": [],
      "metadata": {
        "id": "nek6mRyWRpT9"
      },
      "execution_count": null,
      "outputs": []
    },
    {
      "cell_type": "code",
      "source": [],
      "metadata": {
        "id": "RjtLkftDRpgr"
      },
      "execution_count": null,
      "outputs": []
    }
  ]
}