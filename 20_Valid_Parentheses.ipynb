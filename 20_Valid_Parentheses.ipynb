{
  "nbformat": 4,
  "nbformat_minor": 0,
  "metadata": {
    "colab": {
      "name": "20. Valid Parentheses.ipynb",
      "provenance": [],
      "authorship_tag": "ABX9TyMDD7wbwdfAVq11q7wbhoda",
      "include_colab_link": true
    },
    "kernelspec": {
      "name": "python3",
      "display_name": "Python 3"
    },
    "language_info": {
      "name": "python"
    }
  },
  "cells": [
    {
      "cell_type": "markdown",
      "metadata": {
        "id": "view-in-github",
        "colab_type": "text"
      },
      "source": [
        "<a href=\"https://colab.research.google.com/github/sahana0007/Leetcode/blob/main/20_Valid_Parentheses.ipynb\" target=\"_parent\"><img src=\"https://colab.research.google.com/assets/colab-badge.svg\" alt=\"Open In Colab\"/></a>"
      ]
    },
    {
      "cell_type": "code",
      "execution_count": 16,
      "metadata": {
        "colab": {
          "base_uri": "https://localhost:8080/"
        },
        "id": "d0-UOYk16_Hk",
        "outputId": "18a390b8-6c8e-490a-b1e2-a4da26ca2a40"
      },
      "outputs": [
        {
          "output_type": "stream",
          "name": "stdout",
          "text": [
            "True\n"
          ]
        }
      ],
      "source": [
        "class Solution:\n",
        "    def isValid(self, s: str) -> bool:\n",
        "        dict ={\n",
        "            \"{\":\"}\", \n",
        "            \"[\":\"]\",\n",
        "            \"(\":\")\"\n",
        "        }\n",
        "        \n",
        "        list = []\n",
        "        \n",
        "        for i in s:\n",
        "            if i in dict.keys():\n",
        "                list.append(i)\n",
        "            else:\n",
        "                if len(list) ==0 or i != dict[list.pop()]:\n",
        "                    return False\n",
        "        return True if list == [] else False\n",
        "\n",
        "s = \"()[]{}\" \n",
        "ob1 = Solution()\n",
        "print(ob1.isValid(s))\n"
      ]
    },
    {
      "cell_type": "code",
      "source": [
        "class Solution:\n",
        "    def isValid(self, s: str) -> bool:\n",
        "        dict ={\n",
        "            \"{\":\"}\", \n",
        "            \"[\":\"]\",\n",
        "            \"(\":\")\"\n",
        "        }\n",
        "        \n",
        "        list = []\n",
        "        \n",
        "        for i in s:\n",
        "            if i in dict.keys():\n",
        "                list.append(i)\n",
        "            else:\n",
        "                if len(list) ==0 or i != dict[list.pop()]:\n",
        "                    return False\n",
        "        return True if list == [] else False\n",
        "\n",
        "s = \"{[()]]}\" \n",
        "ob1 = Solution()\n",
        "print(ob1.isValid(s))\n"
      ],
      "metadata": {
        "colab": {
          "base_uri": "https://localhost:8080/"
        },
        "id": "COxfTyWj-0Lx",
        "outputId": "f7301537-e067-4225-f62c-bfd557d51094"
      },
      "execution_count": 20,
      "outputs": [
        {
          "output_type": "stream",
          "name": "stdout",
          "text": [
            "False\n"
          ]
        }
      ]
    }
  ]
}