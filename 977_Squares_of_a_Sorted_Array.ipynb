{
  "nbformat": 4,
  "nbformat_minor": 0,
  "metadata": {
    "colab": {
      "name": "977. Squares of a Sorted Array.ipynb",
      "provenance": [],
      "authorship_tag": "ABX9TyMCvNYBj9SR5p8MRqJbTcFA",
      "include_colab_link": true
    },
    "kernelspec": {
      "name": "python3",
      "display_name": "Python 3"
    },
    "language_info": {
      "name": "python"
    }
  },
  "cells": [
    {
      "cell_type": "markdown",
      "metadata": {
        "id": "view-in-github",
        "colab_type": "text"
      },
      "source": [
        "<a href=\"https://colab.research.google.com/github/sahana0007/Leetcode/blob/main/977_Squares_of_a_Sorted_Array.ipynb\" target=\"_parent\"><img src=\"https://colab.research.google.com/assets/colab-badge.svg\" alt=\"Open In Colab\"/></a>"
      ]
    },
    {
      "cell_type": "code",
      "execution_count": 7,
      "metadata": {
        "id": "B9LJJGR88zKZ",
        "colab": {
          "base_uri": "https://localhost:8080/"
        },
        "outputId": "22ee5aca-1265-45ed-c204-22c183dedf03"
      },
      "outputs": [
        {
          "output_type": "stream",
          "name": "stdout",
          "text": [
            "[0, 4, 64, 169, 225]\n"
          ]
        }
      ],
      "source": [
        "from typing import List\n",
        "\n",
        "'''\n",
        "#solution 1\n",
        "class Solution:\n",
        "    def sortedSquares(self, nums: List[int]) -> List[int]:\n",
        "        res = []\n",
        "        \n",
        "        left = 0\n",
        "        right = len(nums) - 1\n",
        "        \n",
        "        #we will take two pointers and compare each pointer, whichever is the largest we will append it to the resultant array and reverse it at the end\n",
        "        \n",
        "        while left<=right:\n",
        "            if nums[left] * nums [left] > nums[right] * nums[right]:\n",
        "                res.append(nums[left] * nums [left])\n",
        "                left +=1\n",
        "            else:\n",
        "                res.append(nums[right] * nums[right])\n",
        "                right -=1\n",
        "        return res[::-1]\n",
        "\n",
        "'''\n",
        "\n",
        "#solution 2 without using the append function\n",
        "class Solution:\n",
        "    def sortedSquares(self, nums: List[int]) -> List[int]:\n",
        "\n",
        "      if not nums or len(nums) ==0:\n",
        "        return []\n",
        "      \n",
        "      ans = [0] * len(nums)\n",
        "      left = 0\n",
        "      right = len(nums) -1\n",
        "\n",
        "      insertloc = right\n",
        "      \n",
        "      while left<=right:\n",
        "        leftSqr = nums[left] * nums[left]\n",
        "        rightSqr = nums[right] * nums[right]\n",
        "\n",
        "        if leftSqr >= rightSqr:\n",
        "          ans[insertloc] = leftSqr\n",
        "          left+=1\n",
        "          insertloc -=1\n",
        "        else:\n",
        "          ans[insertloc] = rightSqr\n",
        "          right-=1\n",
        "          insertloc -=1\n",
        "      return ans\n",
        "\n",
        "\n",
        "\n",
        "\n",
        "input_list = [-2,0,8,13,15]\n",
        "ob1 = Solution()\n",
        "print(ob1.sortedSquares(input_list))"
      ]
    }
  ]
}