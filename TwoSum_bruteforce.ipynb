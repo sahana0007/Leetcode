{
  "nbformat": 4,
  "nbformat_minor": 0,
  "metadata": {
    "colab": {
      "name": "TwoSum_bruteforce.ipynb",
      "provenance": [],
      "authorship_tag": "ABX9TyOWEgSGLJdloR/DUXJ2bC2U",
      "include_colab_link": true
    },
    "kernelspec": {
      "name": "python3",
      "display_name": "Python 3"
    },
    "language_info": {
      "name": "python"
    }
  },
  "cells": [
    {
      "cell_type": "markdown",
      "metadata": {
        "id": "view-in-github",
        "colab_type": "text"
      },
      "source": [
        "<a href=\"https://colab.research.google.com/github/sahana0007/Leetcode/blob/main/TwoSum_bruteforce.ipynb\" target=\"_parent\"><img src=\"https://colab.research.google.com/assets/colab-badge.svg\" alt=\"Open In Colab\"/></a>"
      ]
    },
    {
      "cell_type": "code",
      "execution_count": 12,
      "metadata": {
        "colab": {
          "base_uri": "https://localhost:8080/"
        },
        "id": "fUtnPUinjxq8",
        "outputId": "d910c82e-b645-419f-b014-0dea17119704"
      },
      "outputs": [
        {
          "output_type": "stream",
          "name": "stdout",
          "text": [
            "[0, 2]\n"
          ]
        }
      ],
      "source": [
        "from typing import List\n",
        "class Solution:\n",
        "  def twoSum(self,nums: List[int], target: int) -> List[int]:\n",
        "    for i in range(len(nums)):\n",
        "      for j in range(i+1,len(nums)):\n",
        "        if nums[j] == target - nums[i]:\n",
        "          return[i,j]\n",
        "      return None\n",
        "\n",
        "input_list = [2,8,12,15]\n",
        "ob1 = Solution()\n",
        "print(ob1.twoSum(input_list, 14))"
      ]
    }
  ]
}