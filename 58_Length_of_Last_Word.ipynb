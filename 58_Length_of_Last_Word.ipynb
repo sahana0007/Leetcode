{
  "nbformat": 4,
  "nbformat_minor": 0,
  "metadata": {
    "colab": {
      "name": "58. Length of Last Word.ipynb",
      "provenance": [],
      "authorship_tag": "ABX9TyPOHiS6JeSm0if1WF8R4O6H",
      "include_colab_link": true
    },
    "kernelspec": {
      "name": "python3",
      "display_name": "Python 3"
    },
    "language_info": {
      "name": "python"
    }
  },
  "cells": [
    {
      "cell_type": "markdown",
      "metadata": {
        "id": "view-in-github",
        "colab_type": "text"
      },
      "source": [
        "<a href=\"https://colab.research.google.com/github/sahana0007/Leetcode/blob/main/58_Length_of_Last_Word.ipynb\" target=\"_parent\"><img src=\"https://colab.research.google.com/assets/colab-badge.svg\" alt=\"Open In Colab\"/></a>"
      ]
    },
    {
      "cell_type": "markdown",
      "source": [
        "Given a string s consisting of words and spaces, return the length of the last word in the string.\n",
        "\n",
        "A word is a maximal substring consisting of non-space characters only.\n",
        "\n",
        " \n",
        "\n",
        "Input: s = \"   fly me   to   the moon  \"\n",
        "Output: 4\n",
        "Explanation: The last word is \"moon\" with length 4.\n"
      ],
      "metadata": {
        "id": "-ABj_3EboLuP"
      }
    },
    {
      "cell_type": "code",
      "execution_count": 5,
      "metadata": {
        "colab": {
          "base_uri": "https://localhost:8080/"
        },
        "id": "t42m0VaRmwx9",
        "outputId": "335afb7d-dad7-4366-86a0-0ec32a3d15c4"
      },
      "outputs": [
        {
          "output_type": "stream",
          "name": "stdout",
          "text": [
            "5\n"
          ]
        }
      ],
      "source": [
        "class Solution:\n",
        "    def lengthOfLastWord(self, s: str) -> int:\n",
        "      s = s.strip()\n",
        "      #if s is not None:\n",
        "      if s:\n",
        "        words = s.split(\" \")\n",
        "        a = words[::-1]\n",
        "        return len(a[0])\n",
        "\n",
        "\n",
        "\n",
        "\n",
        "s = \"   fly me   to   the moonn  \"\n",
        "ob1 = Solution()\n",
        "print(ob1.lengthOfLastWord(s))"
      ]
    }
  ]
}