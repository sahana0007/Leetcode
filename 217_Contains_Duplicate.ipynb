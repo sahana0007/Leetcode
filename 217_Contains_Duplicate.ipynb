{
  "nbformat": 4,
  "nbformat_minor": 0,
  "metadata": {
    "colab": {
      "name": "217. Contains Duplicate.ipynb",
      "provenance": [],
      "include_colab_link": true
    },
    "kernelspec": {
      "name": "python3",
      "display_name": "Python 3"
    },
    "language_info": {
      "name": "python"
    }
  },
  "cells": [
    {
      "cell_type": "markdown",
      "metadata": {
        "id": "view-in-github",
        "colab_type": "text"
      },
      "source": [
        "<a href=\"https://colab.research.google.com/github/sahana0007/Leetcode/blob/main/217_Contains_Duplicate.ipynb\" target=\"_parent\"><img src=\"https://colab.research.google.com/assets/colab-badge.svg\" alt=\"Open In Colab\"/></a>"
      ]
    },
    {
      "cell_type": "markdown",
      "source": [
        "HashSet is an implementation of Set Interface which does not allow duplicate value.\n",
        "The main thing is, objects that are stored in HashSet must override equals() for check for equality,\n",
        "and hashCode() methods for no duplicate value are stored in our set.\n",
        "HashMap is an implementation of Map Interface, which maps a key to value.\n",
        "Duplicate keys are not allowed in a Map."
      ],
      "metadata": {
        "id": "6JleU2tzZrZj"
      }
    },
    {
      "cell_type": "code",
      "execution_count": null,
      "metadata": {
        "colab": {
          "base_uri": "https://localhost:8080/"
        },
        "id": "oNBRvzZjZiUg",
        "outputId": "6a5b769e-a50c-4cfa-aa80-2046238d9f95"
      },
      "outputs": [
        {
          "output_type": "stream",
          "name": "stdout",
          "text": [
            "True\n"
          ]
        }
      ],
      "source": [
        "from typing import List\n",
        "class Solution:\n",
        "    def containsDuplicate(self, nums: List[int]) -> bool:\n",
        "        hashSet = set()\n",
        "        for i in nums:\n",
        "          if i in hashSet:\n",
        "            return True\n",
        "          else:\n",
        "            hashSet.add(i)\n",
        "        return False\n",
        "\n",
        "\n",
        "nums = [1,2,3,1]\n",
        "ob1 = Solution()\n",
        "print(ob1.containsDuplicate(nums))"
      ]
    },
    {
      "cell_type": "code",
      "source": [
        "from typing import List\n",
        "class Solution:\n",
        "    def containsDuplicate(self, nums: List[int]) -> bool:\n",
        "        seen = {}\n",
        "        for i in nums:\n",
        "          if i in seen:\n",
        "            return True\n",
        "          else:\n",
        "            seen[i] = True\n",
        "        return False\n",
        "\n",
        "\n",
        "\n",
        "nums= [1,3,5,7]\n",
        "ob1 = Solution()\n",
        "print(ob1.containsDuplicate(nums))"
      ],
      "metadata": {
        "id": "tJzpHR_ludjb",
        "outputId": "70923849-8483-4fb6-83ca-06afd0a4ee29",
        "colab": {
          "base_uri": "https://localhost:8080/"
        }
      },
      "execution_count": 7,
      "outputs": [
        {
          "output_type": "stream",
          "name": "stdout",
          "text": [
            "False\n"
          ]
        }
      ]
    }
  ]
}