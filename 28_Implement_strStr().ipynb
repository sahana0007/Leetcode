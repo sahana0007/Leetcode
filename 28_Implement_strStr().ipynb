{
  "nbformat": 4,
  "nbformat_minor": 0,
  "metadata": {
    "colab": {
      "name": "28. Implement strStr().ipynb",
      "provenance": [],
      "authorship_tag": "ABX9TyPZv4vtEHB6YMg6NP9L989V",
      "include_colab_link": true
    },
    "kernelspec": {
      "name": "python3",
      "display_name": "Python 3"
    },
    "language_info": {
      "name": "python"
    }
  },
  "cells": [
    {
      "cell_type": "markdown",
      "metadata": {
        "id": "view-in-github",
        "colab_type": "text"
      },
      "source": [
        "<a href=\"https://colab.research.google.com/github/sahana0007/Leetcode/blob/main/28_Implement_strStr().ipynb\" target=\"_parent\"><img src=\"https://colab.research.google.com/assets/colab-badge.svg\" alt=\"Open In Colab\"/></a>"
      ]
    },
    {
      "cell_type": "code",
      "execution_count": 5,
      "metadata": {
        "colab": {
          "base_uri": "https://localhost:8080/"
        },
        "id": "dGZ0TCASZFmU",
        "outputId": "ee98bede-e965-44a1-bfc7-1b83b116895b"
      },
      "outputs": [
        {
          "output_type": "stream",
          "name": "stdout",
          "text": [
            "2\n",
            "-1\n"
          ]
        }
      ],
      "source": [
        "haystack = \"hello\"\n",
        "needle = \"ll\"\n",
        "\n",
        "n = len(haystack)\n",
        "m = len(needle)\n",
        "for i in range(n -m+1):\n",
        "  for j in range(m):\n",
        "    if haystack[i+j] != needle[j]:\n",
        "      break\n",
        "    if j == len(needle)-1:\n",
        "      print(i)\n",
        "print(-1)\n"
      ]
    },
    {
      "cell_type": "code",
      "source": [
        "class Solution:\n",
        "    def strStr(self, haystack: str, needle: str) -> int:\n",
        "        for i in range(len(haystack)- len(needle) +1):\n",
        "            if haystack[i:i+len(needle)] ==needle:\n",
        "                return i\n",
        "\n",
        "haystack = \"hello\"\n",
        "needle = \"ll\" \n",
        "ob1 = Solution()\n",
        "print(ob1.strStr(haystack,needle))"
      ],
      "metadata": {
        "colab": {
          "base_uri": "https://localhost:8080/"
        },
        "id": "-7f4l8KddO7H",
        "outputId": "42516fb2-d51e-4e8e-cb16-9ec5af962148"
      },
      "execution_count": 7,
      "outputs": [
        {
          "output_type": "stream",
          "name": "stdout",
          "text": [
            "2\n"
          ]
        }
      ]
    }
  ]
}