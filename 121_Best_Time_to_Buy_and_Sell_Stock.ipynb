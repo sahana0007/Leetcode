{
  "nbformat": 4,
  "nbformat_minor": 0,
  "metadata": {
    "colab": {
      "name": "121. Best Time to Buy and Sell Stock.ipynb",
      "provenance": [],
      "authorship_tag": "ABX9TyOuDWkoTMbVZ4Ssw9GGETnr",
      "include_colab_link": true
    },
    "kernelspec": {
      "name": "python3",
      "display_name": "Python 3"
    },
    "language_info": {
      "name": "python"
    }
  },
  "cells": [
    {
      "cell_type": "markdown",
      "metadata": {
        "id": "view-in-github",
        "colab_type": "text"
      },
      "source": [
        "<a href=\"https://colab.research.google.com/github/sahana0007/Leetcode/blob/main/121_Best_Time_to_Buy_and_Sell_Stock.ipynb\" target=\"_parent\"><img src=\"https://colab.research.google.com/assets/colab-badge.svg\" alt=\"Open In Colab\"/></a>"
      ]
    },
    {
      "cell_type": "code",
      "execution_count": 5,
      "metadata": {
        "colab": {
          "base_uri": "https://localhost:8080/"
        },
        "id": "o2RJGfoy8UF-",
        "outputId": "85606e10-af3a-4b67-fc64-1ac25c083a56"
      },
      "outputs": [
        {
          "output_type": "stream",
          "name": "stdout",
          "text": [
            "0\n"
          ]
        }
      ],
      "source": [
        "from typing import List\n",
        "class Solution:\n",
        "    def maxProfit(self, prices: List[int]) -> int:\n",
        "        maxprofit = 0\n",
        "        #whenever i find profit = max(i -j) is ans\n",
        "        \n",
        "        \n",
        "        for i in range(len(prices)-1):\n",
        "            for j in range(i+1,len(prices)):\n",
        "                profit = prices[j] - prices [i]\n",
        "                if profit > maxprofit:\n",
        "                    maxprofit = profit\n",
        "        return maxprofit\n",
        "\n",
        "\n",
        "prices = [7,6,4,3,1]\n",
        "ob1 = Solution()\n",
        "print(ob1.maxProfit(prices))"
      ]
    },
    {
      "cell_type": "code",
      "source": [
        "class Solution:\n",
        "    def maxProfit(self, prices: List[int]) -> int:\n",
        "        maxprofit = 0\n",
        "        \n",
        "        left = 0\n",
        "        right = 1\n",
        "        \n",
        "        for right in range(len(prices)):\n",
        "            if prices[left] <prices[right]:\n",
        "                profit = prices[right] - prices[left]\n",
        "                maxprofit = max(maxprofit, profit)\n",
        "            else:\n",
        "                left=right #because we have found the lowest number and want to buy with that\n",
        "        return maxprofit\n",
        "\n",
        "prices = [7,6,4,3,9]\n",
        "ob1 = Solution()\n",
        "print(ob1.maxProfit(prices))"
      ],
      "metadata": {
        "colab": {
          "base_uri": "https://localhost:8080/"
        },
        "id": "unRQN-vJH1Yk",
        "outputId": "f5d3b85a-cfba-4568-8c80-0414eed1cb4d"
      },
      "execution_count": 6,
      "outputs": [
        {
          "output_type": "stream",
          "name": "stdout",
          "text": [
            "6\n"
          ]
        }
      ]
    }
  ]
}