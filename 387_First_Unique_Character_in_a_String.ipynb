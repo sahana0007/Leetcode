{
  "nbformat": 4,
  "nbformat_minor": 0,
  "metadata": {
    "colab": {
      "name": "387. First Unique Character in a String.ipynb",
      "provenance": [],
      "collapsed_sections": [],
      "authorship_tag": "ABX9TyNvzFFcnE0QQKlhHKnNiU2/",
      "include_colab_link": true
    },
    "kernelspec": {
      "name": "python3",
      "display_name": "Python 3"
    },
    "language_info": {
      "name": "python"
    }
  },
  "cells": [
    {
      "cell_type": "markdown",
      "metadata": {
        "id": "view-in-github",
        "colab_type": "text"
      },
      "source": [
        "<a href=\"https://colab.research.google.com/github/sahana0007/Leetcode/blob/main/387_First_Unique_Character_in_a_String.ipynb\" target=\"_parent\"><img src=\"https://colab.research.google.com/assets/colab-badge.svg\" alt=\"Open In Colab\"/></a>"
      ]
    },
    {
      "cell_type": "markdown",
      "source": [
        "Approach 1 "
      ],
      "metadata": {
        "id": "8vHTxom4Ev1g"
      }
    },
    {
      "cell_type": "code",
      "execution_count": 3,
      "metadata": {
        "colab": {
          "base_uri": "https://localhost:8080/"
        },
        "id": "XIhtFTOQElaw",
        "outputId": "6dcfb94d-b2d5-45ad-dedd-7f3dfdb33c6a"
      },
      "outputs": [
        {
          "output_type": "stream",
          "name": "stdout",
          "text": [
            "2\n"
          ]
        }
      ],
      "source": [
        "from collections import Counter\n",
        "class Solution:\n",
        "    def firstUniqChar(self, s: str) -> int:         \n",
        "        for i in range(len(s)):\n",
        "            totalchar = Counter(list(s))\n",
        "            if totalchar.get(s[i]) ==1:\n",
        "                return i\n",
        "        return -1\n",
        "\n",
        "s = \"loveleetcode\"\n",
        "ob1 = Solution()\n",
        "print(ob1.firstUniqChar(s))"
      ]
    },
    {
      "cell_type": "markdown",
      "source": [
        "Approach 2 : using hashmap"
      ],
      "metadata": {
        "id": "3vT6zBL-E-C6"
      }
    },
    {
      "cell_type": "code",
      "source": [
        "class Solution:\n",
        "    def firstUniqChar(self, s: str) -> int:\n",
        "      #create dictionary to store frequency of the string\n",
        "      d={}\n",
        "\n",
        "      for i in range(len(s)):\n",
        "        if s[i] not in d:\n",
        "          d[s[i]] = 1\n",
        "        else:\n",
        "          d[s[i]] +=1\n",
        "      \n",
        "      for i in range(len(s)):\n",
        "        if d[s[i]] ==1:\n",
        "          return i\n",
        "      return -1\n",
        "\n",
        "s = \"loveleetcodvz\"\n",
        "ob1 = Solution()\n",
        "print(ob1.firstUniqChar(s))"
      ],
      "metadata": {
        "colab": {
          "base_uri": "https://localhost:8080/"
        },
        "id": "Qs55z9S2E9oA",
        "outputId": "b0410dc2-193f-4df6-9277-622a3d48a465"
      },
      "execution_count": 11,
      "outputs": [
        {
          "output_type": "stream",
          "name": "stdout",
          "text": [
            "7\n"
          ]
        }
      ]
    }
  ]
}