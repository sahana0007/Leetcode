{
  "nbformat": 4,
  "nbformat_minor": 0,
  "metadata": {
    "colab": {
      "name": "243. Shortest Word Distance.ipynb",
      "provenance": [],
      "authorship_tag": "ABX9TyMzhIQKGtY9YSZs7AbRGR4r",
      "include_colab_link": true
    },
    "kernelspec": {
      "name": "python3",
      "display_name": "Python 3"
    },
    "language_info": {
      "name": "python"
    }
  },
  "cells": [
    {
      "cell_type": "markdown",
      "metadata": {
        "id": "view-in-github",
        "colab_type": "text"
      },
      "source": [
        "<a href=\"https://colab.research.google.com/github/sahana0007/Leetcode/blob/main/243_Shortest_Word_Distance.ipynb\" target=\"_parent\"><img src=\"https://colab.research.google.com/assets/colab-badge.svg\" alt=\"Open In Colab\"/></a>"
      ]
    },
    {
      "cell_type": "markdown",
      "source": [
        "Given an array of strings wordsDict and two different strings that already exist in the array word1 and word2, return the shortest distance between these two words in the list."
      ],
      "metadata": {
        "id": "FEQkcXxQoepT"
      }
    },
    {
      "cell_type": "markdown",
      "source": [
        "USING 2 POINTER Solution"
      ],
      "metadata": {
        "id": "Sbn2dTdfomz_"
      }
    },
    {
      "cell_type": "code",
      "source": [
        "from numpy import inf\n",
        "from typing import List\n",
        "class Solution:\n",
        "    def shortestDistance(self, wordsDict: List[str], word1: str, word2: str) -> int:\n",
        "        calc = float(inf) #since we are calculating min value so, we need to compare it with a max value\n",
        "\n",
        "        word1_dist, word2_dist = -1, -1  #since wordsDict starts with 0 index and we need an index position that the words never been through\n",
        "        for i in range(len(wordsDict)):\n",
        "            if wordsDict[i] == word1:\n",
        "                word1_dist = i\n",
        "            if wordsDict[i] == word2:\n",
        "                word2_dist = i\n",
        "            if word1_dist!=-1 and word2_dist!=-1:\n",
        "                calc = min(abs(word1_dist - word2_dist), calc)\n",
        "                \n",
        "        #print(word2_dist)        \n",
        "        #print(word1_dist)\n",
        "        \n",
        "        return calc\n",
        "\n",
        "wordsDict = [\"practice\", \"practice\", \"perfect\", \"coding\", \"coding\"]\n",
        "word1 = \"coding\"\n",
        "word2 = \"practice\"\n",
        "\n",
        "ob1 = Solution()\n",
        "print(ob1.shortestDistance(wordsDict, word1, word2))"
      ],
      "metadata": {
        "colab": {
          "base_uri": "https://localhost:8080/"
        },
        "id": "xXWVmhNfgnOO",
        "outputId": "a2b7521f-f306-44c2-81bb-553935f5eb6f"
      },
      "execution_count": 17,
      "outputs": [
        {
          "output_type": "stream",
          "name": "stdout",
          "text": [
            "2\n"
          ]
        }
      ]
    },
    {
      "cell_type": "markdown",
      "source": [
        "METHOD 2 : TRAVERSION INSIDE 2 ARRAYS"
      ],
      "metadata": {
        "id": "hUJMljU4oqTp"
      }
    },
    {
      "cell_type": "code",
      "execution_count": 6,
      "metadata": {
        "colab": {
          "base_uri": "https://localhost:8080/"
        },
        "id": "DBsYrsKOgNNc",
        "outputId": "76574b6b-9c86-4eac-a322-ea0a41ab06fe"
      },
      "outputs": [
        {
          "output_type": "stream",
          "name": "stdout",
          "text": [
            "1\n"
          ]
        }
      ],
      "source": [
        "from typing import List\n",
        "class Solution:\n",
        "    def shortestDistance(self, wordsDict: List[str], word1: str, word2: str) -> int:\n",
        "      word1_dist , word2_dist, min_dist =[], [], []\n",
        "\n",
        "      for i, a in enumerate(wordsDict):\n",
        "        if a == word1:\n",
        "          word1_dist.append(i)\n",
        "        elif a ==word2:\n",
        "          word2_dist.append(i)\n",
        "\n",
        "      for i in word1_dist:\n",
        "        for j in word2_dist:\n",
        "          min_dist.append(abs(i-j))\n",
        "\n",
        "      return(min(min_dist))\n",
        "\n",
        "\n",
        "wordsDict = [\"a\", \"a\", \"b\", \"b\", \"c\"]\n",
        "word1 = \"a\"\n",
        "word2 = \"b\"\n",
        "\n",
        "ob1 = Solution()\n",
        "print(ob1.shortestDistance(wordsDict, word1, word2))"
      ]
    }
  ]
}