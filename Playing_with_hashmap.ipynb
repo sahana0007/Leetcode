{
  "nbformat": 4,
  "nbformat_minor": 0,
  "metadata": {
    "colab": {
      "name": "Playing with hashmap.ipynb",
      "provenance": [],
      "authorship_tag": "ABX9TyOC7QQG5+9bhk3I8pdPUzMJ",
      "include_colab_link": true
    },
    "kernelspec": {
      "name": "python3",
      "display_name": "Python 3"
    },
    "language_info": {
      "name": "python"
    }
  },
  "cells": [
    {
      "cell_type": "markdown",
      "metadata": {
        "id": "view-in-github",
        "colab_type": "text"
      },
      "source": [
        "<a href=\"https://colab.research.google.com/github/sahana0007/Leetcode/blob/main/Playing_with_hashmap.ipynb\" target=\"_parent\"><img src=\"https://colab.research.google.com/assets/colab-badge.svg\" alt=\"Open In Colab\"/></a>"
      ]
    },
    {
      "cell_type": "code",
      "execution_count": 1,
      "metadata": {
        "colab": {
          "base_uri": "https://localhost:8080/"
        },
        "id": "rAEX6GzWdMaU",
        "outputId": "a42bff97-ab1f-4e50-d4b8-008359e78a17"
      },
      "outputs": [
        {
          "output_type": "stream",
          "name": "stdout",
          "text": [
            "{'p': 1, 'w': 3, 'a': 1, 'b': 1, 'c': 1} w 3\n"
          ]
        }
      ],
      "source": [
        "s = \"pwwabcw\"\n",
        "\n",
        "l =0\n",
        "r =0\n",
        "d ={}\n",
        "res = 0\n",
        "while r<len(s):\n",
        "    if s[r] not in d:\n",
        "        d[s[r]] =1\n",
        "    else:\n",
        "        d[s[r]] +=1 #increasing counter/frequency\n",
        "    if d[s[r]]:\n",
        "        value = d[s[r]]\n",
        "        key = s[r]  \n",
        "    r+=1 \n",
        "print(d,key,value)"
      ]
    }
  ]
}