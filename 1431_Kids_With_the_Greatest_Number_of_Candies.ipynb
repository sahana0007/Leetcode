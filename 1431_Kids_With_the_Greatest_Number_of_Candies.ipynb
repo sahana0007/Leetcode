{
  "nbformat": 4,
  "nbformat_minor": 0,
  "metadata": {
    "colab": {
      "name": "1431. Kids With the Greatest Number of Candies.ipynb",
      "provenance": [],
      "authorship_tag": "ABX9TyNNwFrrIJXYwRiHXZi+kasU",
      "include_colab_link": true
    },
    "kernelspec": {
      "name": "python3",
      "display_name": "Python 3"
    },
    "language_info": {
      "name": "python"
    }
  },
  "cells": [
    {
      "cell_type": "markdown",
      "metadata": {
        "id": "view-in-github",
        "colab_type": "text"
      },
      "source": [
        "<a href=\"https://colab.research.google.com/github/sahana0007/Leetcode/blob/main/1431_Kids_With_the_Greatest_Number_of_Candies.ipynb\" target=\"_parent\"><img src=\"https://colab.research.google.com/assets/colab-badge.svg\" alt=\"Open In Colab\"/></a>"
      ]
    },
    {
      "cell_type": "code",
      "execution_count": 3,
      "metadata": {
        "colab": {
          "base_uri": "https://localhost:8080/"
        },
        "id": "eQnZhr-Ggt0p",
        "outputId": "4db5a6e5-c2df-463f-b5fe-d7210427e731"
      },
      "outputs": [
        {
          "output_type": "stream",
          "name": "stdout",
          "text": [
            "[True, True, True, False, True]\n"
          ]
        }
      ],
      "source": [
        "from typing import List\n",
        "class Solution:\n",
        "    def kidsWithCandies(self, candies: List[int], extraCandies: int) -> List[bool]:\n",
        "        res =[]  \n",
        "        for i in candies:       \n",
        "            if (i+extraCandies >=max(candies)):\n",
        "                res.append(True)\n",
        "            else:\n",
        "                res.append(False)\n",
        "        return res\n",
        "    \n",
        "\n",
        "candies = [2,3,5,1,3]\n",
        "extraCandies = 3\n",
        "ob1 = Solution()\n",
        "print(ob1.kidsWithCandies(candies,extraCandies))"
      ]
    }
  ]
}