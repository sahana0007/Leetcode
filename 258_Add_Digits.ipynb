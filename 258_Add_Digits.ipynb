{
  "nbformat": 4,
  "nbformat_minor": 0,
  "metadata": {
    "colab": {
      "name": "258. Add Digits.ipynb",
      "provenance": [],
      "authorship_tag": "ABX9TyNCb2ueLgDG/5k0fbFgUxp1",
      "include_colab_link": true
    },
    "kernelspec": {
      "name": "python3",
      "display_name": "Python 3"
    },
    "language_info": {
      "name": "python"
    }
  },
  "cells": [
    {
      "cell_type": "markdown",
      "metadata": {
        "id": "view-in-github",
        "colab_type": "text"
      },
      "source": [
        "<a href=\"https://colab.research.google.com/github/sahana0007/Leetcode/blob/main/258_Add_Digits.ipynb\" target=\"_parent\"><img src=\"https://colab.research.google.com/assets/colab-badge.svg\" alt=\"Open In Colab\"/></a>"
      ]
    },
    {
      "cell_type": "code",
      "execution_count": 2,
      "metadata": {
        "colab": {
          "base_uri": "https://localhost:8080/"
        },
        "id": "ozQutT8aXGxe",
        "outputId": "5d8b05ca-39f7-4dc0-9ffb-bc42ce46419a"
      },
      "outputs": [
        {
          "output_type": "stream",
          "name": "stdout",
          "text": [
            "2\n"
          ]
        }
      ],
      "source": [
        "def add_digit(nums):\n",
        "  if nums ==0:\n",
        "    return 0\n",
        "  elif nums%9==0:\n",
        "    return 9\n",
        "  return nums%9\n",
        "\n",
        "print(add_digit(38))"
      ]
    }
  ]
}