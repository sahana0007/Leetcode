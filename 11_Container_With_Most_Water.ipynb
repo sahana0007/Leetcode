{
  "nbformat": 4,
  "nbformat_minor": 0,
  "metadata": {
    "colab": {
      "name": "11. Container With Most Water.ipynb",
      "provenance": [],
      "authorship_tag": "ABX9TyONy3Etp2/P58v6MQrMmhPD",
      "include_colab_link": true
    },
    "kernelspec": {
      "name": "python3",
      "display_name": "Python 3"
    },
    "language_info": {
      "name": "python"
    }
  },
  "cells": [
    {
      "cell_type": "markdown",
      "metadata": {
        "id": "view-in-github",
        "colab_type": "text"
      },
      "source": [
        "<a href=\"https://colab.research.google.com/github/sahana0007/Leetcode/blob/main/11_Container_With_Most_Water.ipynb\" target=\"_parent\"><img src=\"https://colab.research.google.com/assets/colab-badge.svg\" alt=\"Open In Colab\"/></a>"
      ]
    },
    {
      "cell_type": "code",
      "execution_count": 2,
      "metadata": {
        "colab": {
          "base_uri": "https://localhost:8080/"
        },
        "id": "6gmVxxe-5-4Y",
        "outputId": "7fbca202-2e8f-45aa-c4f3-dcb879d11ae9"
      },
      "outputs": [
        {
          "output_type": "stream",
          "name": "stdout",
          "text": [
            "49\n"
          ]
        }
      ],
      "source": [
        "from typing import List\n",
        "class Solution:\n",
        "    def maxArea(self, height: List[int]) -> int:\n",
        "        maxresult = 0\n",
        "        \n",
        "        l, r = 0, len(height)-1\n",
        "\n",
        "        while l<r:\n",
        "            area = (r-l) * min(height[l], height[r])\n",
        "            maxresult = max(maxresult,area) \n",
        "            if height[l] > height[r]:\n",
        "                r-=1\n",
        "            else:\n",
        "                l+=1\n",
        "        return maxresult\n",
        "\n",
        "height = [1,8,6,2,5,4,8,3,7]\n",
        "ob1 = Solution()\n",
        "print(ob1.maxArea(height))"
      ]
    }
  ]
}