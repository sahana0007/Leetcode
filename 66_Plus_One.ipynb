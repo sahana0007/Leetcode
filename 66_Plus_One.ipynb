{
  "nbformat": 4,
  "nbformat_minor": 0,
  "metadata": {
    "colab": {
      "name": "66. Plus One.ipynb",
      "provenance": [],
      "authorship_tag": "ABX9TyObH33qHRLgDjvOrcTz5IV0",
      "include_colab_link": true
    },
    "kernelspec": {
      "name": "python3",
      "display_name": "Python 3"
    },
    "language_info": {
      "name": "python"
    }
  },
  "cells": [
    {
      "cell_type": "markdown",
      "metadata": {
        "id": "view-in-github",
        "colab_type": "text"
      },
      "source": [
        "<a href=\"https://colab.research.google.com/github/sahana0007/Leetcode/blob/main/66_Plus_One.ipynb\" target=\"_parent\"><img src=\"https://colab.research.google.com/assets/colab-badge.svg\" alt=\"Open In Colab\"/></a>"
      ]
    },
    {
      "cell_type": "markdown",
      "source": [
        "Increment the large integer by one and return the resulting array of digits.\n",
        "\n",
        "Input: digits = [1,2,3,5]\n",
        "\n",
        "Output: [1,2,3,6]"
      ],
      "metadata": {
        "id": "2r_7WbtkUXc1"
      }
    },
    {
      "cell_type": "code",
      "source": [
        "from typing import List\n",
        "class Solution:\n",
        "    def plusOne(self, digits: List[int]) -> List[int]:\n",
        "      for i in reversed(range(len(digits))):\n",
        "        if digits[i] != 9:\n",
        "          digits[i] +=1\n",
        "          return digits\n",
        "        else:\n",
        "          digits[i] = 0\n",
        "      return [1] + digits\n",
        "\n",
        "digits = [9]\n",
        "ob1 = Solution()\n",
        "print(ob1.plusOne(digits))"
      ],
      "metadata": {
        "colab": {
          "base_uri": "https://localhost:8080/"
        },
        "id": "1ZC4YhAiOmTU",
        "outputId": "014e210f-b41e-466e-8800-a9a61925e614"
      },
      "execution_count": 2,
      "outputs": [
        {
          "output_type": "stream",
          "name": "stdout",
          "text": [
            "[1, 0]\n"
          ]
        }
      ]
    },
    {
      "cell_type": "code",
      "execution_count": 3,
      "metadata": {
        "colab": {
          "base_uri": "https://localhost:8080/"
        },
        "id": "r7xDs7Lj3be_",
        "outputId": "9f580b41-cd60-44c1-8c1f-019f5a1f0843"
      },
      "outputs": [
        {
          "output_type": "stream",
          "name": "stdout",
          "text": [
            "[1, 2, 3, 7]\n"
          ]
        }
      ],
      "source": [
        "from typing import List\n",
        "class Solution:\n",
        "    def plusOne(self, digits: List[int]) -> List[int]:\n",
        "        \n",
        "        if len(digits) ==0:\n",
        "            return[1]\n",
        "        \n",
        "        if digits[-1]!=9:\n",
        "            digits[-1]+=1\n",
        "            return digits\n",
        "        else:\n",
        "            digits = self.plusOne(digits[:-1])\n",
        "            digits.append(0)\n",
        "            return digits\n",
        "\n",
        "digits = [1,2,3,6]\n",
        "ob1 = Solution()\n",
        "print(ob1.plusOne(digits))"
      ]
    }
  ]
}