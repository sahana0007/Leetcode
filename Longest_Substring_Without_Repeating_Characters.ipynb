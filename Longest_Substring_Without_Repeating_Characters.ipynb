{
  "nbformat": 4,
  "nbformat_minor": 0,
  "metadata": {
    "colab": {
      "provenance": [],
      "authorship_tag": "ABX9TyNqaCQy0Sts6p5ZKF89z0MO",
      "include_colab_link": true
    },
    "kernelspec": {
      "name": "python3",
      "display_name": "Python 3"
    },
    "language_info": {
      "name": "python"
    }
  },
  "cells": [
    {
      "cell_type": "markdown",
      "metadata": {
        "id": "view-in-github",
        "colab_type": "text"
      },
      "source": [
        "<a href=\"https://colab.research.google.com/github/sahana0007/Leetcode/blob/main/Longest_Substring_Without_Repeating_Characters.ipynb\" target=\"_parent\"><img src=\"https://colab.research.google.com/assets/colab-badge.svg\" alt=\"Open In Colab\"/></a>"
      ]
    },
    {
      "cell_type": "code",
      "source": [
        "from numpy import inf\n",
        "class Solution:\n",
        "    def lengthOfLongestSubstring(self, s: str) -> int:\n",
        "\n",
        "        if len(s)==0:\n",
        "            return 0\n",
        "\n",
        "        maxi = float(-inf)\n",
        "        \n",
        "\n",
        "        for i in range(len(s)):\n",
        "            check =[]\n",
        "            for j in range(i,len(s)):\n",
        "                if s[j] not in check:\n",
        "                    check.append(s[j])\n",
        "                    maxi = max(maxi,j-i+1)\n",
        "                elif s[j] in check:\n",
        "                    break\n",
        "        return maxi\n",
        "\n",
        "\n",
        "s = \"pwwkew\"\n",
        "ob1 = Solution()\n",
        "print(ob1.lengthOfLongestSubstring(s))"
      ],
      "metadata": {
        "colab": {
          "base_uri": "https://localhost:8080/"
        },
        "id": "vsVXeETeobId",
        "outputId": "4265c981-2fa9-46d4-ce88-6ea65cdfd94b"
      },
      "execution_count": 2,
      "outputs": [
        {
          "output_type": "stream",
          "name": "stdout",
          "text": [
            "3\n"
          ]
        }
      ]
    },
    {
      "cell_type": "code",
      "source": [
        "#abcabcbb\n",
        "\n",
        "class Solution:\n",
        "  def lengthOfLongestSubstring(self, s: str) -> int:\n",
        "    start = 0\n",
        "    end = 0\n",
        "    d = dict()\n",
        "    max_substr_len = 0\n",
        "    \n",
        "    \n",
        "    while end < len(s):\n",
        "        curr_ch = s[end] \n",
        "        if curr_ch in d:\n",
        "            d[curr_ch] += 1 #incrementing the count of end as its already present\n",
        "            \n",
        "        else:\n",
        "            d[curr_ch] = 1\n",
        "            \n",
        "        #Now check that window size equal to all unique chrs\n",
        "        #It means all the char in window has cnt 1\n",
        "        if (len(d) == (end - start + 1)):\n",
        "            max_substr_len = max(max_substr_len, (end - start + 1))\n",
        "        \n",
        "        #If len of d is less then window size \n",
        "        #It means we capture repeatative chrs so we need to remove them\n",
        "        if len(d) < (end - start + 1):\n",
        "            while len(d) < (end - start + 1):\n",
        "                ch_front = s[start]\n",
        "                d[ch_front] -= 1 # decrementing the count of start\n",
        "                \n",
        "                if d[ch_front] == 0:\n",
        "                    del d[ch_front]\n",
        "                    \n",
        "                start += 1\n",
        "                \n",
        "        #update the end pointer\n",
        "        end += 1\n",
        "        \n",
        "    return max_substr_len\n",
        "\n",
        "s = \"pwwkew\"\n",
        "ob1 = Solution()\n",
        "print(ob1.lengthOfLongestSubstring(s))"
      ],
      "metadata": {
        "colab": {
          "base_uri": "https://localhost:8080/"
        },
        "id": "NeRJhdq-BiyG",
        "outputId": "6b9a4e94-b3e6-4205-f0cc-20453473af5c"
      },
      "execution_count": null,
      "outputs": [
        {
          "output_type": "stream",
          "name": "stdout",
          "text": [
            "3\n"
          ]
        }
      ]
    }
  ]
}