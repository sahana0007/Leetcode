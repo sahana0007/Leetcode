{
  "nbformat": 4,
  "nbformat_minor": 0,
  "metadata": {
    "colab": {
      "name": "practice: Longest Substring Without RC approaches.ipynb",
      "provenance": [],
      "authorship_tag": "ABX9TyPoKQbMIkgN2mTGIO8r8a3G",
      "include_colab_link": true
    },
    "kernelspec": {
      "name": "python3",
      "display_name": "Python 3"
    },
    "language_info": {
      "name": "python"
    }
  },
  "cells": [
    {
      "cell_type": "markdown",
      "metadata": {
        "id": "view-in-github",
        "colab_type": "text"
      },
      "source": [
        "<a href=\"https://colab.research.google.com/github/sahana0007/Leetcode/blob/main/practice_Longest_Substring_Without_RC_approaches.ipynb\" target=\"_parent\"><img src=\"https://colab.research.google.com/assets/colab-badge.svg\" alt=\"Open In Colab\"/></a>"
      ]
    },
    {
      "cell_type": "markdown",
      "source": [
        "Given a string s, find the length of the longest substring without repeating characters."
      ],
      "metadata": {
        "id": "j4lH8NW6i2Kc"
      }
    },
    {
      "cell_type": "code",
      "execution_count": 3,
      "metadata": {
        "colab": {
          "base_uri": "https://localhost:8080/"
        },
        "id": "1IG3APV2fJgq",
        "outputId": "b937a3e2-a0c8-40f0-a8c7-d5531696ef93"
      },
      "outputs": [
        {
          "output_type": "stream",
          "name": "stdout",
          "text": [
            "3\n"
          ]
        }
      ],
      "source": [
        "#pwwkew\n",
        "#smallest substring non repeated\n",
        "\n",
        "class Solution:\n",
        "  def lengthOfLongestSubstring(self, s: str) -> int:\n",
        "    \n",
        "    maxchar = float('-inf')\n",
        "    for i in range(len(s)):\n",
        "      arr =[]\n",
        "      for j in range(i,len(s)):\n",
        "        if s[j] not in arr:\n",
        "          arr.append(s[j])\n",
        "          maxchar = max(maxchar, j - i +1)\n",
        "          j+=1\n",
        "        elif s[j] in arr:\n",
        "          break\n",
        "      i+=1\n",
        "    return maxchar\n",
        "\n",
        "\n",
        "s = \"pwwkew\"\n",
        "ob1 = Solution()\n",
        "print(ob1.lengthOfLongestSubstring(s))"
      ]
    },
    {
      "cell_type": "code",
      "source": [
        "#pwwkew\n",
        "#smallest substring non repeated\n",
        "\n",
        "class Solution:\n",
        "  def lengthOfLongestSubstring(self, s: str) -> int:\n",
        "    maxchar = float('-inf')\n",
        "    arr =[]\n",
        "    start , end = 0, 0\n",
        "    for i in range(len(s)):\n",
        "      if s[i] not in arr:\n",
        "        arr.append(s[end])\n",
        "        maxchar = max(maxchar, end - start +1)\n",
        "        end +=1\n",
        "      else:\n",
        "        arr.remove(s[start])\n",
        "        start+=1\n",
        "    return maxchar\n",
        "\n",
        "\n",
        "\n",
        "s = \"abcprabcbb\"\n",
        "ob1 = Solution()\n",
        "print(ob1.lengthOfLongestSubstring(s))"
      ],
      "metadata": {
        "colab": {
          "base_uri": "https://localhost:8080/"
        },
        "id": "LBxJLJkaq-E4",
        "outputId": "b578c444-5e35-4bf8-d93a-69fe58bd13b8"
      },
      "execution_count": 18,
      "outputs": [
        {
          "output_type": "stream",
          "name": "stdout",
          "text": [
            "5\n"
          ]
        }
      ]
    },
    {
      "cell_type": "code",
      "source": [
        "#pwwkew\n",
        "#smallest substring non repeated\n",
        "\n",
        "class Solution:\n",
        "  def lengthOfLongestSubstring(self, s: str) -> int:\n",
        "    maxchar = float('-inf')\n",
        "    arr =[]\n",
        "    start , end = 0, 0\n",
        "    while end <len(s):\n",
        "      if s[end] not in arr:\n",
        "        arr.append(s[end])\n",
        "        maxchar = max(maxchar, end - start +1)\n",
        "        end +=1\n",
        "      else:\n",
        "        arr.remove(s[start])\n",
        "        start+=1\n",
        "    return maxchar\n",
        "\n",
        "\n",
        "\n",
        "s = \"pwwkew\"\n",
        "ob1 = Solution()\n",
        "print(ob1.lengthOfLongestSubstring(s))"
      ],
      "metadata": {
        "colab": {
          "base_uri": "https://localhost:8080/"
        },
        "id": "PqOyfITAzGkY",
        "outputId": "a21e8703-ec46-4824-f745-657f00cf6f0f"
      },
      "execution_count": 20,
      "outputs": [
        {
          "output_type": "stream",
          "name": "stdout",
          "text": [
            "3\n"
          ]
        }
      ]
    }
  ]
}