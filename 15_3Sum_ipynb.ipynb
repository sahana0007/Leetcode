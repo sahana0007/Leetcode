{
  "nbformat": 4,
  "nbformat_minor": 0,
  "metadata": {
    "colab": {
      "name": "15. 3Sum- ipynb",
      "provenance": [],
      "authorship_tag": "ABX9TyO3FcfVIE7K4zmnjipOH3ti",
      "include_colab_link": true
    },
    "kernelspec": {
      "name": "python3",
      "display_name": "Python 3"
    },
    "language_info": {
      "name": "python"
    }
  },
  "cells": [
    {
      "cell_type": "markdown",
      "metadata": {
        "id": "view-in-github",
        "colab_type": "text"
      },
      "source": [
        "<a href=\"https://colab.research.google.com/github/sahana0007/Leetcode/blob/main/15_3Sum_ipynb.ipynb\" target=\"_parent\"><img src=\"https://colab.research.google.com/assets/colab-badge.svg\" alt=\"Open In Colab\"/></a>"
      ]
    },
    {
      "cell_type": "code",
      "execution_count": 1,
      "metadata": {
        "id": "9vp8YhuPQWYz",
        "colab": {
          "base_uri": "https://localhost:8080/"
        },
        "outputId": "766fb1e1-7363-45fc-9fd3-10b5bdca76fe"
      },
      "outputs": [
        {
          "output_type": "stream",
          "name": "stdout",
          "text": [
            "[[-9, 0, 9], [-8, 2, 6], [-6, 0, 6]]\n"
          ]
        }
      ],
      "source": [
        "#[-3,-3,4,3,1,2]\n",
        "from typing import List\n",
        "\n",
        "class Solution:\n",
        "    def threeSum(self, nums: List[int]) -> List[List[int]]:\n",
        "        res = []\n",
        "        out = []\n",
        "        \n",
        "        nums.sort()\n",
        "        \n",
        "        #[-4,-1,-1,0,1,2] a , b ,c \n",
        "        \n",
        "        for i in range(len(nums)-2):\n",
        "            \n",
        "            if len(nums) <3:\n",
        "                return False\n",
        "            \n",
        "            if nums[i] == nums[i-1] and i >0:\n",
        "                continue\n",
        "                \n",
        "            start, end = i+1, len(nums)-1\n",
        "            \n",
        "            while start <end:\n",
        "                if nums[i] + nums[start] + nums[end] ==0:\n",
        "                    res.append(nums[i])\n",
        "                    res.append(nums[start])\n",
        "                    res.append(nums[end])\n",
        "                    start+=1\n",
        "                    end-=1\n",
        "                    if res not in out:\n",
        "                        out.append(res)\n",
        "                    res=[]\n",
        "                elif nums[i] + nums[start] + nums[end] >0:\n",
        "                    end -=1\n",
        "                elif nums[i] + nums[start] + nums[end] <0:\n",
        "                    start+=1\n",
        "        return out\n",
        "          \n",
        "\n",
        "input_list = [-6,-8,-9,0,9,6,2]\n",
        "ob1 = Solution()\n",
        "print(ob1.threeSum(input_list))\n",
        "\n",
        "\n",
        "\n"
      ]
    }
  ]
}