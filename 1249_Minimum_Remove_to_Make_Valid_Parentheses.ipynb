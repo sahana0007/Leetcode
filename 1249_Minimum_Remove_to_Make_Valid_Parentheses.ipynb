{
  "nbformat": 4,
  "nbformat_minor": 0,
  "metadata": {
    "colab": {
      "name": "1249. Minimum Remove to Make Valid Parentheses.ipynb",
      "provenance": [],
      "authorship_tag": "ABX9TyPPy5t2Wiufa3LaKnn9TwG1",
      "include_colab_link": true
    },
    "kernelspec": {
      "name": "python3",
      "display_name": "Python 3"
    },
    "language_info": {
      "name": "python"
    }
  },
  "cells": [
    {
      "cell_type": "markdown",
      "metadata": {
        "id": "view-in-github",
        "colab_type": "text"
      },
      "source": [
        "<a href=\"https://colab.research.google.com/github/sahana0007/Leetcode/blob/main/1249_Minimum_Remove_to_Make_Valid_Parentheses.ipynb\" target=\"_parent\"><img src=\"https://colab.research.google.com/assets/colab-badge.svg\" alt=\"Open In Colab\"/></a>"
      ]
    },
    {
      "cell_type": "code",
      "execution_count": 9,
      "metadata": {
        "colab": {
          "base_uri": "https://localhost:8080/"
        },
        "id": "plkf7efp5cA9",
        "outputId": "fc60e6ed-cfaa-4833-a035-28fcf3bebb67"
      },
      "outputs": [
        {
          "output_type": "stream",
          "name": "stdout",
          "text": [
            "lee(t(c)o)de\n"
          ]
        }
      ],
      "source": [
        "class Solution:\n",
        "    def minRemoveToMakeValid(self, s: str) -> str:\n",
        "      S= list(s)\n",
        "      stack =[]\n",
        "\n",
        "      for i,a in enumerate(s):\n",
        "        if a ==\"(\":\n",
        "          stack.append(i) #storing the index value of 1st parenthesis\n",
        "        elif a ==\")\":\n",
        "          if stack:\n",
        "            stack.pop()\n",
        "          else:\n",
        "            S[i] = \"\"\n",
        "      for j in stack:\n",
        "        S[j] = \"\"\n",
        "      return \"\".join(S)\n",
        "\n",
        "s = \"lee(t(c)o)de)\"\n",
        "ob1 = Solution()\n",
        "print(ob1.minRemoveToMakeValid(s))"
      ]
    }
  ]
}