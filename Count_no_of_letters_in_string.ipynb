{
  "nbformat": 4,
  "nbformat_minor": 0,
  "metadata": {
    "colab": {
      "provenance": [],
      "authorship_tag": "ABX9TyNh0i9flIK7PWwwCyxvZh0h",
      "include_colab_link": true
    },
    "kernelspec": {
      "name": "python3",
      "display_name": "Python 3"
    },
    "language_info": {
      "name": "python"
    }
  },
  "cells": [
    {
      "cell_type": "markdown",
      "metadata": {
        "id": "view-in-github",
        "colab_type": "text"
      },
      "source": [
        "<a href=\"https://colab.research.google.com/github/sahana0007/Leetcode/blob/main/Count_no_of_letters_in_string.ipynb\" target=\"_parent\"><img src=\"https://colab.research.google.com/assets/colab-badge.svg\" alt=\"Open In Colab\"/></a>"
      ]
    },
    {
      "cell_type": "markdown",
      "source": [
        "Print no of characters using dict"
      ],
      "metadata": {
        "id": "smRCaPgtp5Go"
      }
    },
    {
      "cell_type": "code",
      "execution_count": 8,
      "metadata": {
        "colab": {
          "base_uri": "https://localhost:8080/"
        },
        "id": "q-f5Lp6Ch-vH",
        "outputId": "fdccfa8d-8c0a-47f9-91e7-aab17f4d37bd"
      },
      "outputs": [
        {
          "output_type": "stream",
          "name": "stdout",
          "text": [
            "Enter anythingyes i am late\n",
            "{' ': 3, 'a': 2, 'e': 2, 'i': 1, 'l': 1, 'm': 1, 's': 1, 't': 1, 'y': 1}\n"
          ]
        }
      ],
      "source": [
        "import pprint\n",
        "\n",
        "message = input(\"Enter anything\").strip()\n",
        "\n",
        "count= {}\n",
        "\n",
        "for i in message:\n",
        "  count.setdefault(i,0)\n",
        "  count[i] +=1\n",
        "\n",
        "rjtext= pprint.pformat(count)\n",
        "\n",
        "print(rjtext)"
      ]
    },
    {
      "cell_type": "markdown",
      "source": [
        "Print no of characters using set"
      ],
      "metadata": {
        "id": "1cl29b76p-37"
      }
    },
    {
      "cell_type": "code",
      "source": [
        "# Python program to count the number of distinct\n",
        "# characters present in the string str\n",
        "S = \"geeksforgeeks\"\n",
        "a=\"\"\n",
        "for i in S:\n",
        "# print(i)\n",
        "  if i not in a:\n",
        "    a+=i\n",
        "print(len(a))"
      ],
      "metadata": {
        "colab": {
          "base_uri": "https://localhost:8080/"
        },
        "id": "VtR25R3XqDPp",
        "outputId": "c06d8445-1ef9-4b8f-d3f5-82310d1c3e54"
      },
      "execution_count": 10,
      "outputs": [
        {
          "output_type": "stream",
          "name": "stdout",
          "text": [
            "7\n"
          ]
        }
      ]
    },
    {
      "cell_type": "code",
      "source": [
        "import pprint\n",
        "\n",
        "message = input(\"Enter anything\").strip()\n",
        "\n",
        "count= {}\n",
        "\n",
        "for i in message:\n",
        "  count[i] = count.get(i,0)\n",
        "  count[i] +=1\n",
        "\n",
        "rjtext= pprint.pformat(count)\n",
        "\n",
        "print(rjtext)\n"
      ],
      "metadata": {
        "colab": {
          "base_uri": "https://localhost:8080/"
        },
        "id": "Q49kGtTNq133",
        "outputId": "d92958b7-f3fb-4598-fef1-4888ed503fc8"
      },
      "execution_count": 11,
      "outputs": [
        {
          "output_type": "stream",
          "name": "stdout",
          "text": [
            "Enter anythingyes i\n",
            "{' ': 1, 'e': 1, 'i': 1, 's': 1, 'y': 1}\n"
          ]
        }
      ]
    }
  ]
}