{
  "nbformat": 4,
  "nbformat_minor": 0,
  "metadata": {
    "colab": {
      "name": "15. 3Sum- ipynb",
      "provenance": [],
      "authorship_tag": "ABX9TyOpRGmVP7CHvXr5q/AxwC8A",
      "include_colab_link": true
    },
    "kernelspec": {
      "name": "python3",
      "display_name": "Python 3"
    },
    "language_info": {
      "name": "python"
    }
  },
  "cells": [
    {
      "cell_type": "markdown",
      "metadata": {
        "id": "view-in-github",
        "colab_type": "text"
      },
      "source": [
        "<a href=\"https://colab.research.google.com/github/sahana0007/Leetcode/blob/main/15_3Sum_ipynb.ipynb\" target=\"_parent\"><img src=\"https://colab.research.google.com/assets/colab-badge.svg\" alt=\"Open In Colab\"/></a>"
      ]
    },
    {
      "cell_type": "code",
      "execution_count": null,
      "metadata": {
        "id": "9vp8YhuPQWYz"
      },
      "outputs": [],
      "source": [
        "class Solution:\n",
        "    def threeSum(self, nums: List[int]) -> List[List[int]]:\n",
        "        if len(nums) == 0 or (len(nums) == 1 and nums[0] == 0):\n",
        "            return []\n",
        "        \n",
        "        nums.sort()\n",
        "\n",
        "        result = set()\n",
        "        for idx, n in enumerate(nums):\n",
        "            left = idx + 1\n",
        "            right = len(nums) - 1\n",
        "            while left < right:\n",
        "                curSum = nums[left] + nums[idx] + nums[right]\n",
        "                if (curSum) == 0:\n",
        "                    result.add((nums[left], nums[idx], nums[right]))\n",
        "                    left += 1\n",
        "                    right -= 1\n",
        "                elif (curSum) < 0:\n",
        "                    left += 1\n",
        "                else:\n",
        "                    right -= 1\n",
        "        return result"
      ]
    }
  ]
}