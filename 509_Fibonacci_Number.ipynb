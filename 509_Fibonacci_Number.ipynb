{
  "nbformat": 4,
  "nbformat_minor": 0,
  "metadata": {
    "colab": {
      "name": "509. Fibonacci Number.ipynb",
      "provenance": [],
      "authorship_tag": "ABX9TyO0y4Sn6mpR5t94gl4nh3a0",
      "include_colab_link": true
    },
    "kernelspec": {
      "name": "python3",
      "display_name": "Python 3"
    },
    "language_info": {
      "name": "python"
    }
  },
  "cells": [
    {
      "cell_type": "markdown",
      "metadata": {
        "id": "view-in-github",
        "colab_type": "text"
      },
      "source": [
        "<a href=\"https://colab.research.google.com/github/sahana0007/Leetcode/blob/main/509_Fibonacci_Number.ipynb\" target=\"_parent\"><img src=\"https://colab.research.google.com/assets/colab-badge.svg\" alt=\"Open In Colab\"/></a>"
      ]
    },
    {
      "cell_type": "markdown",
      "source": [
        "Example: the 8th term is\n",
        "the 7th term plus the 6th term:\n",
        "\n",
        "\n",
        "x8 = x7 + x6\n",
        "\n"
      ],
      "metadata": {
        "id": "kK7EpTHjekDL"
      }
    },
    {
      "cell_type": "code",
      "source": [
        "class Solution:\n",
        "    def fib(self, n: int) -> int:\n",
        "      dict ={0:0, 1:1}\n",
        "\n",
        "      #creating a dictionary of fibonacci seq\n",
        "      for i in range(2,n+1):\n",
        "        dict[i] = dict[i-1] + dict[i-2]\n",
        "\n",
        "      return (dict[n])\n",
        "\n",
        "n = 7\n",
        "ob1 = Solution()\n",
        "print(ob1.fib(n))"
      ],
      "metadata": {
        "colab": {
          "base_uri": "https://localhost:8080/"
        },
        "id": "slV4X5BMaU--",
        "outputId": "555f2680-90f8-4591-e3b6-4ecfce54918d"
      },
      "execution_count": 4,
      "outputs": [
        {
          "output_type": "stream",
          "name": "stdout",
          "text": [
            "13\n"
          ]
        }
      ]
    },
    {
      "cell_type": "code",
      "execution_count": 3,
      "metadata": {
        "colab": {
          "base_uri": "https://localhost:8080/"
        },
        "id": "5haPRnPNUYJ0",
        "outputId": "cbbf063f-60ec-4223-fd53-e8737dced28c"
      },
      "outputs": [
        {
          "output_type": "stream",
          "name": "stdout",
          "text": [
            "21\n"
          ]
        }
      ],
      "source": [
        "class Solution:\n",
        "    def fib(self, n: int) -> int:\n",
        "      if n ==0:\n",
        "        return 0\n",
        "      if n==1:\n",
        "        return 1\n",
        "      return (self.fib(n-1) + self.fib(n-2))\n",
        "\n",
        "\n",
        "n = 8\n",
        "ob1 = Solution()\n",
        "print(ob1.fib(n))"
      ]
    }
  ]
}