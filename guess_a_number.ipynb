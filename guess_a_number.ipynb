{
  "nbformat": 4,
  "nbformat_minor": 0,
  "metadata": {
    "colab": {
      "provenance": [],
      "authorship_tag": "ABX9TyMURujlHkkrq+8imabBjzgi",
      "include_colab_link": true
    },
    "kernelspec": {
      "name": "python3",
      "display_name": "Python 3"
    },
    "language_info": {
      "name": "python"
    }
  },
  "cells": [
    {
      "cell_type": "markdown",
      "metadata": {
        "id": "view-in-github",
        "colab_type": "text"
      },
      "source": [
        "<a href=\"https://colab.research.google.com/github/sahana0007/Leetcode/blob/main/guess_a_number.ipynb\" target=\"_parent\"><img src=\"https://colab.research.google.com/assets/colab-badge.svg\" alt=\"Open In Colab\"/></a>"
      ]
    },
    {
      "cell_type": "code",
      "execution_count": 5,
      "metadata": {
        "colab": {
          "base_uri": "https://localhost:8080/"
        },
        "id": "7N2hDUmdYuIY",
        "outputId": "c401b8c4-7410-4d9c-8bad-9e6959f975f9"
      },
      "outputs": [
        {
          "output_type": "stream",
          "name": "stdout",
          "text": [
            "what's your nameSahana\n",
            "Well Sahana I am thinking of a no between 1-20 . Now your turn\n",
            "Take a guess\n",
            "20\n",
            "No is high\n",
            "Take a guess\n",
            "19\n",
            "No is high\n",
            "Take a guess\n",
            "1\n",
            "No is low\n",
            "Take a guess\n",
            "8\n",
            "No is low\n",
            "Take a guess\n",
            "20\n",
            "No is high\n",
            "Take a guess\n",
            "20\n",
            "No is high\n",
            "No I was thinking of the number : 16\n"
          ]
        }
      ],
      "source": [
        "import random\n",
        "\n",
        "name = input(\"what's your name\").strip()\n",
        "\n",
        "print('Well ' +name +' I am thinking of a no between 1-20 . Now your turn')\n",
        "\n",
        "secretNumber = random.randint(1,20)\n",
        "\n",
        "for i in range(1,7):\n",
        "  print('Take a guess')\n",
        "  guess = int(input())\n",
        "\n",
        "  if guess < secretNumber:\n",
        "    print('No is low')\n",
        "  elif guess > secretNumber:\n",
        "    print('No is high')\n",
        "  else:\n",
        "    break\n",
        "if secretNumber == guess:\n",
        "  print('Your guess is correct. Your number of guess is' +str(guess))\n",
        "\n",
        "else:\n",
        "  print('No I was thinking of the number : ' +str(secretNumber))\n"
      ]
    }
  ]
}