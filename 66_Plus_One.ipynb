{
  "nbformat": 4,
  "nbformat_minor": 0,
  "metadata": {
    "colab": {
      "name": "66. Plus One.ipynb",
      "provenance": [],
      "authorship_tag": "ABX9TyMjw3pWvp8gIWGwVy3waP43",
      "include_colab_link": true
    },
    "kernelspec": {
      "name": "python3",
      "display_name": "Python 3"
    },
    "language_info": {
      "name": "python"
    }
  },
  "cells": [
    {
      "cell_type": "markdown",
      "metadata": {
        "id": "view-in-github",
        "colab_type": "text"
      },
      "source": [
        "<a href=\"https://colab.research.google.com/github/sahana0007/Leetcode/blob/main/66_Plus_One.ipynb\" target=\"_parent\"><img src=\"https://colab.research.google.com/assets/colab-badge.svg\" alt=\"Open In Colab\"/></a>"
      ]
    },
    {
      "cell_type": "code",
      "execution_count": null,
      "metadata": {
        "colab": {
          "base_uri": "https://localhost:8080/"
        },
        "id": "r7xDs7Lj3be_",
        "outputId": "39a9407a-7678-4a25-f238-714c8c05c095"
      },
      "outputs": [
        {
          "output_type": "stream",
          "name": "stdout",
          "text": [
            "[1, 2, 4]\n"
          ]
        }
      ],
      "source": [
        "from typing import List\n",
        "class Solution:\n",
        "    def plusOne(self, digits: List[int]) -> List[int]:\n",
        "        \n",
        "        if len(digits) ==0:\n",
        "            return[1]\n",
        "        \n",
        "        if digits[-1]!=9:\n",
        "            digits[-1]+=1\n",
        "            return digits\n",
        "        else:\n",
        "            digits = self.plusOne(digits[:-1])\n",
        "            digits.append(0)\n",
        "            return digits\n",
        "\n",
        "digits = [1,2,3]\n",
        "ob1 = Solution()\n",
        "print(ob1.plusOne(digits))"
      ]
    }
  ]
}