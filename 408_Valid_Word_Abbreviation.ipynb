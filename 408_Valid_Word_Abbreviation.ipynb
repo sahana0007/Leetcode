{
  "nbformat": 4,
  "nbformat_minor": 0,
  "metadata": {
    "colab": {
      "name": "408. Valid Word Abbreviation.ipynb",
      "provenance": [],
      "authorship_tag": "ABX9TyMdDr+BMYqE3X3YT0icTTJ8",
      "include_colab_link": true
    },
    "kernelspec": {
      "name": "python3",
      "display_name": "Python 3"
    },
    "language_info": {
      "name": "python"
    }
  },
  "cells": [
    {
      "cell_type": "markdown",
      "metadata": {
        "id": "view-in-github",
        "colab_type": "text"
      },
      "source": [
        "<a href=\"https://colab.research.google.com/github/sahana0007/Leetcode/blob/main/408_Valid_Word_Abbreviation.ipynb\" target=\"_parent\"><img src=\"https://colab.research.google.com/assets/colab-badge.svg\" alt=\"Open In Colab\"/></a>"
      ]
    },
    {
      "cell_type": "markdown",
      "source": [
        "A string can be abbreviated by replacing any number of non-adjacent, non-empty substrings with their lengths. The lengths should not have leading zeros.\n",
        "\n",
        "For example, a string such as \"substitution\" could be abbreviated as (but not limited to):\n",
        "\n",
        "\"s10n\" (\"s ubstitutio n\")\n",
        "\"sub4u4\" (\"sub stit u tion\")\n",
        "\"12\" (\"substitution\")\n",
        "\"su3i1u2on\" (\"su bst i t u ti on\")\n",
        "\"substitution\" (no substrings replaced)\n",
        "The following are not valid abbreviations:\n",
        "\n",
        "\"s55n\" (\"s ubsti tutio n\", the replaced substrings are adjacent)\n",
        "\"s010n\" (has leading zeros)\n",
        "\"s0ubstitution\" (replaces an empty substring)\n",
        "Given a string word and an abbreviation abbr, return whether the string matches the given abbreviation.\n",
        "\n",
        "A substring is a contiguous non-empty sequence of characters within a string."
      ],
      "metadata": {
        "id": "4nxxQXVGhwJZ"
      }
    },
    {
      "cell_type": "markdown",
      "source": [
        "**Example** **1**:\n",
        "\n",
        "*Input*: word = \"internationalization\", abbr = \"i12iz4n\"\n",
        "\n",
        "*Output*: true "
      ],
      "metadata": {
        "id": "Yiy3OzLyoVIc"
      }
    },
    {
      "cell_type": "code",
      "execution_count": 19,
      "metadata": {
        "colab": {
          "base_uri": "https://localhost:8080/"
        },
        "id": "V-kbia2AhuIy",
        "outputId": "b7249cbf-ab58-487e-c457-c73f0c10f371"
      },
      "outputs": [
        {
          "output_type": "stream",
          "name": "stdout",
          "text": [
            "True\n"
          ]
        }
      ],
      "source": [
        "class Solution:\n",
        "    def validWordAbbreviation(self, word: str, abbr: str) -> bool:\n",
        "      word_ptr = abbr_ptr =0\n",
        "\n",
        "      while word_ptr < len(word) and abbr_ptr < len(abbr):\n",
        "        if abbr[abbr_ptr].isdigit():\n",
        "          steps =0\n",
        "          \n",
        "          if abbr[abbr_ptr] == \"0\":\n",
        "            return False\n",
        "           \n",
        "          while abbr_ptr < len(abbr) and abbr[abbr_ptr].isdigit():\n",
        "            steps = steps *10 + int(abbr[abbr_ptr])\n",
        "            abbr_ptr +=1\n",
        "          word_ptr +=steps\n",
        "        else:\n",
        "          if abbr[abbr_ptr] != word[word_ptr]:\n",
        "            return False\n",
        "          abbr_ptr +=1\n",
        "          word_ptr+=1\n",
        "      return True if word_ptr ==len(word) and abbr_ptr == len(abbr) else False\n",
        "\n",
        "word = \"internationalization\"\n",
        "abbr = \"i12iz4n\"\n",
        "ob1 = Solution()\n",
        "print(ob1.validWordAbbreviation(word,abbr))\n"
      ]
    },
    {
      "cell_type": "code",
      "source": [
        "class Solution:\n",
        "    def validWordAbbreviation(self, word: str, abbr: str) -> bool:\n",
        "        word_ptr = abbr_ptr =0\n",
        "        \n",
        "        while word_ptr < len(word) and abbr_ptr< len(abbr):\n",
        "            if abbr[abbr_ptr].isdigit():\n",
        "                steps =0\n",
        "                \n",
        "                if abbr[abbr_ptr] == \"0\":\n",
        "                    return False\n",
        "                \n",
        "                while abbr_ptr< len(abbr) and abbr[abbr_ptr].isdigit():\n",
        "                    steps = steps * 10 + int(abbr[abbr_ptr]) #parsing\n",
        "                    abbr_ptr+=1\n",
        "                word_ptr +=steps\n",
        "                \n",
        "            else:\n",
        "                if word[word_ptr] != abbr[abbr_ptr]:\n",
        "                    return False\n",
        "                word_ptr+=1\n",
        "                abbr_ptr+=1\n",
        "                \n",
        "        return True if word_ptr == len(word) and abbr_ptr ==len(abbr) else False\n",
        "\n",
        "word = \"apple\"\n",
        "abbr = \"a2e\"\n",
        "ob1 = Solution()\n",
        "print(ob1.validWordAbbreviation(word,abbr))"
      ],
      "metadata": {
        "colab": {
          "base_uri": "https://localhost:8080/"
        },
        "id": "EuE6UZVJteFb",
        "outputId": "5e612c33-8e88-4f25-ea50-0686bfd0945a"
      },
      "execution_count": 21,
      "outputs": [
        {
          "output_type": "stream",
          "name": "stdout",
          "text": [
            "False\n"
          ]
        }
      ]
    }
  ]
}