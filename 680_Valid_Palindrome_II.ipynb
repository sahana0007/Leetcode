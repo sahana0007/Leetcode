{
  "nbformat": 4,
  "nbformat_minor": 0,
  "metadata": {
    "colab": {
      "name": "680. Valid Palindrome II.ipynb",
      "provenance": [],
      "authorship_tag": "ABX9TyMfJDlovAgWJ1MyXHfjSNHQ",
      "include_colab_link": true
    },
    "kernelspec": {
      "name": "python3",
      "display_name": "Python 3"
    },
    "language_info": {
      "name": "python"
    }
  },
  "cells": [
    {
      "cell_type": "markdown",
      "metadata": {
        "id": "view-in-github",
        "colab_type": "text"
      },
      "source": [
        "<a href=\"https://colab.research.google.com/github/sahana0007/Leetcode/blob/main/680_Valid_Palindrome_II.ipynb\" target=\"_parent\"><img src=\"https://colab.research.google.com/assets/colab-badge.svg\" alt=\"Open In Colab\"/></a>"
      ]
    },
    {
      "cell_type": "code",
      "execution_count": 5,
      "metadata": {
        "colab": {
          "base_uri": "https://localhost:8080/"
        },
        "id": "Nh2_mA-bG7Sg",
        "outputId": "5a9206ff-b108-4721-ee3d-e6f1a13e59a0"
      },
      "outputs": [
        {
          "output_type": "stream",
          "name": "stdout",
          "text": [
            "True\n"
          ]
        }
      ],
      "source": [
        "class Solution:\n",
        "    def validPalindrome(self, s: str) -> bool:\n",
        "        \n",
        "        l , r = 0, len(s) -1\n",
        "        \n",
        "        def helperFunction(l,r):\n",
        "            while l<=r:\n",
        "                if s[l] != s[r]:\n",
        "                    return False\n",
        "                else:\n",
        "                    l+=1\n",
        "                    r-=1\n",
        "            return True\n",
        "        \n",
        "        \n",
        "        while l<=r:\n",
        "            if s[l] != s[r]:\n",
        "                return helperFunction(l+1, r) or helperFunction(l, r -1)\n",
        "            else:\n",
        "                l+=1\n",
        "                r-=1\n",
        "        return True\n",
        "\n",
        "input_list = \"abca\"\n",
        "ob1 = Solution()\n",
        "print(ob1.validPalindrome(input_list))"
      ]
    }
  ]
}