{
  "nbformat": 4,
  "nbformat_minor": 0,
  "metadata": {
    "colab": {
      "name": "557. Reverse Words in a String III.ipynb",
      "provenance": [],
      "authorship_tag": "ABX9TyMphM/G/CI7VkS4qEUNkSqE",
      "include_colab_link": true
    },
    "kernelspec": {
      "name": "python3",
      "display_name": "Python 3"
    },
    "language_info": {
      "name": "python"
    }
  },
  "cells": [
    {
      "cell_type": "markdown",
      "metadata": {
        "id": "view-in-github",
        "colab_type": "text"
      },
      "source": [
        "<a href=\"https://colab.research.google.com/github/sahana0007/Leetcode/blob/main/557_Reverse_Words_in_a_String_III.ipynb\" target=\"_parent\"><img src=\"https://colab.research.google.com/assets/colab-badge.svg\" alt=\"Open In Colab\"/></a>"
      ]
    },
    {
      "cell_type": "code",
      "execution_count": null,
      "metadata": {
        "id": "05JaRegRv6vR"
      },
      "outputs": [],
      "source": [
        "from typing import List\n",
        "class Solution:\n",
        "    def reverseWords(self, s: str) -> str:\n",
        "        \n",
        "        words = s.split(\" \")\n",
        "        result = []\n",
        "        \n",
        "        for i in words:\n",
        "            result.append(i[::-1])\n",
        "            result.append(\" \")\n",
        "            \n",
        "        return \"\".join(result).strip()\n",
        "\n",
        "\n",
        "\n",
        "'''\n",
        "\n",
        "#solution 2\n",
        "class Solution:\n",
        "    def reverseWords(self, s: str) -> str:\n",
        "        words = s.split()\n",
        "        res = \"\"\n",
        "        for word in words:\n",
        "            letters = list(word)\n",
        "            head, tail = 0, len(letters)-1\n",
        "            while head < tail:\n",
        "                letters[head],letters[tail] = letters[tail],letters[head]\n",
        "                head += 1\n",
        "                tail -= 1\n",
        "            res += \"\".join(letters) + \" \"\n",
        "        return res[:-1]\n",
        "\n",
        "\n",
        "#Solution 3:\n",
        "\n",
        "\n"
      ]
    }
  ]
}