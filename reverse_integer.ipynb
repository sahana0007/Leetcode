{
  "nbformat": 4,
  "nbformat_minor": 0,
  "metadata": {
    "colab": {
      "name": "reverse integer.ipynb",
      "provenance": [],
      "authorship_tag": "ABX9TyOK+ZfEWrkfSUXrPiIZM9kh",
      "include_colab_link": true
    },
    "kernelspec": {
      "name": "python3",
      "display_name": "Python 3"
    },
    "language_info": {
      "name": "python"
    }
  },
  "cells": [
    {
      "cell_type": "markdown",
      "metadata": {
        "id": "view-in-github",
        "colab_type": "text"
      },
      "source": [
        "<a href=\"https://colab.research.google.com/github/sahana0007/Leetcode/blob/main/reverse_integer.ipynb\" target=\"_parent\"><img src=\"https://colab.research.google.com/assets/colab-badge.svg\" alt=\"Open In Colab\"/></a>"
      ]
    },
    {
      "cell_type": "markdown",
      "source": [
        "Given a signed 32-bit integer x, return x with its digits reversed. If reversing x causes the value to go outside the signed 32-bit integer range [-2^31, 2^31 - 1], then return 0."
      ],
      "metadata": {
        "id": "wQbzmflYisxQ"
      }
    },
    {
      "cell_type": "code",
      "execution_count": 3,
      "metadata": {
        "colab": {
          "base_uri": "https://localhost:8080/"
        },
        "id": "V_wyogXUibJC",
        "outputId": "04020f8d-2ef4-49db-d05e-451d3c05d0aa"
      },
      "outputs": [
        {
          "output_type": "stream",
          "name": "stdout",
          "text": [
            "-9875\n"
          ]
        }
      ],
      "source": [
        "class Solution:\n",
        "  def reverse(self, x: int) -> int:\n",
        "    if x>=0:\n",
        "      s = str(x)\n",
        "    else:\n",
        "      s = str(abs(x))\n",
        "      s+='-'\n",
        "    num = int(s[::-1])\n",
        "    if -2**31<=num<=2**31-1:\n",
        "      return num\n",
        "    return 0\n",
        "\n",
        "input = -5789\n",
        "ob1 = Solution()\n",
        "print(ob1.reverse(input))\n",
        "        \n",
        "\n"
      ]
    }
  ]
}