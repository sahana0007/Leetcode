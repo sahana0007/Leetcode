{
  "nbformat": 4,
  "nbformat_minor": 0,
  "metadata": {
    "colab": {
      "name": "1408. String Matching in an Array.ipynb",
      "provenance": [],
      "collapsed_sections": [],
      "authorship_tag": "ABX9TyOAQ+UV7vY629jdlcre1TfR",
      "include_colab_link": true
    },
    "kernelspec": {
      "name": "python3",
      "display_name": "Python 3"
    },
    "language_info": {
      "name": "python"
    }
  },
  "cells": [
    {
      "cell_type": "markdown",
      "metadata": {
        "id": "view-in-github",
        "colab_type": "text"
      },
      "source": [
        "<a href=\"https://colab.research.google.com/github/sahana0007/Leetcode/blob/main/1408_String_Matching_in_an_Array.ipynb\" target=\"_parent\"><img src=\"https://colab.research.google.com/assets/colab-badge.svg\" alt=\"Open In Colab\"/></a>"
      ]
    },
    {
      "cell_type": "code",
      "execution_count": 4,
      "metadata": {
        "colab": {
          "base_uri": "https://localhost:8080/"
        },
        "id": "V-Zo3urycrdx",
        "outputId": "9bafd2b3-e43d-4325-fb0a-26a2f6c90139"
      },
      "outputs": [
        {
          "output_type": "stream",
          "name": "stdout",
          "text": [
            "{'as', 'hero'}\n"
          ]
        }
      ],
      "source": [
        "from typing import List\n",
        "class Solution:\n",
        "    def stringMatching(self, words: List[str]) -> List[str]:\n",
        "        ans = []\n",
        "        for i in words:\n",
        "            for j in words:\n",
        "                if i == j:\n",
        "                    continue\n",
        "                if j in i:\n",
        "                    ans.append(j)\n",
        "        return set(ans)\n",
        "\n",
        "words = [\"mass\",\"as\",\"hero\",\"superhero\"]\n",
        "ob1 = Solution()\n",
        "print(ob1.stringMatching(words))"
      ]
    },
    {
      "cell_type": "code",
      "source": [
        "class Solution:\n",
        "    def stringMatching(self, words: List[str]) -> List[str]:\n",
        "        n = len(words)\n",
        "        res = []\n",
        "        for i in range(n):\n",
        "            for j in range(n):\n",
        "                if i != j and words[i] in words[j]:\n",
        "                    res.append(words[i])\n",
        "                    break       \n",
        "        return res\n",
        "\n",
        "words = [\"mass\",\"ass\",\"hero\",\"superhero\", \"super\",\"her\"]\n",
        "ob1 = Solution()\n",
        "print(ob1.stringMatching(words))"
      ],
      "metadata": {
        "colab": {
          "base_uri": "https://localhost:8080/"
        },
        "id": "QoF2jbeCihwe",
        "outputId": "f83b280f-612e-496c-9e02-7872d5cede91"
      },
      "execution_count": 8,
      "outputs": [
        {
          "output_type": "stream",
          "name": "stdout",
          "text": [
            "['ass', 'hero', 'super', 'her']\n"
          ]
        }
      ]
    }
  ]
}