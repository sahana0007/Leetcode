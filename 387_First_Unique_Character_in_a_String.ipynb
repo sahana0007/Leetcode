{
  "nbformat": 4,
  "nbformat_minor": 0,
  "metadata": {
    "colab": {
      "name": "387. First Unique Character in a String.ipynb",
      "provenance": [],
      "collapsed_sections": [],
      "authorship_tag": "ABX9TyM+eXD7fPYkgP/suPaHIzsq",
      "include_colab_link": true
    },
    "kernelspec": {
      "name": "python3",
      "display_name": "Python 3"
    },
    "language_info": {
      "name": "python"
    }
  },
  "cells": [
    {
      "cell_type": "markdown",
      "metadata": {
        "id": "view-in-github",
        "colab_type": "text"
      },
      "source": [
        "<a href=\"https://colab.research.google.com/github/sahana0007/Leetcode/blob/main/387_First_Unique_Character_in_a_String.ipynb\" target=\"_parent\"><img src=\"https://colab.research.google.com/assets/colab-badge.svg\" alt=\"Open In Colab\"/></a>"
      ]
    },
    {
      "cell_type": "code",
      "execution_count": 5,
      "metadata": {
        "colab": {
          "base_uri": "https://localhost:8080/"
        },
        "id": "9cvlMNyYjClk",
        "outputId": "6212f5f9-eca4-42ae-92b0-0a4fa2655ef9"
      },
      "outputs": [
        {
          "output_type": "stream",
          "name": "stdout",
          "text": [
            "2\n"
          ]
        }
      ],
      "source": [
        "class Solution():\n",
        "  def fnpchar(self,s: str) -> int:\n",
        "    #building the hashmap\n",
        "\n",
        "    dict ={}\n",
        "    for i in range(len(s)):\n",
        "      if s[i] in dict.keys(): #if the key l is present in dict key then increment the value by 1\n",
        "        dict[s[i]] +=1\n",
        "      else:\n",
        "        dict[s[i]] =1\n",
        "\n",
        "    for i in range(len(s)):\n",
        "      if dict[s[i]] ==1:\n",
        "        return i\n",
        "    return -1\n",
        "\n",
        "\n",
        "input_list = \"eetcode\"\n",
        "ob1 = Solution()\n",
        "print(ob1.fnpchar(input_list))"
      ]
    }
  ]
}