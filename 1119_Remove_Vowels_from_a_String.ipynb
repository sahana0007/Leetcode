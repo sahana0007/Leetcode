{
  "nbformat": 4,
  "nbformat_minor": 0,
  "metadata": {
    "colab": {
      "name": "1119. Remove Vowels from a String.ipynb",
      "provenance": [],
      "authorship_tag": "ABX9TyMKubqSFD6YJ2sS1rIknhbc",
      "include_colab_link": true
    },
    "kernelspec": {
      "name": "python3",
      "display_name": "Python 3"
    },
    "language_info": {
      "name": "python"
    }
  },
  "cells": [
    {
      "cell_type": "markdown",
      "metadata": {
        "id": "view-in-github",
        "colab_type": "text"
      },
      "source": [
        "<a href=\"https://colab.research.google.com/github/sahana0007/Leetcode/blob/main/1119_Remove_Vowels_from_a_String.ipynb\" target=\"_parent\"><img src=\"https://colab.research.google.com/assets/colab-badge.svg\" alt=\"Open In Colab\"/></a>"
      ]
    },
    {
      "cell_type": "code",
      "execution_count": 2,
      "metadata": {
        "colab": {
          "base_uri": "https://localhost:8080/"
        },
        "id": "45srKEuBuJ9j",
        "outputId": "ef6a9bb8-b0ca-4c51-b12f-702b13d63a92"
      },
      "outputs": [
        {
          "output_type": "stream",
          "name": "stdout",
          "text": [
            "ltcdscmmntyfrcdrs\n"
          ]
        }
      ],
      "source": [
        "class Solution():\n",
        "  def removeVowels(self, s:str) -> str:\n",
        "    vowels = ['a', 'e', 'i', 'o', 'u']\n",
        "    res =[]\n",
        "    for i in range(len(s)):\n",
        "      if s[i] not in vowels:\n",
        "        res.append(s[i])\n",
        "      else:\n",
        "        continue\n",
        "    return \"\".join(res)\n",
        "\n",
        "input_list = \"leetcodeisacommunityforcoders\"\n",
        "ob1 = Solution()\n",
        "print(ob1.removeVowels(input_list))\n"
      ]
    }
  ]
}