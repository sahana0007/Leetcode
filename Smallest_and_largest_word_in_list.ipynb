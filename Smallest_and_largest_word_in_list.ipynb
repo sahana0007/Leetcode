{
  "nbformat": 4,
  "nbformat_minor": 0,
  "metadata": {
    "colab": {
      "name": "Smallest and largest word in list.ipynb",
      "provenance": [],
      "authorship_tag": "ABX9TyOQKAYebmkO9uokjQ8eIxVI",
      "include_colab_link": true
    },
    "kernelspec": {
      "name": "python3",
      "display_name": "Python 3"
    },
    "language_info": {
      "name": "python"
    }
  },
  "cells": [
    {
      "cell_type": "markdown",
      "metadata": {
        "id": "view-in-github",
        "colab_type": "text"
      },
      "source": [
        "<a href=\"https://colab.research.google.com/github/sahana0007/Leetcode/blob/main/Smallest_and_largest_word_in_list.ipynb\" target=\"_parent\"><img src=\"https://colab.research.google.com/assets/colab-badge.svg\" alt=\"Open In Colab\"/></a>"
      ]
    },
    {
      "cell_type": "markdown",
      "source": [
        "Find the Smallest word:\n",
        "\n",
        "\n",
        "\n"
      ],
      "metadata": {
        "id": "ob5gSc_YLqB6"
      }
    },
    {
      "cell_type": "code",
      "execution_count": 1,
      "metadata": {
        "colab": {
          "base_uri": "https://localhost:8080/"
        },
        "id": "U-RT22DVLesT",
        "outputId": "25a0779c-39b3-4bbb-df96-821162ff2cdd"
      },
      "outputs": [
        {
          "output_type": "stream",
          "name": "stdout",
          "text": [
            "flo\n"
          ]
        }
      ],
      "source": [
        "a = [\"flower\", \"hati\" ,\"batting\",\"flo\",\"kudos\"]\n",
        "#find the smallest word\n",
        "\n",
        "smallchar = float('inf')\n",
        "res = \"\"\n",
        "for i in range(len(a)):\n",
        "    if smallchar>len(a[i]):\n",
        "        smallchar = len(a[i])\n",
        "        res = a[i]\n",
        "print(res)"
      ]
    },
    {
      "cell_type": "markdown",
      "source": [
        "Find the Largest word"
      ],
      "metadata": {
        "id": "1WeLJkl6LsmK"
      }
    },
    {
      "cell_type": "code",
      "source": [
        "a = [\"flower\", \"hati\" ,\"batting\",\"flo\",\"kudos\"]\n",
        "#find the largest word\n",
        "\n",
        "maxchar = float('-inf')\n",
        "res = \"\"\n",
        "for i in range(len(a)):\n",
        "    if maxchar<len(a[i]):\n",
        "        maxchar = len(a[i])\n",
        "        res = a[i]\n",
        "print(res)"
      ],
      "metadata": {
        "colab": {
          "base_uri": "https://localhost:8080/"
        },
        "id": "MujfcgjdL9KA",
        "outputId": "168c6df7-787a-4406-8c5d-809bf9d7737d"
      },
      "execution_count": 2,
      "outputs": [
        {
          "output_type": "stream",
          "name": "stdout",
          "text": [
            "batting\n"
          ]
        }
      ]
    }
  ]
}