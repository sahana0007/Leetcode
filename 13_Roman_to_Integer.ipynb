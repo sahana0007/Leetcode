{
  "nbformat": 4,
  "nbformat_minor": 0,
  "metadata": {
    "colab": {
      "name": "13. Roman to Integer.ipynb",
      "provenance": [],
      "authorship_tag": "ABX9TyPF2Gv4RIE5sIWw3J9sGY1N",
      "include_colab_link": true
    },
    "kernelspec": {
      "name": "python3",
      "display_name": "Python 3"
    },
    "language_info": {
      "name": "python"
    }
  },
  "cells": [
    {
      "cell_type": "markdown",
      "metadata": {
        "id": "view-in-github",
        "colab_type": "text"
      },
      "source": [
        "<a href=\"https://colab.research.google.com/github/sahana0007/Leetcode/blob/main/13_Roman_to_Integer.ipynb\" target=\"_parent\"><img src=\"https://colab.research.google.com/assets/colab-badge.svg\" alt=\"Open In Colab\"/></a>"
      ]
    },
    {
      "cell_type": "code",
      "execution_count": 23,
      "metadata": {
        "colab": {
          "base_uri": "https://localhost:8080/"
        },
        "id": "EOrMrdBMwRin",
        "outputId": "dae293d9-5a2b-4fef-b448-296c9f324a4f"
      },
      "outputs": [
        {
          "output_type": "stream",
          "name": "stdout",
          "text": [
            "3\n"
          ]
        }
      ],
      "source": [
        "class Solution:\n",
        "    def romanToInt(self, s: str) -> int:\n",
        "        dictionary = {\"I\":1, \"V\":5, \"X\":10, \"L\":50, \"C\":100, \"D\":500, \"M\":1000}\n",
        "        res = 0\n",
        "        \n",
        "        for i in range(len(s)):\n",
        "            if i+1 < len(s) and dictionary[s[i]] < dictionary[s[i+1]]:\n",
        "                res -= dictionary[s[i]]\n",
        "            else:\n",
        "                res +=dictionary[s[i]]\n",
        "        return res\n",
        "\n",
        "input_list = \"III\"\n",
        "ob1 = Solution()\n",
        "print(ob1.romanToInt(input_list))"
      ]
    }
  ]
}