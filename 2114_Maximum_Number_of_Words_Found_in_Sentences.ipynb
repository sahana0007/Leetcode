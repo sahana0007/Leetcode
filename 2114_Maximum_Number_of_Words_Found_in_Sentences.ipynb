{
  "nbformat": 4,
  "nbformat_minor": 0,
  "metadata": {
    "colab": {
      "name": "2114. Maximum Number of Words Found in Sentences.ipynb",
      "provenance": [],
      "authorship_tag": "ABX9TyOuiyRmhhyGWz+4mabverG6",
      "include_colab_link": true
    },
    "kernelspec": {
      "name": "python3",
      "display_name": "Python 3"
    },
    "language_info": {
      "name": "python"
    }
  },
  "cells": [
    {
      "cell_type": "markdown",
      "metadata": {
        "id": "view-in-github",
        "colab_type": "text"
      },
      "source": [
        "<a href=\"https://colab.research.google.com/github/sahana0007/Leetcode/blob/main/2114_Maximum_Number_of_Words_Found_in_Sentences.ipynb\" target=\"_parent\"><img src=\"https://colab.research.google.com/assets/colab-badge.svg\" alt=\"Open In Colab\"/></a>"
      ]
    },
    {
      "cell_type": "code",
      "execution_count": 3,
      "metadata": {
        "colab": {
          "base_uri": "https://localhost:8080/"
        },
        "id": "BwFrqsoH77HD",
        "outputId": "bcdd7615-3661-4ed7-bf3e-8c6a54be822a"
      },
      "outputs": [
        {
          "output_type": "stream",
          "name": "stdout",
          "text": [
            "6\n"
          ]
        }
      ],
      "source": [
        "from typing import List\n",
        "class Solution:\n",
        "    def mostWordsFound(self, sentences: List[str]) -> int:\n",
        "        ans = 0\n",
        "        for i in sentences:\n",
        "            ans = max(ans,len(i.split()))\n",
        "        return ans\n",
        "\n",
        "input_list = [\"alice and bob love leetcode\", \"i think so too\", \"this is great thanks very much\"]\n",
        "ob1 = Solution()\n",
        "print(ob1.mostWordsFound(input_list))"
      ]
    }
  ]
}