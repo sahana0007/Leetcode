{
  "nbformat": 4,
  "nbformat_minor": 0,
  "metadata": {
    "colab": {
      "name": "15. 3Sum- ipynb",
      "provenance": [],
      "authorship_tag": "ABX9TyMbvHW+aM6Ecv0CTAnuKpUV",
      "include_colab_link": true
    },
    "kernelspec": {
      "name": "python3",
      "display_name": "Python 3"
    },
    "language_info": {
      "name": "python"
    }
  },
  "cells": [
    {
      "cell_type": "markdown",
      "metadata": {
        "id": "view-in-github",
        "colab_type": "text"
      },
      "source": [
        "<a href=\"https://colab.research.google.com/github/sahana0007/Leetcode/blob/main/15_3Sum_ipynb.ipynb\" target=\"_parent\"><img src=\"https://colab.research.google.com/assets/colab-badge.svg\" alt=\"Open In Colab\"/></a>"
      ]
    },
    {
      "cell_type": "code",
      "execution_count": 4,
      "metadata": {
        "id": "9vp8YhuPQWYz",
        "colab": {
          "base_uri": "https://localhost:8080/"
        },
        "outputId": "7a24f765-88b8-436b-c0eb-b2b0685386b9"
      },
      "outputs": [
        {
          "output_type": "stream",
          "name": "stdout",
          "text": [
            "[[-9, 0, 9]]\n"
          ]
        }
      ],
      "source": [
        "#[-3,-3,4,3,1,2]\n",
        "from typing import List\n",
        "\n",
        "class Solution:\n",
        "    def threeSum(self, nums: List[int]) -> List[List[int]]:\n",
        "        \n",
        "        res = []\n",
        "        nums.sort()\n",
        "        #[-3,-3,1,2,3,4]\n",
        "\n",
        "        for i, a in enumerate(nums):\n",
        "          if i>0 and a == nums(i-1): #we donot want to use same value twice\n",
        "            continue\n",
        "          \n",
        "          l , r = i+1, len(nums) -1\n",
        "\n",
        "          while l<r:\n",
        "            threesum = a + nums[l] +nums[r]\n",
        "\n",
        "            if threesum > 0:\n",
        "              r-=1\n",
        "            elif threesum < 0:\n",
        "              l+=1\n",
        "            else:\n",
        "              res.append([a, nums[l], nums[r]])\n",
        "              l+=1\n",
        "\n",
        "              while nums[l] == nums[l - 1]  and l<r:\n",
        "                l+=1\n",
        "          return res\n",
        "\n",
        "input_list = [-6,-8,-9,0,9,6,2]\n",
        "ob1 = Solution()\n",
        "print(ob1.threeSum(input_list))\n",
        "\n",
        "\n",
        "\n"
      ]
    }
  ]
}