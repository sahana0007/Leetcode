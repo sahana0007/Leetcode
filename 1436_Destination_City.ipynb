{
  "nbformat": 4,
  "nbformat_minor": 0,
  "metadata": {
    "colab": {
      "name": "1436. Destination City.ipynb",
      "provenance": [],
      "authorship_tag": "ABX9TyPBMwlRF9ITQ/s+B9TU0eXa",
      "include_colab_link": true
    },
    "kernelspec": {
      "name": "python3",
      "display_name": "Python 3"
    },
    "language_info": {
      "name": "python"
    }
  },
  "cells": [
    {
      "cell_type": "markdown",
      "metadata": {
        "id": "view-in-github",
        "colab_type": "text"
      },
      "source": [
        "<a href=\"https://colab.research.google.com/github/sahana0007/Leetcode/blob/main/1436_Destination_City.ipynb\" target=\"_parent\"><img src=\"https://colab.research.google.com/assets/colab-badge.svg\" alt=\"Open In Colab\"/></a>"
      ]
    },
    {
      "cell_type": "markdown",
      "source": [
        "You are given the array paths, where paths[i] = [cityAi, cityBi] means there exists a direct path going from cityAi to cityBi. Return the destination city, that is, the city without any path outgoing to another city.\n",
        "\n",
        "It is guaranteed that the graph of paths forms a line without any loop, therefore, there will be exactly one destination city."
      ],
      "metadata": {
        "id": "bJkVwY1C_QHX"
      }
    },
    {
      "cell_type": "code",
      "execution_count": 14,
      "metadata": {
        "colab": {
          "base_uri": "https://localhost:8080/"
        },
        "id": "z3q8IBWp6tfx",
        "outputId": "82e351a5-be99-4993-a2f6-ba6578a59b86"
      },
      "outputs": [
        {
          "output_type": "stream",
          "name": "stdout",
          "text": [
            "paths [['London', 'New York'], ['New York', 'Lima'], ['Lima', 'Sao Paulo']]\n",
            "startCity ['London', 'New York', 'Lima']\n",
            "endCity ['New York', 'Lima', 'Sao Paulo']\n",
            "Sao Paulo\n"
          ]
        }
      ],
      "source": [
        "from typing import List\n",
        "\n",
        "class Solution:\n",
        "    def destCity(self, paths: List[List[str]]) -> str:\n",
        "      startCity ,endCity = [], []\n",
        "\n",
        "      for i in paths:\n",
        "         startCity.append(i[0])\n",
        "         endCity.append(i[1])\n",
        "         \n",
        "      print(\"paths\", paths)\n",
        "      print(\"startCity\", startCity)\n",
        "      print(\"endCity\", endCity)\n",
        "\n",
        "      for i in range(len(endCity)):\n",
        "        if endCity[i] not in startCity:\n",
        "          return endCity[i]\n",
        "         \n",
        "\n",
        "paths = [[\"London\",\"New York\"],[\"New York\",\"Lima\"],[\"Lima\",\"Sao Paulo\"]]\n",
        "ob1 = Solution()\n",
        "print(ob1.destCity(paths))"
      ]
    },
    {
      "cell_type": "code",
      "source": [
        "from typing import List\n",
        "\n",
        "class Solution:\n",
        "    def destCity(self, paths: List[List[str]]) -> str:\n",
        "      start = set(i[0] for i in paths)\n",
        "      end = set(i[1] for i in paths)\n",
        "      \n",
        "      return list(end -start)[0]\n",
        "\n",
        "\n",
        "\n",
        "paths = [[\"London\",\"New York\"],[\"New York\",\"Lima\"],[\"Lima\",\"Sao Paulo\"]]\n",
        "ob1 = Solution()\n",
        "print(ob1.destCity(paths))"
      ],
      "metadata": {
        "colab": {
          "base_uri": "https://localhost:8080/"
        },
        "id": "19cTrWhz-hQR",
        "outputId": "e7e474bf-37ee-48ac-aee4-a65f461945c2"
      },
      "execution_count": 13,
      "outputs": [
        {
          "output_type": "stream",
          "name": "stdout",
          "text": [
            "Sao Paulo\n"
          ]
        }
      ]
    }
  ]
}