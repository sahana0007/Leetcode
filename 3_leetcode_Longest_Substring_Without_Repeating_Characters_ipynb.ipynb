{
  "nbformat": 4,
  "nbformat_minor": 0,
  "metadata": {
    "colab": {
      "name": "3. leetcode : Longest Substring Without Repeating Characters.ipynb.ipynb",
      "provenance": [],
      "authorship_tag": "ABX9TyOcUeCpSSfXhGT67EC83WKN",
      "include_colab_link": true
    },
    "kernelspec": {
      "name": "python3",
      "display_name": "Python 3"
    },
    "language_info": {
      "name": "python"
    }
  },
  "cells": [
    {
      "cell_type": "markdown",
      "metadata": {
        "id": "view-in-github",
        "colab_type": "text"
      },
      "source": [
        "<a href=\"https://colab.research.google.com/github/sahana0007/Leetcode/blob/main/3_leetcode_Longest_Substring_Without_Repeating_Characters_ipynb.ipynb\" target=\"_parent\"><img src=\"https://colab.research.google.com/assets/colab-badge.svg\" alt=\"Open In Colab\"/></a>"
      ]
    },
    {
      "cell_type": "code",
      "execution_count": 20,
      "metadata": {
        "colab": {
          "base_uri": "https://localhost:8080/"
        },
        "id": "oY-W3kBiIre2",
        "outputId": "62a30b14-ce98-4c88-c0ee-08b5b327de14"
      },
      "outputs": [
        {
          "output_type": "stream",
          "name": "stdout",
          "text": [
            "3\n"
          ]
        }
      ],
      "source": [
        "#pwwabcd\n",
        "#smallest substring non repeated\n",
        "\n",
        "class Solution:\n",
        "  def lengthOfLongestSubstring(self, s: str) -> int:\n",
        "    i, j , maxchar = 0, 0, 0\n",
        "\n",
        "    d={}\n",
        "    while j<len(s):\n",
        "      if s[j] in d:\n",
        "        d[s[j]]+=1 #incrementing the count of j as its already present\n",
        "      else:\n",
        "        d[s[j]]=1 #putting value of the key's value as 1\n",
        "\n",
        "      if len(d) == j-i +1:\n",
        "        maxchar = max(maxchar,j-i+1)\n",
        "\n",
        "      if len(d) < j-i +1:\n",
        "        while len(d) < j-i +1:\n",
        "          d[s[i]] -=1 #decrementing the count of i as it is a repeating character\n",
        "\n",
        "          if d[s[i]] ==0:\n",
        "            del d[s[i]]\n",
        "          i+=1\n",
        "      j+=1\n",
        "    return maxchar\n",
        "\n",
        "s = \"pwwkew\"\n",
        "ob1 = Solution()\n",
        "print(ob1.lengthOfLongestSubstring(s))"
      ]
    }
  ]
}